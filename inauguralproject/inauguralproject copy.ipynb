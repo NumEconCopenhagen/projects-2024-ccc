{
 "cells": [
  {
   "cell_type": "markdown",
   "metadata": {},
   "source": [
    "# Inaugural Project"
   ]
  },
  {
   "attachments": {},
   "cell_type": "markdown",
   "metadata": {},
   "source": [
    "> **Note the following:** \n",
    "> 1. This is an example of how to structure your **inaugural project**.\n",
    "> 1. Remember the general advice on structuring and commenting your code\n",
    "> 1. The `inauguralproject.py` file includes a function which can be used multiple times in this notebook."
   ]
  },
  {
   "cell_type": "markdown",
   "metadata": {},
   "source": [
    "Imports and set magics:"
   ]
  },
  {
   "cell_type": "code",
   "execution_count": 12,
   "metadata": {},
   "outputs": [
    {
     "name": "stdout",
     "output_type": "stream",
     "text": [
      "The autoreload extension is already loaded. To reload it, use:\n",
      "  %reload_ext autoreload\n"
     ]
    }
   ],
   "source": [
    "import numpy as np\n",
    "\n",
    "# autoreload modules when code is run. Otherwise, python will not see recent changes. \n",
    "%load_ext autoreload\n",
    "%autoreload 2\n",
    "\n",
    "# Import your own code\n",
    "import inauguralproject\n",
    "from ExchangeEconomy import ExchangeEconomyClass\n"
   ]
  },
  {
   "cell_type": "markdown",
   "metadata": {},
   "source": [
    "# Question 1"
   ]
  },
  {
   "cell_type": "markdown",
   "metadata": {},
   "source": [
    "Code is explained throughout.\n",
    "Evereything within the blue area is pareto improvements."
   ]
  },
  {
   "cell_type": "code",
   "execution_count": 13,
   "metadata": {},
   "outputs": [
    {
     "data": {
      "image/png": "[encoded data removed]",
      "text/plain": [
       "<Figure size 600x600 with 1 Axes>"
      ]
     },
     "metadata": {},
     "output_type": "display_data"
    }
   ],
   "source": [
    "# code for solving the model (remember documentation and comments)\n",
    "import matplotlib.pyplot as plt\n",
    "\n",
    "# Constants\n",
    "alpha = 1/3\n",
    "beta = 2/3\n",
    "w1A = 0.8\n",
    "w2A = 0.3\n",
    "w1B = 1 - w1A\n",
    "w2B = 1 - w2A\n",
    "N = 75\n",
    "\n",
    "# Utility functions\n",
    "def uA(x1A, x2A):\n",
    "    return x1A ** alpha * (x2A ** (1 - alpha))\n",
    "\n",
    "def uB(x1B, x2B):\n",
    "    return (x1B * beta) * (x2B * (1 - beta))\n",
    "\n",
    "# Initial utilities\n",
    "uA_initial = uA(w1A, w2A)\n",
    "uB_initial = uB(w1B, w2B)\n",
    "\n",
    "# Edgeworth box setup\n",
    "x1A_vals = np.linspace(0, 1, N)\n",
    "x2A_vals = np.linspace(0, 1, N)\n",
    "x1A_mesh, x2A_mesh = np.meshgrid(x1A_vals, x2A_vals)\n",
    "\n",
    "# Find the pairs that satisfy the utility conditions\n",
    "pareto_improvements = np.zeros(x1A_mesh.shape)\n",
    "for i in range(N):\n",
    "    for j in range(N):\n",
    "        if uA(x1A_mesh[i, j], x2A_mesh[i, j]) >= uA_initial and uB(1 - x1A_mesh[i, j], 1 - x2A_mesh[i, j]) >= uB_initial:\n",
    "            pareto_improvements[i, j] = 1\n",
    "\n",
    "# Plot\n",
    "plt.figure(figsize=(6, 6))\n",
    "plt.contourf(x1A_mesh, x2A_mesh, pareto_improvements, cmap='Blues', levels=[0.5, 1], alpha=0.5)\n",
    "plt.plot(w1A, w2A, 'ro')  # Endowment point\n",
    "plt.xlabel('$x_1^A$')\n",
    "plt.ylabel('$x_2^A$')\n",
    "plt.title('Pareto improvements in the Edgeworth Box')\n",
    "plt.grid(True)\n",
    "plt.show()"
   ]
  },
  {
   "cell_type": "markdown",
   "metadata": {},
   "source": [
    "# Question 2"
   ]
  },
  {
   "cell_type": "markdown",
   "metadata": {},
   "source": [
    "We weren't able to import the exchange economy class, so we pasted it instead and used it to calculate the market clearing errors."
   ]
  },
  {
   "cell_type": "code",
   "execution_count": 14,
   "metadata": {},
   "outputs": [
    {
     "name": "stdout",
     "output_type": "stream",
     "text": [
      "p1, Market clearing error for good 1, Market clearing error for good 2\n",
      "0.50, 0.5333, -0.2667\n",
      "0.53, 0.4752, -0.2505\n",
      "0.55, 0.4228, -0.2342\n",
      "0.58, 0.3752, -0.2180\n",
      "0.61, 0.3319, -0.2018\n",
      "0.64, 0.2922, -0.1856\n",
      "0.66, 0.2558, -0.1694\n",
      "0.69, 0.2222, -0.1532\n",
      "0.72, 0.1912, -0.1369\n",
      "0.74, 0.1624, -0.1207\n",
      "0.77, 0.1357, -0.1045\n",
      "0.80, 0.1107, -0.0883\n",
      "0.82, 0.0874, -0.0721\n",
      "0.85, 0.0656, -0.0559\n",
      "0.88, 0.0451, -0.0396\n",
      "0.91, 0.0259, -0.0234\n",
      "0.93, 0.0077, -0.0072\n",
      "0.96, -0.0094, 0.0090\n",
      "0.99, -0.0256, 0.0252\n",
      "1.01, -0.0409, 0.0414\n",
      "1.04, -0.0554, 0.0577\n",
      "1.07, -0.0692, 0.0739\n",
      "1.09, -0.0823, 0.0901\n",
      "1.12, -0.0948, 0.1063\n",
      "1.15, -0.1067, 0.1225\n",
      "1.18, -0.1180, 0.1387\n",
      "1.20, -0.1288, 0.1550\n",
      "1.23, -0.1392, 0.1712\n",
      "1.26, -0.1491, 0.1874\n",
      "1.28, -0.1586, 0.2036\n",
      "1.31, -0.1677, 0.2198\n",
      "1.34, -0.1764, 0.2360\n",
      "1.36, -0.1848, 0.2523\n",
      "1.39, -0.1929, 0.2685\n",
      "1.42, -0.2006, 0.2847\n",
      "1.45, -0.2081, 0.3009\n",
      "1.47, -0.2153, 0.3171\n",
      "1.50, -0.2222, 0.3333\n",
      "1.53, -0.2289, 0.3495\n",
      "1.55, -0.2354, 0.3658\n",
      "1.58, -0.2416, 0.3820\n",
      "1.61, -0.2476, 0.3982\n",
      "1.64, -0.2534, 0.4144\n",
      "1.66, -0.2591, 0.4306\n",
      "1.69, -0.2645, 0.4468\n",
      "1.72, -0.2698, 0.4631\n",
      "1.74, -0.2749, 0.4793\n",
      "1.77, -0.2799, 0.4955\n",
      "1.80, -0.2847, 0.5117\n",
      "1.82, -0.2894, 0.5279\n",
      "1.85, -0.2939, 0.5441\n",
      "1.88, -0.2983, 0.5604\n",
      "1.91, -0.3026, 0.5766\n",
      "1.93, -0.3068, 0.5928\n",
      "1.96, -0.3108, 0.6090\n",
      "1.99, -0.3147, 0.6252\n",
      "2.01, -0.3186, 0.6414\n",
      "2.04, -0.3223, 0.6577\n",
      "2.07, -0.3259, 0.6739\n",
      "2.09, -0.3295, 0.6901\n",
      "2.12, -0.3329, 0.7063\n",
      "2.15, -0.3363, 0.7225\n",
      "2.18, -0.3395, 0.7387\n",
      "2.20, -0.3427, 0.7550\n",
      "2.23, -0.3459, 0.7712\n",
      "2.26, -0.3489, 0.7874\n",
      "2.28, -0.3519, 0.8036\n",
      "2.31, -0.3548, 0.8198\n",
      "2.34, -0.3576, 0.8360\n",
      "2.36, -0.3604, 0.8523\n",
      "2.39, -0.3631, 0.8685\n",
      "2.42, -0.3657, 0.8847\n",
      "2.45, -0.3683, 0.9009\n",
      "2.47, -0.3709, 0.9171\n",
      "2.50, -0.3733, 0.9333\n"
     ]
    }
   ],
   "source": [
    "from types import SimpleNamespace\n",
    "\n",
    "class ExchangeEconomyClass:\n",
    "\n",
    "    def __init__(self):\n",
    "        # Parameters\n",
    "        par = self.par = SimpleNamespace()\n",
    "\n",
    "        # Preferences\n",
    "        par.alpha = 1/3\n",
    "        par.beta = 2/3\n",
    "\n",
    "        # Endowments\n",
    "        par.w1A = 0.8\n",
    "        par.w2A = 0.3\n",
    "\n",
    "    def utility_A(self, x1A, x2A):\n",
    "        # Utility function for consumer A\n",
    "        return (x1A * self.par.alpha) * (x2A * (1 - self.par.alpha))\n",
    "\n",
    "    def utility_B(self, x1B, x2B):\n",
    "        # Utility function for consumer B\n",
    "        return (x1B * self.par.beta) * (x2B * (1 - self.par.beta))\n",
    "\n",
    "    def demand_A(self, p1, p2=1):\n",
    "        # Demand function for consumer A\n",
    "        I_A = self.par.w1A * p1 + self.par.w2A * p2\n",
    "        x1A = self.par.alpha * I_A / p1\n",
    "        x2A = (1 - self.par.alpha) * I_A / p2\n",
    "        return x1A, x2A\n",
    "\n",
    "    def demand_B(self, p1, p2=1):\n",
    "        # Demand function for consumer B\n",
    "        I_B = (1 - self.par.w1A) * p1 + (1 - self.par.w2A) * p2\n",
    "        x1B = self.par.beta * I_B / p1\n",
    "        x2B = (1 - self.par.beta) * I_B / p2\n",
    "        return x1B, x2B\n",
    "\n",
    "    def check_market_clearing(self, p1):\n",
    "        # Check market clearing conditions\n",
    "        x1A, x2A = self.demand_A(p1)\n",
    "        x1B, x2B = self.demand_B(p1)\n",
    "        eps1 = x1A - self.par.w1A + x1B - (1 - self.par.w1A)\n",
    "        eps2 = x2A - self.par.w2A + x2B - (1 - self.par.w2A)\n",
    "        return eps1, eps2\n",
    "\n",
    "# Now, use the model to calculate market clearing errors for a range of prices p1\n",
    "model = ExchangeEconomyClass()\n",
    "N = 75\n",
    "p1_values = np.linspace(0.5, 2.5, N)\n",
    "market_clearing_errors = []\n",
    "\n",
    "for p1 in p1_values:\n",
    "    eps1, eps2 = model.check_market_clearing(p1)\n",
    "    market_clearing_errors.append((p1, eps1, eps2))\n",
    "\n",
    "# Display the results\n",
    "print(\"p1, Market clearing error for good 1, Market clearing error for good 2\")\n",
    "for p1, eps1, eps2 in market_clearing_errors:\n",
    "    print(f'{p1:.2f}, {eps1:.4f}, {eps2:.4f}')"
   ]
  },
  {
   "cell_type": "markdown",
   "metadata": {},
   "source": [
    "# Question 3"
   ]
  },
  {
   "cell_type": "markdown",
   "metadata": {},
   "source": [
    "We find that the market-clearing price p1 is approximately: 0.93"
   ]
  },
  {
   "cell_type": "code",
   "execution_count": 15,
   "metadata": {},
   "outputs": [
    {
     "name": "stdout",
     "output_type": "stream",
     "text": [
      "The market-clearing price p1 is approximately: 0.93\n"
     ]
    }
   ],
   "source": [
    "# Initialize variables to store the best (smallest) error and corresponding p1\n",
    "best_error = float('inf')  # Set initial best error to be infinitely large\n",
    "best_p1 = None  # Initialize best p1 as None\n",
    "\n",
    "# Go through each price and its errors\n",
    "for p1, eps1, eps2 in market_clearing_errors:\n",
    "    total_error = abs(eps1) + abs(eps2)  # Combine the absolute errors\n",
    "    if total_error < best_error:\n",
    "        best_error = total_error\n",
    "        best_p1 = p1\n",
    "\n",
    "# Print the market-clearing price\n",
    "print(f'The market-clearing price p1 is approximately: {best_p1:.2f}')"
   ]
  },
  {
   "cell_type": "markdown",
   "metadata": {},
   "source": [
    "# Question 4a"
   ]
  },
  {
   "cell_type": "markdown",
   "metadata": {},
   "source": [
    "We find the best allocation under given constraints"
   ]
  },
  {
   "cell_type": "code",
   "execution_count": 16,
   "metadata": {},
   "outputs": [
    {
     "name": "stdout",
     "output_type": "stream",
     "text": [
      "Best price p1 for A to choose: 2.50\n",
      "Best allocation for A (x1A, x2A): (0.68, 0.60)\n",
      "Maximized utility for A: 0.0907\n"
     ]
    }
   ],
   "source": [
    "# Assuming the ExchangeEconomyClass and model are already defined as before\n",
    "\n",
    "# Define the price range for P1\n",
    "N = 75\n",
    "p1_values = np.linspace(0.5, 2.5, N)\n",
    "max_utility = -np.inf  # Start with a very low utility value\n",
    "best_p1 = None  # Best price is unknown initially\n",
    "best_allocation = None  # Best allocation is unknown initially\n",
    "\n",
    "for p1 in p1_values:\n",
    "    x1B, x2B = model.demand_B(p1)\n",
    "    # Consumer A gets whatever is left after B's consumption\n",
    "    x1A = 1 - x1B\n",
    "    x2A = 1 - x2B\n",
    "    # Calculate A's utility for this allocation\n",
    "    utility = model.utility_A(x1A, x2A)\n",
    "    # Check if this utility is better than the best one found so far\n",
    "    if utility > max_utility:\n",
    "        max_utility = utility\n",
    "        best_p1 = p1\n",
    "        best_allocation = (x1A, x2A)\n",
    "\n",
    "# Display the results\n",
    "print(f'Best price p1 for A to choose: {best_p1:.2f}')\n",
    "print(f'Best allocation for A (x1A, x2A): ({best_allocation[0]:.2f}, {best_allocation[1]:.2f})')\n",
    "print(f'Maximized utility for A: {max_utility:.4f}')"
   ]
  },
  {
   "cell_type": "markdown",
   "metadata": {},
   "source": [
    "# Question 4b"
   ]
  },
  {
   "cell_type": "markdown",
   "metadata": {},
   "source": [
    "insert code and explain "
   ]
  },
  {
   "cell_type": "code",
   "execution_count": 24,
   "metadata": {},
   "outputs": [
    {
     "name": "stdout",
     "output_type": "stream",
     "text": [
      "Optimal p1 (continuous): 10.0\n",
      "Maximum utility for A (continuous): 2.038497429247681\n",
      "Optimal demand for A: x1_A = 0.27666666666666667, x2_A = 5.533333333333334\n",
      "Optimal demand for B: x1_B = 0.17999999999999994, x2_B = 0.8999999999999999\n"
     ]
    }
   ],
   "source": [
    "# Parameters\n",
    "alpha = 1 / 3\n",
    "beta = 2 / 3\n",
    "omega_A1 = 0.8\n",
    "omega_A2 = 0.3\n",
    "omega_B1 = 1 - omega_A1\n",
    "omega_B2 = 1 - omega_A2\n",
    "\n",
    "def utility_A(x1, x2):\n",
    "    return (x1 ** alpha) * (x2 ** (1 - alpha))\n",
    "\n",
    "def utility_B(x1, x2):\n",
    "    return (x1 ** beta) * (x2 ** (1 - beta))\n",
    "\n",
    "# Demand functions\n",
    "def demand_A(p1, p2, omega_A1, omega_A2, alpha):\n",
    "    x1_A = alpha * (p1 * omega_A1 + p2 * omega_A2) / p1\n",
    "    x2_A = (1 - alpha) * (p1 * omega_A1 + p2 * omega_A2) / p2\n",
    "    return x1_A, x2_A\n",
    "\n",
    "def demand_B(p1, p2, omega_B1, omega_B2, beta):\n",
    "    x1_B = beta * (p1 * omega_B1 + p2 * omega_B2) / p1\n",
    "    x2_B = (1 - beta) * (p1 * omega_B1 + p2 * omega_B2) / p2\n",
    "    return x1_B, x2_B\n",
    "\n",
    "# Objective function to maximize A's utility\n",
    "def objective(p1):\n",
    "    x1_A, x2_A = demand_A(p1, 1, omega_A1, omega_A2, alpha)\n",
    "    return -utility_A(x1_A, x2_A)\n",
    "\n",
    "# Bounds for the price p1\n",
    "bounds = [(0.01, 10)]\n",
    "\n",
    "# Initial guess for the price p1\n",
    "p1_initial = 1\n",
    "\n",
    "# Perform the optimization\n",
    "result = minimize(objective, p1_initial, bounds=bounds)\n",
    "optimal_p1_continuous = result.x[0]\n",
    "max_utility_A_continuous = -result.fun\n",
    "\n",
    "print(f'Optimal p1 (continuous): {optimal_p1_continuous}')\n",
    "print(f'Maximum utility for A (continuous): {max_utility_A_continuous}')\n",
    "\n",
    "# Corresponding demands\n",
    "optimal_demand_A = demand_A(optimal_p1_continuous, 1, omega_A1, omega_A2, alpha)\n",
    "optimal_demand_B = demand_B(optimal_p1_continuous, 1, omega_B1, omega_B2, beta)\n",
    "\n",
    "print(f'Optimal demand for A: x1_A = {optimal_demand_A[0]}, x2_A = {optimal_demand_A[1]}')\n",
    "print(f'Optimal demand for B: x1_B = {optimal_demand_B[0]}, x2_B = {optimal_demand_B[1]}')\n"
   ]
  },
  {
   "cell_type": "markdown",
   "metadata": {},
   "source": [
    "# Question 5a"
   ]
  },
  {
   "cell_type": "markdown",
   "metadata": {},
   "source": [
    "We find the best allocation under given constraints"
   ]
  },
  {
   "cell_type": "code",
   "execution_count": 18,
   "metadata": {},
   "outputs": [
    {
     "name": "stdout",
     "output_type": "stream",
     "text": [
      "Optimal allocation for A within set C: x1_A = 0.5810810810810811, x2_A = 0.8378378378378379\n",
      "Maximum utility for A within set C: 0.741627044262768\n"
     ]
    }
   ],
   "source": [
    "import numpy as np\n",
    "import matplotlib.pyplot as plt\n",
    "\n",
    "# Parameters\n",
    "alpha = 1 / 3\n",
    "beta = 2 / 3\n",
    "omega_A1 = 0.8\n",
    "omega_A2 = 0.3\n",
    "omega_B1 = 1 - omega_A1\n",
    "omega_B2 = 1 - omega_A2\n",
    "N = 75\n",
    "\n",
    "def utility_A(x1, x2):\n",
    "    return (x1 ** alpha) * (x2 ** (1 - alpha))\n",
    "\n",
    "def utility_B(x1, x2):\n",
    "    return (x1 ** beta) * (x2 ** (1 - beta))\n",
    "\n",
    "uA_initial = utility_A(omega_A1, omega_A2)\n",
    "uB_initial = utility_B(omega_B1, omega_B2)\n",
    "\n",
    "x1_A_values = np.linspace(0, 1, N)\n",
    "x2_A_values = np.linspace(0, 1, N)\n",
    "C_set = []\n",
    "\n",
    "# Find the set C\n",
    "for x1_A in x1_A_values:\n",
    "    for x2_A in x2_A_values:\n",
    "        x1_B = 1 - x1_A\n",
    "        x2_B = 1 - x2_A\n",
    "        if utility_A(x1_A, x2_A) >= uA_initial and utility_B(x1_B, x2_B) >= uB_initial:\n",
    "            C_set.append((x1_A, x2_A))\n",
    "\n",
    "C_set = np.array(C_set)\n",
    "\n",
    "# Find the allocation in set C that maximizes A's utility\n",
    "max_utility_A = -np.inf\n",
    "optimal_allocation_A = (0, 0)\n",
    "\n",
    "for allocation in C_set:\n",
    "    x1_A, x2_A = allocation\n",
    "    current_utility_A = utility_A(x1_A, x2_A)\n",
    "    if current_utility_A > max_utility_A:\n",
    "        max_utility_A = current_utility_A\n",
    "        optimal_allocation_A = (x1_A, x2_A)\n",
    "\n",
    "# Results\n",
    "print(f'Optimal allocation for A within set C: x1_A = {optimal_allocation_A[0]}, x2_A = {optimal_allocation_A[1]}')\n",
    "print(f'Maximum utility for A within set C: {max_utility_A}')\n",
    "\n"
   ]
  },
  {
   "cell_type": "markdown",
   "metadata": {},
   "source": [
    "# Question 5b"
   ]
  },
  {
   "cell_type": "markdown",
   "metadata": {},
   "source": [
    "We solve the problem with given constraints ensuring that consumer B is not worse off"
   ]
  },
  {
   "cell_type": "code",
   "execution_count": 23,
   "metadata": {},
   "outputs": [
    {
     "name": "stdout",
     "output_type": "stream",
     "text": [
      "Optimal allocation for A without restrictions: x1_A = 0.5757450571871308, x2_A = 0.8444377880991675\n",
      "Maximum utility for A without restrictions: 0.7432276287140577\n"
     ]
    }
   ],
   "source": [
    "# Parameters\n",
    "alpha = 1 / 3\n",
    "beta = 2 / 3\n",
    "omega_A1 = 0.8\n",
    "omega_A2 = 0.3\n",
    "omega_B1 = 1 - omega_A1\n",
    "omega_B2 = 1 - omega_A2\n",
    "\n",
    "def utility_A(x1, x2):\n",
    "    return (x1 ** alpha) * (x2 ** (1 - alpha))\n",
    "\n",
    "def utility_B(x1, x2):\n",
    "    return (x1 ** beta) * (x2 ** (1 - beta))\n",
    "\n",
    "uB_initial = utility_B(omega_B1, omega_B2)\n",
    "\n",
    "# Objective function to maximize A's utility\n",
    "def objective(x):\n",
    "    x1_A, x2_A = x\n",
    "    return -utility_A(x1_A, x2_A)\n",
    "\n",
    "# Constraint to ensure B's utility is at least the initial utility\n",
    "def constraint(x):\n",
    "    x1_A, x2_A = x\n",
    "    x1_B = 1 - x1_A\n",
    "    x2_B = 1 - x2_A\n",
    "    return utility_B(x1_B, x2_B) - uB_initial\n",
    "\n",
    "# Bounds for the variables\n",
    "bounds = [(0, 1), (0, 1)]\n",
    "\n",
    "# Initial guess\n",
    "x0 = [omega_A1, omega_A2]\n",
    "\n",
    "# Constraint dictionary\n",
    "cons = {'type': 'ineq', 'fun': constraint}\n",
    "\n",
    "# Perform the optimization\n",
    "result = minimize(objective, x0, bounds=bounds, constraints=cons)\n",
    "optimal_allocation_A_unrestricted = result.x\n",
    "max_utility_A_unrestricted = -result.fun\n",
    "\n",
    "print(f'Optimal allocation for A without restrictions: x1_A = {optimal_allocation_A_unrestricted[0]}, x2_A = {optimal_allocation_A_unrestricted[1]}')\n",
    "print(f'Maximum utility for A without restrictions: {max_utility_A_unrestricted}')"
   ]
  },
  {
   "cell_type": "markdown",
   "metadata": {},
   "source": [
    "# Question 6a"
   ]
  },
  {
   "cell_type": "markdown",
   "metadata": {},
   "source": [
    "We maximize the total utility in the economy, considering the utilities of both consumers A and B."
   ]
  },
  {
   "cell_type": "code",
   "execution_count": 25,
   "metadata": {},
   "outputs": [
    {
     "name": "stdout",
     "output_type": "stream",
     "text": [
      "Optimal allocation for A: x1_A = 0.3333341514009324, x2_A = 0.6666676011670838\n",
      "Maximum aggregate utility: 1.0582673679785883\n",
      "Optimal allocation for B: x1_B = 0.6666658485990675, x2_B = 0.3333323988329162\n"
     ]
    }
   ],
   "source": [
    "# Parameters\n",
    "alpha = 1 / 3\n",
    "beta = 2 / 3\n",
    "omega_A1 = 0.8\n",
    "omega_A2 = 0.3\n",
    "omega_B1 = 1 - omega_A1\n",
    "omega_B2 = 1 - omega_A2\n",
    "\n",
    "def utility_A(x1, x2):\n",
    "    return (x1 ** alpha) * (x2 ** (1 - alpha))\n",
    "\n",
    "def utility_B(x1, x2):\n",
    "    return (x1 ** beta) * (x2 ** (1 - beta))\n",
    "\n",
    "# Objective function to maximize aggregate utility\n",
    "def aggregate_utility(x):\n",
    "    x1_A, x2_A = x\n",
    "    x1_B = 1 - x1_A\n",
    "    x2_B = 1 - x2_A\n",
    "    return -(utility_A(x1_A, x2_A) + utility_B(x1_B, x2_B))\n",
    "\n",
    "# Bounds for the variables\n",
    "bounds = [(0, 1), (0, 1)]\n",
    "\n",
    "# Initial guess\n",
    "x0 = [omega_A1, omega_A2]\n",
    "\n",
    "# Perform the optimization\n",
    "result = minimize(aggregate_utility, x0, bounds=bounds)\n",
    "optimal_allocation_A = result.x\n",
    "max_aggregate_utility = -result.fun\n",
    "\n",
    "print(f'Optimal allocation for A: x1_A = {optimal_allocation_A[0]}, x2_A = {optimal_allocation_A[1]}')\n",
    "print(f'Maximum aggregate utility: {max_aggregate_utility}')\n",
    "\n",
    "# Corresponding allocation for B\n",
    "optimal_allocation_B = [1 - optimal_allocation_A[0], 1 - optimal_allocation_A[1]]\n",
    "print(f'Optimal allocation for B: x1_B = {optimal_allocation_B[0]}, x2_B = {optimal_allocation_B[1]}')\n"
   ]
  },
  {
   "cell_type": "markdown",
   "metadata": {},
   "source": [
    "# Question 6b"
   ]
  },
  {
   "cell_type": "markdown",
   "metadata": {},
   "source": [
    "Illustrating the allocation found in previous question:"
   ]
  },
  {
   "cell_type": "code",
   "execution_count": 36,
   "metadata": {},
   "outputs": [
    {
     "name": "stdout",
     "output_type": "stream",
     "text": [
      "Optimal allocation for A: x1_A = 0.3333341514009324, x2_A = 0.6666676011670838\n",
      "Optimal allocation for B: x1_B = 0.6666658485990675, x2_B = 0.3333323988329162\n",
      "Maximum aggregate utility: 1.0582673679785883\n"
     ]
    },
    {
     "data": {
      "image/png": "[encoded data removed]",
      "text/plain": [
       "<Figure size 800x800 with 1 Axes>"
      ]
     },
     "metadata": {},
     "output_type": "display_data"
    }
   ],
   "source": [
    "# Parameters\n",
    "alpha = 1 / 3\n",
    "beta = 2 / 3\n",
    "omega_A1 = 0.8\n",
    "omega_A2 = 0.3\n",
    "omega_B1 = 1 - omega_A1\n",
    "omega_B2 = 1 - omega_A2\n",
    "\n",
    "def utility_A(x1, x2):\n",
    "    return (x1 ** alpha) * (x2 ** (1 - alpha))\n",
    "\n",
    "def utility_B(x1, x2):\n",
    "    return (x1 ** beta) * (x2 ** (1 - beta))\n",
    "\n",
    "# Function to maximize aggregate utility\n",
    "def aggregate_utility(x):\n",
    "    x1_A, x2_A = x\n",
    "    x1_B = 1 - x1_A\n",
    "    x2_B = 1 - x2_A\n",
    "    return -(utility_A(x1_A, x2_A) + utility_B(x1_B, x2_B))\n",
    "\n",
    "# Bounds for the variables\n",
    "bounds = [(0, 1), (0, 1)]\n",
    "\n",
    "# Initial guess\n",
    "x0 = [omega_A1, omega_A2]\n",
    "\n",
    "# Perform the optimization\n",
    "result = minimize(aggregate_utility, x0, bounds=bounds)\n",
    "x1_A_aggregate, x2_A_aggregate = result.x\n",
    "x1_B_aggregate, x2_B_aggregate = 1 - x1_A_aggregate, 1 - x2_A_aggregate\n",
    "\n",
    "print(f'Optimal allocation for A: x1_A = {x1_A_aggregate}, x2_A = {x2_A_aggregate}')\n",
    "print(f'Optimal allocation for B: x1_B = {x1_B_aggregate}, x2_B = {x2_B_aggregate}')\n",
    "print(f'Maximum aggregate utility: {-result.fun}')\n",
    "\n",
    "# Plotting the optimal allocation in the Edgeworth box\n",
    "plt.figure(figsize=(8, 8))\n",
    "plt.scatter([x1_A_aggregate], [x2_A_aggregate], c='blue', label='Optimal allocation for A (Q6a)')\n",
    "plt.scatter([x1_B_aggregate], [x2_B_aggregate], c='red', label='Optimal allocation for B (Q6a)')\n",
    "\n",
    "# Set up the Edgeworth Box\n",
    "plt.plot([0, 1], [0, 0], 'k-', lw=2)  # Bottom\n",
    "plt.plot([0, 0], [0, 1], 'k-', lw=2)  # Left\n",
    "plt.plot([1, 1], [0, 1], 'k-', lw=2)  # Top\n",
    "plt.plot([0, 1], [1, 1], 'k-', lw=2)  # Right\n",
    "\n",
    "# Labels and legend\n",
    "plt.xlabel('$x_1^A$')\n",
    "plt.ylabel('$x_2^A$')\n",
    "plt.title('Optimal Allocation in the Edgeworth Box (Q6a)')\n",
    "plt.legend()\n",
    "plt.grid(True)\n",
    "plt.show()\n"
   ]
  },
  {
   "cell_type": "markdown",
   "metadata": {},
   "source": [
    "Results Recap:\n",
    "(Question 3): This is the price at which the demand from consumer B meets the supply (initially owned by consumer A), ensuring no excess demand or supply in the market for both goods.\n",
    "\n",
    "(Question 4a): Consumer A chooses the price to maximize their utility given a set of possible prices, with consumer B responding optimally to those prices.\n",
    "\n",
    "(Question 4b): Consumer A chooses any positive price to maximize their utility with consumer B responding optimally.\n",
    "\n",
    "(Question 5a): Consumer A chooses the allocation to maximize their utility under the constraint that consumer B is not worse off than at their initial endowment.\n",
    "\n",
    "(Question 5b): Consumer A chooses the allocation to maximize their utility without any restrictions.\n",
    "\n",
    "(Question 6a): A utilitarian social planner chooses the allocation that maximizes the total utility of consumers A and B.\n",
    "\n",
    "Discussion:\n",
    "\n",
    "Market clearing price:\n",
    "Pros: Leads to an efficient market where all goods are sold, and all demands are satisfied.\n",
    "Cons: May not consider individual welfare or fairness. Some individuals may be worse off if the market clearing price is high or low relative to their endowment.\n",
    "\n",
    "Maximization under set prices:\n",
    "Pros: Consumer A can optimize utility within a range of prices, representing scenarios with price control.\n",
    "Cons: The choice is limited by the set prices, and it might not lead to an optimal welfare outcome.\n",
    "\n",
    "Maximization under any positive price:\n",
    "Pros: Ensures no party is worse off, leading to potential Pareto improvements. Fair in the sense that it respects initial endowments.\n",
    "Cons: May not reach the absolute utility maximum for A since it is constrained by B's welfare.\n",
    "\n",
    "Pareto improvements: \n",
    "Pros: Maximizes A's utility without restrictions, leading to the highest possible outcome for A.\n",
    "Cons: Risks leaving B worse off than at the start, which can be unfair or socially undesirable.\n",
    "\n",
    "\n",
    "Social Planner's Problem:\n",
    "Pros: Aims for overall social welfare maximization, considering the utilities of all individuals. Can lead to more equitable outcomes.\n",
    "Cons: Individual freedoms are not considered. It might lead to allocations that, while utility maximizing on the whole, leave one party significantly worse off than they would prefer.\n",
    "\n"
   ]
  },
  {
   "cell_type": "markdown",
   "metadata": {},
   "source": [
    "# Question 7"
   ]
  },
  {
   "cell_type": "markdown",
   "metadata": {},
   "source": [
    "np.random.uniform(0, 1, N) generates N random numbers from a uniform distribution between 0 and 1.\n",
    "We then use plt.scatter to plot these pairs in a scatter plot, where each point represents an element of the set WW.\n",
    "The labels and title are added for clarity."
   ]
  },
  {
   "cell_type": "code",
   "execution_count": 21,
   "metadata": {},
   "outputs": [
    {
     "data": {
      "image/png": "[encoded data removed]",
      "text/plain": [
       "<Figure size 800x800 with 1 Axes>"
      ]
     },
     "metadata": {},
     "output_type": "display_data"
    }
   ],
   "source": [
    "import numpy as np\n",
    "import matplotlib.pyplot as plt\n",
    "\n",
    "# Number of elements in the set\n",
    "N = 50\n",
    "\n",
    "# Generate N random values for ω1^A and ω2^A, each uniformly distributed between 0 and 1\n",
    "omega_1A = np.random.uniform(0, 1, N)\n",
    "omega_2A = np.random.uniform(0, 1, N)\n",
    "\n",
    "# Plot these pairs\n",
    "plt.figure(figsize=(8, 8))\n",
    "plt.scatter(omega_1A, omega_2A, c='blue', label='Random Set W')\n",
    "plt.xlabel('$\\omega_1^A$')\n",
    "plt.ylabel('$\\omega_2^A$')\n",
    "plt.title('Random Set W with 50 Elements')\n",
    "plt.grid(True)\n",
    "plt.legend()\n",
    "plt.show()"
   ]
  },
  {
   "cell_type": "markdown",
   "metadata": {},
   "source": [
    "# Question 8"
   ]
  },
  {
   "cell_type": "markdown",
   "metadata": {},
   "source": [
    "In this code:\n",
    "\n",
    "We generate a set WW with 50 elements, each representing a different initial endowment for consumer A.\n",
    "We then plot these endowments in an Edgeworth box for both consumer A (in blue) and consumer B (in red), assuming the economy only consists of these two consumers and that all resources not owned by A are owned by B.\n",
    "This visualizes the different potential market equilibrium allocations assuming that each initial endowment leads to an equilibrium where the goods are not traded (this is a simplification and may not hold if there are specific market mechanisms or preferences at play)."
   ]
  },
  {
   "cell_type": "code",
   "execution_count": 34,
   "metadata": {},
   "outputs": [
    {
     "data": {
      "image/png": "[encoded data removed]",
      "text/plain": [
       "<Figure size 800x800 with 1 Axes>"
      ]
     },
     "metadata": {},
     "output_type": "display_data"
    }
   ],
   "source": [
    "# Number of elements\n",
    "N = 50\n",
    "\n",
    "# Random endowments\n",
    "omega_1A = np.random.uniform(0, 1, N)\n",
    "omega_2A = np.random.uniform(0, 1, N)\n",
    "\n",
    "# Parameters\n",
    "alpha = 1 / 3\n",
    "beta = 2 / 3\n",
    "N = 50\n",
    "\n",
    "def utility_A(x1, x2):\n",
    "    return (x1 ** alpha) * (x2 ** (1 - alpha))\n",
    "\n",
    "def utility_B(x1, x2):\n",
    "    return (x1 ** beta) * (x2 ** (1 - beta))\n",
    "\n",
    "# Demand functions\n",
    "def demand_A(p1, p2, omega_A1, omega_A2, alpha):\n",
    "    x1_A = alpha * (p1 * omega_A1 + p2 * omega_A2) / p1\n",
    "    x2_A = (1 - alpha) * (p1 * omega_A1 + p2 * omega_A2) / p2\n",
    "    return x1_A, x2_A\n",
    "\n",
    "def demand_B(p1, p2, omega_B1, omega_B2, beta):\n",
    "    x1_B = beta * (p1 * omega_B1 + p2 * omega_B2) / p1\n",
    "    x2_B = (1 - beta) * (p1 * omega_B1 + p2 * omega_B2) / p2\n",
    "    return x1_B, x2_B\n",
    "\n",
    "# Function to calculate total market clearing error\n",
    "def total_error(p1, omega_A1, omega_A2, omega_B1, omega_B2):\n",
    "    x1_A, x2_A = demand_A(p1, 1, omega_A1, omega_A2, alpha)\n",
    "    x1_B, x2_B = demand_B(p1, 1, omega_B1, omega_B2, beta)\n",
    "    epsilon1 = x1_A + x1_B - 1\n",
    "    epsilon2 = x2_A + x2_B - 1\n",
    "    return abs(epsilon1) + abs(epsilon2)\n",
    "\n",
    "# Generate random endowments\n",
    "random_endowments = np.random.uniform(0, 1, (N, 2))\n",
    "market_equilibria = []\n",
    "\n",
    "# Find market equilibrium for each set of endowments\n",
    "for omega_A in random_endowments:\n",
    "    omega_A1, omega_A2 = omega_A\n",
    "    omega_B1 = 1 - omega_A1\n",
    "    omega_B2 = 1 - omega_A2\n",
    "    \n",
    "    result = minimize(total_error, 1, args=(omega_A1, omega_A2, omega_B1, omega_B2), bounds=[(0.01, 10)])\n",
    "    p1_star = result.x[0]\n",
    "    \n",
    "    x1_A_star, x2_A_star = demand_A(p1_star, 1, omega_A1, omega_A2, alpha)\n",
    "    market_equilibria.append((x1_A_star, x2_A_star))\n",
    "\n",
    "market_equilibria = np.array(market_equilibria)\n",
    "\n",
    "# Plotting the market equilibrium allocations in the Edgeworth box\n",
    "plt.figure(figsize=(8, 8))\n",
    "plt.scatter(market_equilibria[:, 0], market_equilibria[:, 1], c='blue', label='Equilibrium allocations for A')\n",
    "plt.scatter(1 - market_equilibria[:, 0], 1 - market_equilibria[:, 1], c='red', label='Equilibrium allocations for B', alpha=0.6)\n",
    "\n",
    "# Set up the Edgeworth Box\n",
    "plt.plot([0, 1], [0, 0], 'k-', lw=2)  # Bottom\n",
    "plt.plot([0, 0], [0, 1], 'k-', lw=2)  # Left\n",
    "plt.plot([1, 1], [0, 1], 'k-', lw=2)  # Top\n",
    "plt.plot([0, 1], [1, 1], 'k-', lw=2)  # Right\n",
    "\n",
    "# Labels and legend\n",
    "plt.xlabel('$x_1^A$')\n",
    "plt.ylabel('$x_2^A$')\n",
    "plt.title('Market Equilibrium Allocations in the Edgeworth Box')\n",
    "plt.legend()\n",
    "plt.grid(True)\n",
    "plt.show()\n",
    "\n",
    "\n",
    "\n"
   ]
  }
 ],
 "metadata": {
  "kernelspec": {
   "display_name": "base",
   "language": "python",
   "name": "python3"
  },
  "language_info": {
   "codemirror_mode": {
    "name": "ipython",
    "version": 3
   },
   "file_extension": ".py",
   "mimetype": "text/x-python",
   "name": "python",
   "nbconvert_exporter": "python",
   "pygments_lexer": "ipython3",
   "version": "3.11.9"
  },
  "toc-autonumbering": true,
  "vscode": {
   "interpreter": {
    "hash": "47ef90cdf3004d3f859f1fb202523c65c07ba7c22eefd261b181f4744e2d0403"
   }
  }
 },
 "nbformat": 4,
 "nbformat_minor": 4
}
