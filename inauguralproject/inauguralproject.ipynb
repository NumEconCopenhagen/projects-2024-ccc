  {
   "cell_type": "markdown",
   "metadata": {},
   "source": [
    "Imports and set magics:"
   ]
  },
  {
   "cell_type": "code",
   "execution_count": 29,
   "metadata": {},
   "outputs": [],
   "source": [
    "import numpy as np\n",
    "\n",
    "# autoreload modules when code is run. Otherwise, python will not see recent changes. \n",
    "%reload_ext autoreload\n",
    "%autoreload 2\n",
    "\n"
   ]
  },
  {
   "cell_type": "markdown",
   "metadata": {},
   "source": [
    "# Question 1"
   ]
  },
  {
   "cell_type": "markdown",
   "metadata": {},
   "source": [
    "Code is explained throughout.\n",
    "Evereything within the blue area is pareto improvements."
   ]
  },
  {
   "cell_type": "code",
   "execution_count": 30,
   "metadata": {},
   "outputs": [
    {
     "data": {
      "image/png": "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",
      "text/plain": [
       "<Figure size 600x600 with 1 Axes>"
      ]
     },
     "metadata": {},
     "output_type": "display_data"
    }
   ],
   "source": [
    "# code for solving the model (remember documentation and comments)\n",
    "import matplotlib.pyplot as plt\n",
    "\n",
    "# Constants\n",
    "alpha = 1/3\n",
    "beta = 2/3\n",
    "w1A = 0.8\n",
    "w2A = 0.3\n",
    "w1B = 1 - w1A\n",
    "w2B = 1 - w2A\n",
    "N = 75\n",
    "\n",
    "# Utility functions\n",
    "def uA(x1A, x2A):\n",
    "    return x1A ** alpha * (x2A ** (1 - alpha))\n",
    "\n",
    "def uB(x1B, x2B):\n",
    "    return (x1B * beta) * (x2B * (1 - beta))\n",
    "\n",
    "# Initial utilities\n",
    "uA_initial = uA(w1A, w2A)\n",
    "uB_initial = uB(w1B, w2B)\n",
    "\n",
    "# Edgeworth box setup\n",
    "x1A_vals = np.linspace(0, 1, N)\n",
    "x2A_vals = np.linspace(0, 1, N)\n",
    "x1A_mesh, x2A_mesh = np.meshgrid(x1A_vals, x2A_vals)\n",
    "\n",
    "# Find the pairs that satisfy the utility conditions\n",
    "pareto_improvements = np.zeros(x1A_mesh.shape)\n",
    "for i in range(N):\n",
    "    for j in range(N):\n",
    "        if uA(x1A_mesh[i, j], x2A_mesh[i, j]) >= uA_initial and uB(1 - x1A_mesh[i, j], 1 - x2A_mesh[i, j]) >= uB_initial:\n",
    "            pareto_improvements[i, j] = 1\n",
    "\n",
    "# Plot\n",
    "plt.figure(figsize=(6, 6))\n",
    "plt.contourf(x1A_mesh, x2A_mesh, pareto_improvements, cmap='Blues', levels=[0.5, 1], alpha=0.5)\n",
    "plt.plot(w1A, w2A, 'ro')  # Endowment point\n",
    "plt.xlabel('$x_1^A$')\n",
    "plt.ylabel('$x_2^A$')\n",
    "plt.title('Pareto improvements in the Edgeworth Box')\n",
    "plt.grid(True)\n",
    "plt.show()"
   ]
  },
  {
   "cell_type": "markdown",
   "metadata": {},
   "source": [
    "# Question 2"
   ]
  },
  {
   "cell_type": "markdown",
   "metadata": {},
   "source": [
    "We weren't able to import the exchange economy class, so we pasted it instead and used it to calculate the market clearing errors."
   ]
  },
  {
   "cell_type": "code",
   "execution_count": 31,
   "metadata": {},
   "outputs": [
    {
     "name": "stdout",
     "output_type": "stream",
     "text": [
      "p1, Market clearing error for good 1, Market clearing error for good 2\n",
      "0.50, 0.5333, -0.2667\n",
      "0.53, 0.4752, -0.2505\n",
      "0.55, 0.4228, -0.2342\n",
      "0.58, 0.3752, -0.2180\n",
      "0.61, 0.3319, -0.2018\n",
      "0.64, 0.2922, -0.1856\n",
      "0.66, 0.2558, -0.1694\n",
      "0.69, 0.2222, -0.1532\n",
      "0.72, 0.1912, -0.1369\n",
      "0.74, 0.1624, -0.1207\n",
      "0.77, 0.1357, -0.1045\n",
      "0.80, 0.1107, -0.0883\n",
      "0.82, 0.0874, -0.0721\n",
      "0.85, 0.0656, -0.0559\n",
      "0.88, 0.0451, -0.0396\n",
      "0.91, 0.0259, -0.0234\n",
      "0.93, 0.0077, -0.0072\n",
      "0.96, -0.0094, 0.0090\n",
      "0.99, -0.0256, 0.0252\n",
      "1.01, -0.0409, 0.0414\n",
      "1.04, -0.0554, 0.0577\n",
      "1.07, -0.0692, 0.0739\n",
      "1.09, -0.0823, 0.0901\n",
      "1.12, -0.0948, 0.1063\n",
      "1.15, -0.1067, 0.1225\n",
      "1.18, -0.1180, 0.1387\n",
      "1.20, -0.1288, 0.1550\n",
      "1.23, -0.1392, 0.1712\n",
      "1.26, -0.1491, 0.1874\n",
      "1.28, -0.1586, 0.2036\n",
      "1.31, -0.1677, 0.2198\n",
      "1.34, -0.1764, 0.2360\n",
      "1.36, -0.1848, 0.2523\n",
      "1.39, -0.1929, 0.2685\n",
      "1.42, -0.2006, 0.2847\n",
      "1.45, -0.2081, 0.3009\n",
      "1.47, -0.2153, 0.3171\n",
      "1.50, -0.2222, 0.3333\n",
      "1.53, -0.2289, 0.3495\n",
      "1.55, -0.2354, 0.3658\n",
      "1.58, -0.2416, 0.3820\n",
      "1.61, -0.2476, 0.3982\n",
      "1.64, -0.2534, 0.4144\n",
      "1.66, -0.2591, 0.4306\n",
      "1.69, -0.2645, 0.4468\n",
      "1.72, -0.2698, 0.4631\n",
      "1.74, -0.2749, 0.4793\n",
      "1.77, -0.2799, 0.4955\n",
      "1.80, -0.2847, 0.5117\n",
      "1.82, -0.2894, 0.5279\n",
      "1.85, -0.2939, 0.5441\n",
      "1.88, -0.2983, 0.5604\n",
      "1.91, -0.3026, 0.5766\n",
      "1.93, -0.3068, 0.5928\n",
      "1.96, -0.3108, 0.6090\n",
      "1.99, -0.3147, 0.6252\n",
      "2.01, -0.3186, 0.6414\n",
      "2.04, -0.3223, 0.6577\n",
      "2.07, -0.3259, 0.6739\n",
      "2.09, -0.3295, 0.6901\n",
      "2.12, -0.3329, 0.7063\n",
      "2.15, -0.3363, 0.7225\n",
      "2.18, -0.3395, 0.7387\n",
      "2.20, -0.3427, 0.7550\n",
      "2.23, -0.3459, 0.7712\n",
      "2.26, -0.3489, 0.7874\n",
      "2.28, -0.3519, 0.8036\n",
      "2.31, -0.3548, 0.8198\n",
      "2.34, -0.3576, 0.8360\n",
      "2.36, -0.3604, 0.8523\n",
      "2.39, -0.3631, 0.8685\n",
      "2.42, -0.3657, 0.8847\n",
      "2.45, -0.3683, 0.9009\n",
      "2.47, -0.3709, 0.9171\n",
      "2.50, -0.3733, 0.9333\n"
     ]
    }
   ],
   "source": [
    "from types import SimpleNamespace\n",
    "\n",
    "class ExchangeEconomyClass:\n",
    "\n",
    "    def __init__(self):\n",
    "        # Parameters\n",
    "        par = self.par = SimpleNamespace()\n",
    "\n",
    "        # Preferences\n",
    "        par.alpha = 1/3\n",
    "        par.beta = 2/3\n",
    "\n",
    "        # Endowments\n",
    "        par.w1A = 0.8\n",
    "        par.w2A = 0.3\n",
    "\n",
    "    def utility_A(self, x1A, x2A):\n",
    "        # Utility function for consumer A\n",
    "        return (x1A * self.par.alpha) * (x2A * (1 - self.par.alpha))\n",
    "\n",
    "    def utility_B(self, x1B, x2B):\n",
    "        # Utility function for consumer B\n",
    "        return (x1B * self.par.beta) * (x2B * (1 - self.par.beta))\n",
    "\n",
    "    def demand_A(self, p1, p2=1):\n",
    "        # Demand function for consumer A\n",
    "        I_A = self.par.w1A * p1 + self.par.w2A * p2\n",
    "        x1A = self.par.alpha * I_A / p1\n",
    "        x2A = (1 - self.par.alpha) * I_A / p2\n",
    "        return x1A, x2A\n",
    "\n",
    "    def demand_B(self, p1, p2=1):\n",
    "        # Demand function for consumer B\n",
    "        I_B = (1 - self.par.w1A) * p1 + (1 - self.par.w2A) * p2\n",
    "        x1B = self.par.beta * I_B / p1\n",
    "        x2B = (1 - self.par.beta) * I_B / p2\n",
    "        return x1B, x2B\n",
    "\n",
    "    def check_market_clearing(self, p1):\n",
    "        # Check market clearing conditions\n",
    "        x1A, x2A = self.demand_A(p1)\n",
    "        x1B, x2B = self.demand_B(p1)\n",
    "        eps1 = x1A - self.par.w1A + x1B - (1 - self.par.w1A)\n",
    "        eps2 = x2A - self.par.w2A + x2B - (1 - self.par.w2A)\n",
    "        return eps1, eps2\n",
    "\n",
    "# Now, use the model to calculate market clearing errors for a range of prices p1\n",
    "model = ExchangeEconomyClass()\n",
    "N = 75\n",
    "p1_values = np.linspace(0.5, 2.5, N)\n",
    "market_clearing_errors = []\n",
    "\n",
    "for p1 in p1_values:\n",
    "    eps1, eps2 = model.check_market_clearing(p1)\n",
    "    market_clearing_errors.append((p1, eps1, eps2))\n",
    "\n",
    "# Display the results\n",
    "print(\"p1, Market clearing error for good 1, Market clearing error for good 2\")\n",
    "for p1, eps1, eps2 in market_clearing_errors:\n",
    "    print(f'{p1:.2f}, {eps1:.4f}, {eps2:.4f}')"
   ]
  },
  {
   "cell_type": "markdown",
   "metadata": {},
   "source": [
    "# Question 3"
   ]
  },
  {
   "cell_type": "markdown",
   "metadata": {},
   "source": [
    "We find that the market-clearing price p1 is approximately: 0.93"
   ]
  },
  {
   "cell_type": "code",
   "execution_count": 32,
   "metadata": {},
   "outputs": [
    {
     "name": "stdout",
     "output_type": "stream",
     "text": [
      "The market-clearing price p1 is approximately: 0.93\n"
     ]
    }
   ],
   "source": [
    "# Initialize variables to store the best (smallest) error and corresponding p1\n",
    "best_error = float('inf')  # Set initial best error to be infinitely large\n",
    "best_p1 = None  # Initialize best p1 as None\n",
    "\n",
    "# Go through each price and its errors\n",
    "for p1, eps1, eps2 in market_clearing_errors:\n",
    "    total_error = abs(eps1) + abs(eps2)  # Combine the absolute errors\n",
    "    if total_error < best_error:\n",
    "        best_error = total_error\n",
    "        best_p1 = p1\n",
    "\n",
    "# Print the market-clearing price\n",
    "print(f'The market-clearing price p1 is approximately: {best_p1:.2f}')"
   ]
  },
  {
   "cell_type": "markdown",
   "metadata": {},
   "source": [
    "# Question 4a"
   ]
  },
  {
   "cell_type": "markdown",
   "metadata": {},
   "source": [
    "We find the best allocation under given constraints"
   ]
  },
  {
   "cell_type": "code",
   "execution_count": 33,
   "metadata": {},
   "outputs": [
    {
     "name": "stdout",
     "output_type": "stream",
     "text": [
      "Best price p1 for A to choose: 2.50\n",
      "Best allocation for A (x1A, x2A): (0.68, 0.60)\n",
      "Maximized utility for A: 0.0907\n"
     ]
    }
   ],
   "source": [
    "# Define the price range for P1\n",
    "N = 75\n",
    "p1_values = np.linspace(0.5, 2.5, N)\n",
    "max_utility = -np.inf  # Start with a very low utility value\n",
    "best_p1 = None  # Best price is unknown initially\n",
    "best_allocation = None  # Best allocation is unknown initially\n",
    "\n",
    "for p1 in p1_values:\n",
    "    x1B, x2B = model.demand_B(p1)\n",
    "    # Consumer A gets whatever is left after B's consumption\n",
    "    x1A = 1 - x1B\n",
    "    x2A = 1 - x2B\n",
    "    # Calculate A's utility for this allocation\n",
    "    utility = model.utility_A(x1A, x2A)\n",
    "    # Check if this utility is better than the best one found so far\n",
    "    if utility > max_utility:\n",
    "        max_utility = utility\n",
    "        best_p1 = p1\n",
    "        best_allocation = (x1A, x2A)\n",
    "\n",
    "# Display the results\n",
    "print(f'Best price p1 for A to choose: {best_p1:.2f}')\n",
    "print(f'Best allocation for A (x1A, x2A): ({best_allocation[0]:.2f}, {best_allocation[1]:.2f})')\n",
    "print(f'Maximized utility for A: {max_utility:.4f}')"
   ]
  },
  {
   "cell_type": "markdown",
   "metadata": {},
   "source": [
    "# Question 4b"
   ]
  },
  {
   "cell_type": "markdown",
   "metadata": {},
   "source": [
    "insert code and explain "
   ]
  },
  {
   "cell_type": "code",
   "execution_count": 34,
   "metadata": {},
   "outputs": [
    {
     "name": "stdout",
     "output_type": "stream",
     "text": [
      "Optimal p1 (continuous): 10.0\n",
      "Maximum utility for A (continuous): 2.038497429247681\n",
      "Optimal demand for A: x1_A = 0.27666666666666667, x2_A = 5.533333333333334\n",
      "Optimal demand for B: x1_B = 0.17999999999999994, x2_B = 0.8999999999999999\n"
     ]
    }
   ],
   "source": [
    "from scipy.optimize import minimize\n",
    "\n",
    "# Parameters\n",
    "alpha = 1 / 3\n",
    "beta = 2 / 3\n",
    "omega_A1 = 0.8\n",
    "omega_A2 = 0.3\n",
    "omega_B1 = 1 - omega_A1\n",
    "omega_B2 = 1 - omega_A2\n",
    "\n",
    "def utility_A(x1, x2):\n",
    "    return (x1 ** alpha) * (x2 ** (1 - alpha))\n",
    "\n",
    "def utility_B(x1, x2):\n",
    "    return (x1 ** beta) * (x2 ** (1 - beta))\n",
    "\n",
    "# Demand functions\n",
    "def demand_A(p1, p2, omega_A1, omega_A2, alpha):\n",
    "    x1_A = alpha * (p1 * omega_A1 + p2 * omega_A2) / p1\n",
    "    x2_A = (1 - alpha) * (p1 * omega_A1 + p2 * omega_A2) / p2\n",
    "    return x1_A, x2_A\n",
    "\n",
    "def demand_B(p1, p2, omega_B1, omega_B2, beta):\n",
    "    x1_B = beta * (p1 * omega_B1 + p2 * omega_B2) / p1\n",
    "    x2_B = (1 - beta) * (p1 * omega_B1 + p2 * omega_B2) / p2\n",
    "    return x1_B, x2_B\n",
    "\n",
    "# Objective function to maximize A's utility\n",
    "def objective(p1):\n",
    "    x1_A, x2_A = demand_A(p1, 1, omega_A1, omega_A2, alpha)\n",
    "    return -utility_A(x1_A, x2_A)\n",
    "\n",
    "# Bounds for the price p1\n",
    "bounds = [(0.01, 10)]\n",
    "\n",
    "# Initial guess for the price p1\n",
    "p1_initial = 1\n",
    "\n",
    "# Perform the optimization\n",
    "result = minimize(objective, p1_initial, bounds=bounds)\n",
    "optimal_p1_continuous = result.x[0]\n",
    "max_utility_A_continuous = -result.fun\n",
    "\n",
    "print(f'Optimal p1 (continuous): {optimal_p1_continuous}')\n",
    "print(f'Maximum utility for A (continuous): {max_utility_A_continuous}')\n",
    "\n",
    "# Corresponding demands\n",
    "optimal_demand_A = demand_A(optimal_p1_continuous, 1, omega_A1, omega_A2, alpha)\n",
    "optimal_demand_B = demand_B(optimal_p1_continuous, 1, omega_B1, omega_B2, beta)\n",
    "\n",
    "print(f'Optimal demand for A: x1_A = {optimal_demand_A[0]}, x2_A = {optimal_demand_A[1]}')\n",
    "print(f'Optimal demand for B: x1_B = {optimal_demand_B[0]}, x2_B = {optimal_demand_B[1]}')\n"
   ]
  },
  {
   "cell_type": "markdown",
   "metadata": {},
   "source": [
    "# Question 5a"
   ]
  },
  {
   "cell_type": "markdown",
   "metadata": {},
   "source": [
    "We find the best allocation under given constraints"
   ]
  },
  {
   "cell_type": "code",
   "execution_count": 35,
   "metadata": {},
   "outputs": [
    {
     "name": "stdout",
     "output_type": "stream",
     "text": [
      "Optimal allocation for A within set C: x1_A = 0.5810810810810811, x2_A = 0.8378378378378379\n",
      "Maximum utility for A within set C: 0.741627044262768\n"
     ]
    }
   ],
   "source": [
    "# Parameters\n",
    "alpha = 1 / 3\n",
    "beta = 2 / 3\n",
    "omega_A1 = 0.8\n",
    "omega_A2 = 0.3\n",
    "omega_B1 = 1 - omega_A1\n",
    "omega_B2 = 1 - omega_A2\n",
    "N = 75\n",
    "\n",
    "def utility_A(x1, x2):\n",
    "    return (x1 ** alpha) * (x2 ** (1 - alpha))\n",
    "\n",
    "def utility_B(x1, x2):\n",
    "    return (x1 ** beta) * (x2 ** (1 - beta))\n",
    "\n",
    "uA_initial = utility_A(omega_A1, omega_A2)\n",
    "uB_initial = utility_B(omega_B1, omega_B2)\n",
    "\n",
    "x1_A_values = np.linspace(0, 1, N)\n",
    "x2_A_values = np.linspace(0, 1, N)\n",
    "C_set = []\n",
    "\n",
    "# Find the set C\n",
    "for x1_A in x1_A_values:\n",
    "    for x2_A in x2_A_values:\n",
    "        x1_B = 1 - x1_A\n",
    "        x2_B = 1 - x2_A\n",
    "        if utility_A(x1_A, x2_A) >= uA_initial and utility_B(x1_B, x2_B) >= uB_initial:\n",
    "            C_set.append((x1_A, x2_A))\n",
    "\n",
    "C_set = np.array(C_set)\n",
    "\n",
    "# Find the allocation in set C that maximizes A's utility\n",
    "max_utility_A = -np.inf\n",
    "optimal_allocation_A = (0, 0)\n",
    "\n",
    "for allocation in C_set:\n",
    "    x1_A, x2_A = allocation\n",
    "    current_utility_A = utility_A(x1_A, x2_A)\n",
    "    if current_utility_A > max_utility_A:\n",
    "        max_utility_A = current_utility_A\n",
    "        optimal_allocation_A = (x1_A, x2_A)\n",
    "\n",
    "# Results\n",
    "print(f'Optimal allocation for A within set C: x1_A = {optimal_allocation_A[0]}, x2_A = {optimal_allocation_A[1]}')\n",
    "print(f'Maximum utility for A within set C: {max_utility_A}')\n",
    "\n"
   ]
  },
  {
   "cell_type": "markdown",
   "metadata": {},
   "source": [
    "# Question 5b"
   ]
  },
  {
   "cell_type": "markdown",
   "metadata": {},
   "source": [
    "We solve the problem with given constraints ensuring that consumer B is not worse off"
   ]
  },
  {
   "cell_type": "code",
   "execution_count": 36,
   "metadata": {},
   "outputs": [
    {
     "name": "stdout",
     "output_type": "stream",
     "text": [
      "Optimal allocation for A without restrictions: x1_A = 0.5757450571871308, x2_A = 0.8444377880991675\n",
      "Maximum utility for A without restrictions: 0.7432276287140577\n"
     ]
    }
   ],
   "source": [
    "# Parameters\n",
    "alpha = 1 / 3\n",
    "beta = 2 / 3\n",
    "omega_A1 = 0.8\n",
    "omega_A2 = 0.3\n",
    "omega_B1 = 1 - omega_A1\n",
    "omega_B2 = 1 - omega_A2\n",
    "\n",
    "def utility_A(x1, x2):\n",
    "    return (x1 ** alpha) * (x2 ** (1 - alpha))\n",
    "\n",
    "def utility_B(x1, x2):\n",
    "    return (x1 ** beta) * (x2 ** (1 - beta))\n",
    "\n",
    "uB_initial = utility_B(omega_B1, omega_B2)\n",
    "\n",
    "# Objective function to maximize A's utility\n",
    "def objective(x):\n",
    "    x1_A, x2_A = x\n",
    "    return -utility_A(x1_A, x2_A)\n",
    "\n",
    "# Constraint to ensure B's utility is at least the initial utility\n",
    "def constraint(x):\n",
    "    x1_A, x2_A = x\n",
    "    x1_B = 1 - x1_A\n",
    "    x2_B = 1 - x2_A\n",
    "    return utility_B(x1_B, x2_B) - uB_initial\n",
    "\n",
    "# Bounds for the variables\n",
    "bounds = [(0, 1), (0, 1)]\n",
    "\n",
    "# Initial guess\n",
    "x0 = [omega_A1, omega_A2]\n",
    "\n",
    "# Constraint dictionary\n",
    "cons = {'type': 'ineq', 'fun': constraint}\n",
    "\n",
    "# Perform the optimization\n",
    "result = minimize(objective, x0, bounds=bounds, constraints=cons)\n",
    "optimal_allocation_A_unrestricted = result.x\n",
    "max_utility_A_unrestricted = -result.fun\n",
    "\n",
    "print(f'Optimal allocation for A without restrictions: x1_A = {optimal_allocation_A_unrestricted[0]}, x2_A = {optimal_allocation_A_unrestricted[1]}')\n",
    "print(f'Maximum utility for A without restrictions: {max_utility_A_unrestricted}')"
   ]
  },
  {
   "cell_type": "markdown",
   "metadata": {},
   "source": [
    "# Question 6a"
   ]
  },
  {
   "cell_type": "markdown",
   "metadata": {},
   "source": [
    "We maximize the total utility in the economy, considering the utilities of both consumers A and B."
   ]
  },
  {
   "cell_type": "code",
   "execution_count": 37,
   "metadata": {},
   "outputs": [
    {
     "name": "stdout",
     "output_type": "stream",
     "text": [
      "Optimal allocation for A: x1_A = 0.3333341514009324, x2_A = 0.6666676011670838\n",
      "Maximum aggregate utility: 1.0582673679785883\n",
      "Optimal allocation for B: x1_B = 0.6666658485990675, x2_B = 0.3333323988329162\n"
     ]
    }
   ],
   "source": [
    "# Parameters\n",
    "alpha = 1 / 3\n",
    "beta = 2 / 3\n",
    "omega_A1 = 0.8\n",
    "omega_A2 = 0.3\n",
    "omega_B1 = 1 - omega_A1\n",
    "omega_B2 = 1 - omega_A2\n",
    "\n",
    "def utility_A(x1, x2):\n",
    "    return (x1 ** alpha) * (x2 ** (1 - alpha))\n",
    "\n",
    "def utility_B(x1, x2):\n",
    "    return (x1 ** beta) * (x2 ** (1 - beta))\n",
    "\n",
    "# Objective function to maximize aggregate utility\n",
    "def aggregate_utility(x):\n",
    "    x1_A, x2_A = x\n",
    "    x1_B = 1 - x1_A\n",
    "    x2_B = 1 - x2_A\n",
    "    return -(utility_A(x1_A, x2_A) + utility_B(x1_B, x2_B))\n",
    "\n",
    "# Bounds for the variables\n",
    "bounds = [(0, 1), (0, 1)]\n",
    "\n",
    "# Initial guess\n",
    "x0 = [omega_A1, omega_A2]\n",
    "\n",
    "# Perform the optimization\n",
    "result = minimize(aggregate_utility, x0, bounds=bounds)\n",
    "optimal_allocation_A = result.x\n",
    "max_aggregate_utility = -result.fun\n",
    "\n",
    "print(f'Optimal allocation for A: x1_A = {optimal_allocation_A[0]}, x2_A = {optimal_allocation_A[1]}')\n",
    "print(f'Maximum aggregate utility: {max_aggregate_utility}')\n",
    "\n",
    "# Corresponding allocation for B\n",
    "optimal_allocation_B = [1 - optimal_allocation_A[0], 1 - optimal_allocation_A[1]]\n",
    "print(f'Optimal allocation for B: x1_B = {optimal_allocation_B[0]}, x2_B = {optimal_allocation_B[1]}')\n"
   ]
  },
  {
   "cell_type": "markdown",
   "metadata": {},
   "source": [
    "# Question 6b"
   ]
  },
  {
   "cell_type": "markdown",
   "metadata": {},
   "source": [
    "Illustrating the allocation found in previous question:"
   ]
  },
  {
   "cell_type": "code",
   "execution_count": 38,
   "metadata": {},
   "outputs": [
    {
     "name": "stdout",
     "output_type": "stream",
     "text": [
      "Optimal allocation for A: x1_A = 0.3333341514009324, x2_A = 0.6666676011670838\n",
      "Optimal allocation for B: x1_B = 0.6666658485990675, x2_B = 0.3333323988329162\n",
      "Maximum aggregate utility: 1.0582673679785883\n"
     ]
    },
    {
     "data": {
      "image/png": "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",
      "text/plain": [
       "<Figure size 800x800 with 1 Axes>"
      ]
     },
     "metadata": {},
     "output_type": "display_data"
    }
   ],
   "source": [
    "# Parameters\n",
    "alpha = 1 / 3\n",
    "beta = 2 / 3\n",
    "omega_A1 = 0.8\n",
    "omega_A2 = 0.3\n",
    "omega_B1 = 1 - omega_A1\n",
    "omega_B2 = 1 - omega_A2\n",
    "\n",
    "def utility_A(x1, x2):\n",
    "    return (x1 ** alpha) * (x2 ** (1 - alpha))\n",
    "\n",
    "def utility_B(x1, x2):\n",
    "    return (x1 ** beta) * (x2 ** (1 - beta))\n",
    "\n",
    "# Function to maximize aggregate utility\n",
    "def aggregate_utility(x):\n",
    "    x1_A, x2_A = x\n",
    "    x1_B = 1 - x1_A\n",
    "    x2_B = 1 - x2_A\n",
    "    return -(utility_A(x1_A, x2_A) + utility_B(x1_B, x2_B))\n",
    "\n",
    "# Bounds for the variables\n",
    "bounds = [(0, 1), (0, 1)]\n",
    "\n",
    "# Initial guess\n",
    "x0 = [omega_A1, omega_A2]\n",
    "\n",
    "# Perform the optimization\n",
    "result = minimize(aggregate_utility, x0, bounds=bounds)\n",
    "x1_A_aggregate, x2_A_aggregate = result.x\n",
    "x1_B_aggregate, x2_B_aggregate = 1 - x1_A_aggregate, 1 - x2_A_aggregate\n",
    "\n",
    "print(f'Optimal allocation for A: x1_A = {x1_A_aggregate}, x2_A = {x2_A_aggregate}')\n",
    "print(f'Optimal allocation for B: x1_B = {x1_B_aggregate}, x2_B = {x2_B_aggregate}')\n",
    "print(f'Maximum aggregate utility: {-result.fun}')\n",
    "\n",
    "# Plotting the optimal allocation in the Edgeworth box\n",
    "plt.figure(figsize=(8, 8))\n",
    "plt.scatter([x1_A_aggregate], [x2_A_aggregate], c='blue', label='Optimal allocation for A (Q6a)')\n",
    "plt.scatter([x1_B_aggregate], [x2_B_aggregate], c='red', label='Optimal allocation for B (Q6a)')\n",
    "\n",
    "# Set up the Edgeworth Box\n",
    "plt.plot([0, 1], [0, 0], 'k-', lw=2)  # Bottom\n",
    "plt.plot([0, 0], [0, 1], 'k-', lw=2)  # Left\n",
    "plt.plot([1, 1], [0, 1], 'k-', lw=2)  # Top\n",
    "plt.plot([0, 1], [1, 1], 'k-', lw=2)  # Right\n",
    "\n",
    "# Labels and legend\n",
    "plt.xlabel('$x_1^A$')\n",
    "plt.ylabel('$x_2^A$')\n",
    "plt.title('Optimal Allocation in the Edgeworth Box (Q6a)')\n",
    "plt.legend()\n",
    "plt.grid(True)\n",
    "plt.show()\n"
   ]
  },
  {
   "cell_type": "markdown",
   "metadata": {},
   "source": [
    "Results Recap:\n",
    "(Question 3): This is the price at which the demand from consumer B meets the supply (initially owned by consumer A), ensuring no excess demand or supply in the market for both goods.\n",
    "\n",
    "(Question 4a): Consumer A chooses the price to maximize their utility given a set of possible prices, with consumer B responding optimally to those prices.\n",
    "\n",
    "(Question 4b): Consumer A chooses any positive price to maximize their utility with consumer B responding optimally.\n",
    "\n",
    "(Question 5a): Consumer A chooses the allocation to maximize their utility under the constraint that consumer B is not worse off than at their initial endowment.\n",
    "\n",
    "(Question 5b): Consumer A chooses the allocation to maximize their utility without any restrictions.\n",
    "\n",
    "(Question 6a): A utilitarian social planner chooses the allocation that maximizes the total utility of consumers A and B.\n",
    "\n",
    "Discussion:\n",
    "\n",
    "Market clearing price:\n",
    "Pros: Leads to an efficient market where all goods are sold, and all demands are satisfied.\n",
    "Cons: May not consider individual welfare or fairness. Some individuals may be worse off if the market clearing price is high or low relative to their endowment.\n",
    "\n",
    "Maximization under set prices:\n",
    "Pros: Consumer A can optimize utility within a range of prices, representing scenarios with price control.\n",
    "Cons: The choice is limited by the set prices, and it might not lead to an optimal welfare outcome.\n",
    "\n",
    "Maximization under any positive price:\n",
    "Pros: Ensures no party is worse off, leading to potential Pareto improvements. Fair in the sense that it respects initial endowments.\n",
    "Cons: May not reach the absolute utility maximum for A since it is constrained by B's welfare.\n",
    "\n",
    "Pareto improvements: \n",
    "Pros: Maximizes A's utility without restrictions, leading to the highest possible outcome for A.\n",
    "Cons: Risks leaving B worse off than at the start, which can be unfair or socially undesirable.\n",
    "\n",
    "\n",
    "Social Planner's Problem:\n",
    "Pros: Aims for overall social welfare maximization, considering the utilities of all individuals. Can lead to more equitable outcomes.\n",
    "Cons: Individual freedoms are not considered. It might lead to allocations that, while utility maximizing on the whole, leave one party significantly worse off than they would prefer.\n",
    "\n"
   ]
  },
  {
   "cell_type": "markdown",
   "metadata": {},
   "source": [
    "# Question 7"
   ]
  },
  {
   "cell_type": "markdown",
   "metadata": {},
   "source": [
    "np.random.uniform(0, 1, N) generates N random numbers from a uniform distribution between 0 and 1.\n",
    "We then use plt.scatter to plot these pairs in a scatter plot, where each point represents an element of the set WW.\n",
    "The labels and title are added for clarity."
   ]
  },
  {
   "cell_type": "code",
   "execution_count": 39,
   "metadata": {},
   "outputs": [
    {
     "data": {
      "image/png": "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",
      "text/plain": [
       "<Figure size 800x800 with 1 Axes>"
      ]
     },
     "metadata": {},
     "output_type": "display_data"
    }
   ],
   "source": [
    "import numpy as np\n",
    "import matplotlib.pyplot as plt\n",
    "\n",
    "# Number of elements in the set\n",
    "N = 50\n",
    "\n",
    "# Generate N random values for ω1^A and ω2^A, each uniformly distributed between 0 and 1\n",
    "omega_1A = np.random.uniform(0, 1, N)\n",
    "omega_2A = np.random.uniform(0, 1, N)\n",
    "\n",
    "# Plot these pairs\n",
    "plt.figure(figsize=(8, 8))\n",
    "plt.scatter(omega_1A, omega_2A, c='blue', label='Random Set W')\n",
    "plt.xlabel('$\\omega_1^A$')\n",
    "plt.ylabel('$\\omega_2^A$')\n",
    "plt.title('Random Set W with 50 Elements')\n",
    "plt.grid(True)\n",
    "plt.legend()\n",
    "plt.show()"
   ]
  },
  {
   "cell_type": "markdown",
   "metadata": {},
   "source": [
    "# Question 8"
   ]
  },
  {
   "cell_type": "markdown",
   "metadata": {},
   "source": [
    "In this code:\n",
    "\n",
    "We generate a set WW with 50 elements, each representing a different initial endowment for consumer A.\n",
    "We then plot these endowments in an Edgeworth box for both consumer A (in blue) and consumer B (in red), assuming the economy only consists of these two consumers and that all resources not owned by A are owned by B.\n",
    "This visualizes the different potential market equilibrium allocations assuming that each initial endowment leads to an equilibrium where the goods are not traded (this is a simplification and may not hold if there are specific market mechanisms or preferences at play)."
   ]
  },
  {
   "cell_type": "code",
   "execution_count": 40,
   "metadata": {},
   "outputs": [
    {
     "data": {
      "image/png": "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",
      "text/plain": [
       "<Figure size 800x800 with 1 Axes>"
      ]
     },
     "metadata": {},
     "output_type": "display_data"
    }
   ],
   "source": [
    "# Number of elements\n",
    "N = 50\n",
    "\n",
    "# Random endowments\n",
    "omega_1A = np.random.uniform(0, 1, N)\n",
    "omega_2A = np.random.uniform(0, 1, N)\n",
    "\n",
    "# Parameters\n",
    "alpha = 1 / 3\n",
    "beta = 2 / 3\n",
    "N = 50\n",
    "\n",
    "def utility_A(x1, x2):\n",
    "    return (x1 ** alpha) * (x2 ** (1 - alpha))\n",
    "\n",
    "def utility_B(x1, x2):\n",
    "    return (x1 ** beta) * (x2 ** (1 - beta))\n",
    "\n",
    "# Demand functions\n",
    "def demand_A(p1, p2, omega_A1, omega_A2, alpha):\n",
    "    x1_A = alpha * (p1 * omega_A1 + p2 * omega_A2) / p1\n",
    "    x2_A = (1 - alpha) * (p1 * omega_A1 + p2 * omega_A2) / p2\n",
    "    return x1_A, x2_A\n",
    "\n",
    "def demand_B(p1, p2, omega_B1, omega_B2, beta):\n",
    "    x1_B = beta * (p1 * omega_B1 + p2 * omega_B2) / p1\n",
    "    x2_B = (1 - beta) * (p1 * omega_B1 + p2 * omega_B2) / p2\n",
    "    return x1_B, x2_B\n",
    "\n",
    "# Function to calculate total market clearing error\n",
    "def total_error(p1, omega_A1, omega_A2, omega_B1, omega_B2):\n",
    "    x1_A, x2_A = demand_A(p1, 1, omega_A1, omega_A2, alpha)\n",
    "    x1_B, x2_B = demand_B(p1, 1, omega_B1, omega_B2, beta)\n",
    "    epsilon1 = x1_A + x1_B - 1\n",
    "    epsilon2 = x2_A + x2_B - 1\n",
    "    return abs(epsilon1) + abs(epsilon2)\n",
    "\n",
    "# Generate random endowments\n",
    "random_endowments = np.random.uniform(0, 1, (N, 2))\n",
    "market_equilibria = []\n",
    "\n",
    "# Find market equilibrium for each set of endowments\n",
    "for omega_A in random_endowments:\n",
    "    omega_A1, omega_A2 = omega_A\n",
    "    omega_B1 = 1 - omega_A1\n",
    "    omega_B2 = 1 - omega_A2\n",
    "    \n",
    "    result = minimize(total_error, 1, args=(omega_A1, omega_A2, omega_B1, omega_B2), bounds=[(0.01, 10)])\n",
    "    p1_star = result.x[0]\n",
    "    \n",
    "    x1_A_star, x2_A_star = demand_A(p1_star, 1, omega_A1, omega_A2, alpha)\n",
    "    market_equilibria.append((x1_A_star, x2_A_star))\n",
    "\n",
    "market_equilibria = np.array(market_equilibria)\n",
    "\n",
    "# Plotting the market equilibrium allocations in the Edgeworth box\n",
    "plt.figure(figsize=(8, 8))\n",
    "plt.scatter(market_equilibria[:, 0], market_equilibria[:, 1], c='blue', label='Equilibrium allocations for A')\n",
    "plt.scatter(1 - market_equilibria[:, 0], 1 - market_equilibria[:, 1], c='red', label='Equilibrium allocations for B', alpha=0.6)\n",
    "\n",
    "# Set up the Edgeworth Box\n",
    "plt.plot([0, 1], [0, 0], 'k-', lw=2)  # Bottom\n",
    "plt.plot([0, 0], [0, 1], 'k-', lw=2)  # Left\n",
    "plt.plot([1, 1], [0, 1], 'k-', lw=2)  # Top\n",
    "plt.plot([0, 1], [1, 1], 'k-', lw=2)  # Right\n",
    "\n",
    "# Labels and legend\n",
    "plt.xlabel('$x_1^A$')\n",
    "plt.ylabel('$x_2^A$')\n",
    "plt.title('Market Equilibrium Allocations in the Edgeworth Box')\n",
    "plt.legend()\n",
    "plt.grid(True)\n",
    "plt.show()\n",
    "\n",
    "\n",
    "\n"
   ]
  }
 ],
 "metadata": {
  "kernelspec": {
   "display_name": "base",
   "language": "python",
   "name": "python3"
  },
  "language_info": {
   "codemirror_mode": {
    "name": "ipython",
    "version": 3
   },
   "file_extension": ".py",
   "mimetype": "text/x-python",
   "name": "python",
   "nbconvert_exporter": "python",
   "pygments_lexer": "ipython3",
   "version": "3.11.9"
  },
  "toc-autonumbering": true,
  "vscode": {
   "interpreter": {
    "hash": "47ef90cdf3004d3f859f1fb202523c65c07ba7c22eefd261b181f4744e2d0403"
   }
  }
 },
 "nbformat": 4,
 "nbformat_minor": 4
}
