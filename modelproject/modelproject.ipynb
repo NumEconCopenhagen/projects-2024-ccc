{
 "cells": [
  {
   "cell_type": "markdown",
   "metadata": {},
   "source": [
    "# Analysis of the Solow Model with Human Capital"
   ]
  },
  {
   "cell_type": "markdown",
   "metadata": {},
   "source": [
    "Imports and set magics:"
   ]
  },
  {
   "cell_type": "code",
   "execution_count": 1,
   "metadata": {},
   "outputs": [],
   "source": [
    "import numpy as np\n",
    "from scipy import linalg\n",
    "from scipy import optimize\n",
    "import sympy as sm\n",
    "import matplotlib.pyplot as plt\n",
    "import ipywidgets as widgets\n",
    "from ipywidgets import interact\n",
    "\n",
    "# autoreload modules when code is run\n",
    "%load_ext autoreload\n",
    "%autoreload 2"
   ]
  },
  {
   "cell_type": "markdown",
   "metadata": {},
   "source": [
    "# Model description"
   ]
  },
  {
   "cell_type": "markdown",
   "metadata": {},
   "source": [
    "**The Basic Solow Model** \n",
    "\n",
    "For our model project, we look into the dymamics of the Solow model. The Solow model, in its basic form, is a long-run economic model, which attempts to explain economic growth by capital accumulation. The model is taken from the textbook from Macroeconomics II and the parameter values are based on common empirical findings.\n",
    "\n",
    "The Solow model with technological growth consists of the following functions:\n",
    "\n",
    "$$ Y_t = K_t^\\alpha(A_tL_t)^{1-\\alpha}, 0 < \\alpha < 1 $$\n",
    "$$ K_{t+1}=S_t+(1-\\delta)K_t,  0 < \\delta < 1 $$\n",
    "$$ S_t = sY_t,  0 < s < 1 $$\n",
    "$$ L_{t+1}= (1+n)L_t $$\n",
    "$$ A_{t+1} = (1+g)A_t $$\n",
    "\n",
    "where\n",
    "$Y_t$ is production, $K_t$ is physical capital, $A_t$ is technology, $S_t$ is savings and $L_t$ is labor.\n",
    "\n",
    "To start analyzing the model, we start by defining the parameters beneath\n"
   ]
  },
  {
   "cell_type": "code",
   "execution_count": 2,
   "metadata": {},
   "outputs": [],
   "source": [
    "# We define the parameters used in the model\n",
    "alpha = sm.symbols('alpha')\n",
    "delta = sm.symbols('delta')\n",
    "k = sm.symbols('k')\n",
    "s = sm.symbols('s')\n",
    "g = sm.symbols('g')\n",
    "n = sm.symbols('n')"
   ]
  },
  {
   "cell_type": "markdown",
   "metadata": {},
   "source": [
    "## Analytical solution"
   ]
  },
  {
   "cell_type": "markdown",
   "metadata": {},
   "source": [
    "We wish to find the transition equation for capital per effective worker, which we define as $ \\tilde{k}_t=\\frac{K_t}{A_tL_t}$.\n",
    "\n",
    "Start by dividing capital accumulation with $ A_{t+1}L_{t+1}$\n",
    "\n",
    "$$ \\frac{K_{t+1}}{A_{t+1}L_{t+1}} = \\frac{S_t+(1-\\delta)K_t}{A_{t+1}L_{t+1}} $$\n",
    "\n",
    "Then the last three functions described above for the model are inserted\n",
    "\n",
    "$$ \\tilde{k}_{t+1}=\\frac{sY_t+(1-\\delta)K_t}{L_t(1+n)A_t(1+g)} \\Leftrightarrow $$\n",
    "$$ \\tilde{k}_{t+1}=\\frac{1}{(1+n)(1+g)}[s\\tilde{y_t}+(1-\\delta)\\tilde{k}_t]$$\n",
    "\n",
    "Using the defintion for the tilde production function, $\\tilde{y}_t=\\frac{Y_t}{A_tL_t} $, we get $\\tilde{y}_t=\\tilde{k}_t^\\alpha$. Thereby, the transition equation becomes\n",
    "\n",
    "$$ \\tilde{k}_{t+1}=\\frac{1}{(1+n)(1+g)}[s\\tilde{k}_t^\\alpha+(1-\\delta)\\tilde{k}_t]$$\n",
    "\n",
    "from which we find the analytical steady state below."
   ]
  },
  {
   "cell_type": "code",
   "execution_count": 3,
   "metadata": {},
   "outputs": [
    {
     "data": {
      "text/latex": [
       "$\\displaystyle \\left(\\frac{\\delta + g n + g + n}{s}\\right)^{\\frac{1}{\\alpha - 1}}$"
      ],
      "text/plain": [
       "((delta + g*n + g + n)/s)**(1/(alpha - 1))"
      ]
     },
     "execution_count": 3,
     "metadata": {},
     "output_type": "execute_result"
    }
   ],
   "source": [
    "ss = sm.Eq(k,(s*k**alpha+(1-delta)*k)/((1+n)*(1+g)))\n",
    "kss = sm.solve(ss,k)[0]\n",
    "kss"
   ]
  },
  {
   "cell_type": "markdown",
   "metadata": {},
   "source": [
    "## Numerical solution"
   ]
  },
  {
   "cell_type": "markdown",
   "metadata": {},
   "source": [
    "Now we wish to solve the model for a numerical solution for the steady state. We use following parameter values:\n",
    "\n",
    "$\n",
    "\\alpha = 1/3, \\delta = 0.1, s = 0.2, g = 0.02, n = 0.02$\n"
   ]
  },
  {
   "cell_type": "code",
   "execution_count": 4,
   "metadata": {},
   "outputs": [
    {
     "name": "stdout",
     "output_type": "stream",
     "text": [
      "The steady state value for k is 1.700178\n"
     ]
    }
   ],
   "source": [
    "ss_func = sm.lambdify((s,g,n,delta,alpha),kss)\n",
    "\n",
    "# Evaluate function\n",
    "ss_func(0.2,0.02,0.02,0.1,1/3)\n",
    "\n",
    "print(f'The steady state value for k is {ss_func(0.2,0.02,0.02,0.1,1/3):1f}')"
   ]
  },
  {
   "cell_type": "markdown",
   "metadata": {},
   "source": [
    "For us to make a usable comparison later in this project, we also wish to fine steady state per effective worker in the economy. This is defined as\n",
    "\n",
    "$$\\tilde{y}^*=(\\tilde{k}^*)^\\alpha=\\left(\\frac{s}{n + g + ng +\\delta}\\right)^{\\frac{\\alpha}{1-\\alpha}}$$"
   ]
  },
  {
   "cell_type": "code",
   "execution_count": 5,
   "metadata": {},
   "outputs": [
    {
     "name": "stdout",
     "output_type": "stream",
     "text": [
      "The steady state value for y is 1.193525\n"
     ]
    }
   ],
   "source": [
    "# We define the steady state\n",
    "y_tilde1 = ((s)/(n+g+n*g+delta))**(alpha/(1-alpha))\n",
    "\n",
    "# Now we turn them in to python function, using sympy lambdify.\n",
    "yss_function1 = sm.lambdify((alpha,delta,n,g,s),y_tilde1)\n",
    "\n",
    "print(f'The steady state value for y is {yss_function1(1/3,0.1,0.02,0.02,0.2):1f}')"
   ]
  },
  {
   "cell_type": "markdown",
   "metadata": {},
   "source": [
    "# Further analysis"
   ]
  },
  {
   "cell_type": "markdown",
   "metadata": {},
   "source": [
    "We now decide to extend our Solow model to include human capital as well. The extended model will be defined by the following functions:\n",
    "\n",
    "$$ Y_t=K_t^\\alpha H_t^\\phi (A_tL_t)^{1-\\alpha-\\sigma}, 0 < \\alpha,\\phi < 1 $$\n",
    "$$ L_{t+1}=(1+n)L_t $$\n",
    "$$ A_{t+1}(1+g)A_t$$\n",
    "$$ K_{t+1}=s_KY_t+(1-\\delta)K_t $$\n",
    "$$ H_{t+1}=s_HY_t+(1-\\delta)H_t $$\n",
    "\n",
    "Compared to the variables in the basic Solow moodel, we now include $H_t$ for human capital.\n",
    "\n",
    "As previously, we compute the per effective worker (tilde), functions\n",
    "\n",
    "$$ \\tilde{k}_{t+1}=\\frac{1}{(1+n)(1+g)}[s_K\\tilde{y}_t+(1-\\delta)\\tilde{k}_t ]$$\n",
    "\n",
    "$$ \\tilde{h}_{t+1}=\\frac{1}{(1+n)(1+g)}[s_H\\tilde{y}_t+(1-\\delta)\\tilde{h}_t ]$$\n",
    "\n",
    "where $\\tilde{y}_t=\\tilde{k}_t^\\alpha\\tilde{h}_t^\\phi $"
   ]
  },
  {
   "cell_type": "code",
   "execution_count": 6,
   "metadata": {},
   "outputs": [],
   "source": [
    "# We define the parameters used in the model\n",
    "alpha = sm.symbols('alpha')\n",
    "delta = sm.symbols('delta')\n",
    "phi = sm.symbols('phi')\n",
    "k = sm.symbols('k')\n",
    "h = sm.symbols('h')\n",
    "s_K = sm.symbols('s_K')\n",
    "s_H = sm.symbols('s_H')\n",
    "g = sm.symbols('g')\n",
    "n = sm.symbols('n')"
   ]
  },
  {
   "cell_type": "markdown",
   "metadata": {},
   "source": [
    "And solve for the analytical steady state for physical and human capital, respectively:"
   ]
  },
  {
   "cell_type": "code",
   "execution_count": 7,
   "metadata": {},
   "outputs": [
    {
     "data": {
      "text/latex": [
       "$\\displaystyle \\left(\\frac{h^{- \\phi} \\left(\\delta + g n + g + n\\right)}{s_{K}}\\right)^{\\frac{1}{\\alpha - 1}}$"
      ],
      "text/plain": [
       "((delta + g*n + g + n)/(h**phi*s_K))**(1/(alpha - 1))"
      ]
     },
     "execution_count": 7,
     "metadata": {},
     "output_type": "execute_result"
    }
   ],
   "source": [
    "y = k**alpha*h**phi\n",
    "\n",
    "# For physical capital\n",
    "ss1 = sm.Eq(k,(s_K*y+(1-delta)*k)/((1+n)*(1+g)))\n",
    "kss1 = sm.solve(ss1,k)[0]\n",
    "kss1"
   ]
  },
  {
   "cell_type": "code",
   "execution_count": 8,
   "metadata": {},
   "outputs": [
    {
     "data": {
      "text/latex": [
       "$\\displaystyle \\left(\\frac{k^{- \\alpha} \\left(\\delta + g n + g + n\\right)}{s_{H}}\\right)^{\\frac{1}{\\phi - 1}}$"
      ],
      "text/plain": [
       "((delta + g*n + g + n)/(k**alpha*s_H))**(1/(phi - 1))"
      ]
     },
     "execution_count": 8,
     "metadata": {},
     "output_type": "execute_result"
    }
   ],
   "source": [
    "# For human capital\n",
    "ss2 = sm.Eq(h,(s_H*y+(1-delta)*h)/((1+n)*(1+g)))\n",
    "hss = sm.solve(ss2,h)[0]\n",
    "hss"
   ]
  },
  {
   "cell_type": "markdown",
   "metadata": {},
   "source": [
    "Which we solve as two equations with two unknowns and get the following steady states:\n",
    "\n",
    "$$\\tilde{k}^*=\\left(\\frac{s_K^{1-\\phi}s_H^\\phi}{n + g + ng +\\delta}\\right)^{\\frac{1}{1-\\alpha-\\phi}} $$\n",
    "\n",
    "$$\\tilde{h}^*=\\left(\\frac{s_K^{\\alpha}s_H^{1-\\alpha}}{n + g + ng +\\delta}\\right)^{\\frac{1}{1-\\alpha-\\phi}} $$\n",
    "\n",
    "We also wish to compute the numerical values, which is done below. We use following parameter values:\n",
    "\n",
    "$\n",
    "\\alpha = 1/3, \\phi = 1/3, \\delta = 0.1, s_K = 0.2, s_H = 0.3, g = 0.02, n = 0.02$\n",
    "\n",
    "Empirially it has been observed, that the savings rate in human capital takes a value between 0.2 and 0.4, hence we have chosen 0.3.\n"
   ]
  },
  {
   "cell_type": "code",
   "execution_count": 9,
   "metadata": {},
   "outputs": [
    {
     "name": "stdout",
     "output_type": "stream",
     "text": [
      "The steady state value for k is 4.335907, and the steady state value for h is 6.503860\n"
     ]
    }
   ],
   "source": [
    "# We define the two steady states:\n",
    "k_tilde = ((s_K**(1-phi) * s_H**phi)/(n+g+delta +n*g))**(1/(1-phi-alpha))\n",
    "h_tilde = ( (s_K**(alpha) * s_H**(1-alpha))/(n+g+delta +n*g))**(1/(1-phi-alpha))\n",
    "        \n",
    "# Now we turn them in to python function, using sympy lambdify.\n",
    "kss_function = sm.lambdify((alpha,phi,delta,n,g,s_K,s_H),k_tilde)\n",
    "hss_function = sm.lambdify((alpha,phi,delta,n,g,s_K,s_H),h_tilde) \n",
    "\n",
    "print(f'The steady state value for k is {kss_function(1/3,1/3,0.1,0.02,0.02,0.2,0.3):1f}, and the steady state value for h is {hss_function(1/3,1/3,0.1,0.02,0.02,0.2,0.3):4f}')"
   ]
  },
  {
   "cell_type": "markdown",
   "metadata": {},
   "source": [
    "Having the steady state expressions for physical- and human capital, we can combine them to get output per effective worker in the steady state in the model.\n",
    "\n",
    "$$\\tilde{y}^*=(\\tilde{k}^*)^\\alpha(\\tilde{h}^*)^\\phi=\\left(\\frac{s_K^{1-\\phi}s_H^\\phi}{n + g + ng +\\delta}\\right)^{\\frac{\\alpha}{1-\\alpha-\\phi}}\\left(\\frac{s_K^{\\alpha}s_H^{1-\\alpha}}{n + g + ng +\\delta}\\right)^{\\frac{\\phi}{1-\\alpha-\\phi}} $$\n",
    "\n",
    "We again wish to compute the numerical values, which is done below. The same parameter values as aboved are used."
   ]
  },
  {
   "cell_type": "code",
   "execution_count": 10,
   "metadata": {},
   "outputs": [
    {
     "name": "stdout",
     "output_type": "stream",
     "text": [
      "The steady state value for y is 3.043806\n"
     ]
    }
   ],
   "source": [
    "# We define the steady state for output per worker, assuming above steady states:\n",
    "y_tilde2 = ((k_tilde)**(alpha)*(h_tilde)**(phi))\n",
    "\n",
    "# Now we turn them in to python function, using sympy lambdify.\n",
    "yss2_function = sm.lambdify((alpha,phi,delta,n,g,s_K,s_H),y_tilde2)\n",
    "\n",
    "print(f'The steady state value for y is {yss2_function(1/3,1/3,0.1,0.02,0.02,0.2,0.3):1f}')"
   ]
  },
  {
   "cell_type": "markdown",
   "metadata": {},
   "source": [
    "We see, that after the inclusion of human capital in the model, steady state for physical capital increases from 1.70 units to 4.34 units per effective worker. More relevant, we also observe an increase in output per effective worker from 2.91 units to 3.50 units. Below is illustrated the transition diagrams for capital in the two different models. \n"
   ]
  },
  {
   "cell_type": "code",
   "execution_count": 11,
   "metadata": {},
   "outputs": [
    {
     "data": {
      "image/png": "[encoded data removed]",
      "text/plain": [
       "<Figure size 1200x600 with 1 Axes>"
      ]
     },
     "metadata": {},
     "output_type": "display_data"
    }
   ],
   "source": [
    "import numpy as np\n",
    "import matplotlib.pyplot as plt\n",
    "\n",
    "# Define the parameters\n",
    "alpha = 1/3\n",
    "delta = 0.1\n",
    "n = 0.02\n",
    "g = 0.02\n",
    "s = 0.2\n",
    "s_H = 0.3\n",
    "s_K = 0.2\n",
    "phi = 1/3\n",
    "\n",
    "# Define the initial values\n",
    "k_tilde_initial = 1.0\n",
    "h_tilde_initial = 1.0\n",
    "\n",
    "# Time periods for the simulation\n",
    "time_periods = 100\n",
    "\n",
    "# Initialize arrays to store capital and human capital per effective worker values over time\n",
    "k_tilde_values = np.zeros(time_periods)\n",
    "k_tilde_values_new = np.zeros(time_periods)\n",
    "h_tilde_values = np.zeros(time_periods)\n",
    "\n",
    "k_tilde_values[0] = k_tilde_initial\n",
    "k_tilde_values_new[0] = k_tilde_initial\n",
    "h_tilde_values[0] = h_tilde_initial\n",
    "\n",
    "# Iterate over time periods to compute k_tilde and h_tilde values based on the initial and new equations\n",
    "for t in range(1, time_periods):\n",
    "    # Initial equation\n",
    "    k_tilde_values[t] = (1 / ((1 + n) * (1 + g))) * (s * (k_tilde_values[t-1] ** alpha) + (1 - delta) * k_tilde_values[t-1])\n",
    "    \n",
    "    # New equation with y_tilde\n",
    "    y_tilde = (k_tilde_values_new[t-1] ** alpha) * (h_tilde_values[t-1] ** phi)\n",
    "    k_tilde_values_new[t] = (1 / ((1 + n) * (1 + g))) * (s_K * y_tilde + (1 - delta) * k_tilde_values_new[t-1])\n",
    "    h_tilde_values[t] = (1 / ((1 + n) * (1 + g))) * (s_H * y_tilde + (1 - delta) * k_tilde_values_new[t-1])\n",
    "\n",
    "# Plotting the transition diagram including both equations\n",
    "plt.figure(figsize=(12, 6))\n",
    "plt.plot(range(time_periods), k_tilde_values, label='$\\\\tilde{k}_t$ (Initial)', color='blue')\n",
    "plt.plot(range(time_periods), k_tilde_values_new, label='$\\\\tilde{k}_t$ (New)', color='red')\n",
    "plt.xlabel('Time')\n",
    "plt.ylabel('Capital per Effective Worker')\n",
    "plt.title('Transition Diagram for $\\\\tilde{k}_t$ Over Time (Initial and New Equations)')\n",
    "plt.legend()\n",
    "plt.grid(True)\n",
    "plt.show()\n"
   ]
  },
  {
   "cell_type": "markdown",
   "metadata": {},
   "source": [
    "We observe, that the extended model has higher capital per effetive worker, hence higher output, but also a slower convergence pace towards steady state. Naturally the Solow Model with human capital, is closer to reality, thus we continue with analyzing the dynamics of this model."
   ]
  },
  {
   "cell_type": "markdown",
   "metadata": {},
   "source": [
    "## An immigrant shock"
   ]
  },
  {
   "cell_type": "markdown",
   "metadata": {},
   "source": [
    "We now wish to look at the scenario, where an unexpected immigration of workers occurs. This leads to a shock to population, hence n increases."
   ]
  },
  {
   "cell_type": "code",
   "execution_count": 12,
   "metadata": {},
   "outputs": [
    {
     "data": {
      "application/vnd.jupyter.widget-view+json": {
       "model_id": "5335703913044a069397ad4a5fa14ef4",
       "version_major": 2,
       "version_minor": 0
      },
      "text/plain": [
       "interactive(children=(FloatSlider(value=0.3333333333333333, description='$\\\\alpha$', max=0.5, min=0.1, step=0.…"
      ]
     },
     "metadata": {},
     "output_type": "display_data"
    },
    {
     "data": {
      "text/plain": [
       "<function __main__.simulate_and_plot(alpha, phi, delta, n, g, s_K, s_H)>"
      ]
     },
     "execution_count": 12,
     "metadata": {},
     "output_type": "execute_result"
    }
   ],
   "source": [
    "# Define the model parameters\n",
    "alpha_value = 1/3\n",
    "phi_value = 1/3\n",
    "delta_value = 0.05\n",
    "n_value = 0.025\n",
    "g_value = 0.025\n",
    "s_K_value = 0.101\n",
    "s_H_value = 0.101\n",
    "\n",
    "# Steady state function for human capital\n",
    "def hss_function(alpha, phi, delta, n, g, s_K, s_H):\n",
    "    return ((s_K**(alpha) * s_H**(1-alpha)) / (n + g + delta + n*g))**(1/(1-alpha-phi))\n",
    "\n",
    "# Define the transition equation constants\n",
    "gamma = (1 + n_value) * (1 + g_value)\n",
    "\n",
    "# Define the recursive update function for human capital\n",
    "def update_h(h, y, delta, s_H, gamma):\n",
    "    return (s_H * y + (1 - delta) * h) / gamma\n",
    "\n",
    "# Function to simulate the convergence and plot the results\n",
    "def simulate_and_plot(alpha, phi, delta, n, g, s_K, s_H):\n",
    "    steady_state_h = hss_function(alpha, phi, delta, n, g, s_K, s_H)\n",
    "    gamma = (1 + n) * (1 + g)\n",
    "    \n",
    "    # Initialize human capital below its steady state and simulate the convergence\n",
    "    h_tilde = np.zeros(100)  # simulate for 100 periods\n",
    "    h_tilde[0] = steady_state_h * 0.5  # start from 50% of the steady state\n",
    "    \n",
    "    # Compute the path\n",
    "    for t in range(1, len(h_tilde)):\n",
    "        y_t = h_tilde[t-1]**phi  # using the production function assumption\n",
    "        h_tilde[t] = update_h(h_tilde[t-1], y_t, delta, s_H, gamma)\n",
    "    \n",
    "    # Plotting the convergence of human capital per effective worker towards its steady state\n",
    "    plt.figure(figsize=(10, 6))\n",
    "    plt.plot(h_tilde, label=r'$\\tilde{h}_t$', color='blue')\n",
    "    plt.hlines(steady_state_h, 0, len(h_tilde), color='red', linestyle='--', label='Steady State')\n",
    "    plt.xlabel('Time (t)')\n",
    "    plt.ylabel(r'$\\tilde{h}_t$')\n",
    "    plt.title('Convergence of Human Capital per Effective Worker towards Steady State')\n",
    "    plt.legend()\n",
    "    plt.grid(True)\n",
    "    plt.show()\n",
    "\n",
    "# Create widgets for the parameters\n",
    "alpha_slider = widgets.FloatSlider(min=0.1, max=0.5, step=0.01, value=alpha_value, description=r'$\\alpha$')\n",
    "phi_slider = widgets.FloatSlider(min=0.1, max=0.5, step=0.01, value=phi_value, description=r'$\\phi$')\n",
    "delta_slider = widgets.FloatSlider(min=0.01, max=0.1, step=0.01, value=delta_value, description=r'$\\delta$')\n",
    "n_slider = widgets.FloatSlider(min=0.01, max=0.05, step=0.005, value=n_value, description=r'$n$')\n",
    "g_slider = widgets.FloatSlider(min=0.01, max=0.05, step=0.005, value=g_value, description=r'$g$')\n",
    "s_K_slider = widgets.FloatSlider(min=0.05, max=0.2, step=0.01, value=s_K_value, description=r'$s_K$')\n",
    "s_H_slider = widgets.FloatSlider(min=0.05, max=0.2, step=0.01, value=s_H_value, description=r'$s_H$')\n",
    "\n",
    "# Use interact to create an interactive plot\n",
    "interact(simulate_and_plot, \n",
    "         alpha=alpha_slider, \n",
    "         phi=phi_slider, \n",
    "         delta=delta_slider, \n",
    "         n=n_slider, \n",
    "         g=g_slider, \n",
    "         s_K=s_K_slider, \n",
    "         s_H=s_H_slider)\n"
   ]
  },
  {
   "cell_type": "markdown",
   "metadata": {},
   "source": [
    "When the population growth rate(n) increases, the steady-state level of human capital per effective worker(h_tilde) decreases due to spreading human capital more thinly across a larger population. The economy converges faster to this lower steady-state level, but the initial growth of human capital per effective worker is slower. This results in a lower average level of human capital per worker as the population grows more rapidly."
   ]
  }
 ],
 "metadata": {
  "kernelspec": {
   "display_name": "base",
   "language": "python",
   "name": "python3"
  },
  "language_info": {
   "codemirror_mode": {
    "name": "ipython",
    "version": 3
   },
   "file_extension": ".py",
   "mimetype": "text/x-python",
   "name": "python",
   "nbconvert_exporter": "python",
   "pygments_lexer": "ipython3",
   "version": "3.11.9"
  },
  "toc-autonumbering": true,
  "vscode": {
   "interpreter": {
    "hash": "47ef90cdf3004d3f859f1fb202523c65c07ba7c22eefd261b181f4744e2d0403"
   }
  }
 },
 "nbformat": 4,
 "nbformat_minor": 4
}
