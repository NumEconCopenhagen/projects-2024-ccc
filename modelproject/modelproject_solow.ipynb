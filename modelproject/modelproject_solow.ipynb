<<<<<<< HEAD
{
 "cells": [
  {
   "cell_type": "markdown",
   "metadata": {},
   "source": [
    "# Analysis of the Solow Model"
   ]
  },
  {
   "cell_type": "markdown",
   "metadata": {},
   "source": [
    "Imports and set magics:"
   ]
  },
  {
   "cell_type": "code",
   "execution_count": 1,
   "metadata": {},
   "outputs": [],
   "source": [
    "import numpy as np\n",
    "from scipy import linalg\n",
    "from scipy import optimize\n",
    "import sympy as sm\n",
    "\n",
    "# autoreload modules when code is run\n",
    "%load_ext autoreload\n",
    "%autoreload 2\n",
    "\n",
    "# local modules\n",
    "import modelproject"
   ]
  },
  {
   "cell_type": "markdown",
   "metadata": {},
   "source": [
    "# Model description"
   ]
  },
  {
   "cell_type": "markdown",
   "metadata": {},
   "source": [
    "**The Basic Solow Model** \n",
    "\n",
    "For our model project, we look into the dymamics of the Solow model. The Solow model, in its basic form, is a long-run economic model, which attempts to explain economic growth by capital accumulation. \n",
    "\n",
    "The Solow model with technological growth consists of the following functions:\n",
    "\n",
    "$$ Y_t = K_t^\\alpha(A_tL_t)^{1-\\alpha}, 0 < \\alpha < 1 $$\n",
    "$$ K_{t+1}=S_t+(1-\\delta)K_t,  0 < \\delta < 1 $$\n",
    "$$ S_t = sY_t,  0 < s < 1 $$\n",
    "$$ L_{t+1}= (1+n)L_t $$\n",
    "$$ A_{t+1} = (1+g)A_t $$\n",
    "\n",
    "where\n",
    "$Y_t$ is production, $K_t$ is physical capital, $A_t$ is technology, $S_t$ is savings and $L_t$ is labor.\n",
    "\n",
    "To start analyzing the model, we start by defining the paramters beneath\n"
   ]
  },
  {
   "cell_type": "code",
   "execution_count": 2,
   "metadata": {},
   "outputs": [],
   "source": [
    "# We define the parameters used in the model\n",
    "alpha = sm.symbols('alpha')\n",
    "delta = sm.symbols('delta')\n",
    "k = sm.symbols('k')\n",
    "s = sm.symbols('s')\n",
    "g = sm.symbols('g')\n",
    "n = sm.symbols('n')"
   ]
  },
  {
   "cell_type": "markdown",
   "metadata": {},
   "source": [
    "## Analytical solution"
   ]
  },
  {
   "cell_type": "markdown",
   "metadata": {},
   "source": [
    "We wish to find the transition equation for capital per effective worker, which we define as $ \\tilde{k}_t=\\frac{K_t}{A_tL_t}$.\n",
    "\n",
    "Start by dividing capital accumulation with $ A_{t+1}L_{t+1}$\n",
    "\n",
    "$$ \\frac{K_{t+1}}{A_{t+1}L_{t+1}} = \\frac{S_t+(1-\\delta)K_t}{A_{t+1}L_{t+1}} $$\n",
    "\n",
    "Then the last three functions described above for the model are inserted\n",
    "\n",
    "$$ \\tilde{k}_{t+1}=\\frac{sY_t+(1-\\delta)K_t}{L_t(1+n)A_t(1+g)} \\Leftrightarrow $$\n",
    "$$ \\tilde{k}_{t+1}=\\frac{1}{(1+n)(1+g)}[s\\tilde{y_t}+(1-\\delta)\\tilde{k}_t]$$\n",
    "\n",
    "Using the defintion for the tilde production function, $\\tilde{y}_t=\\frac{Y_t}{A_tL_t} $, we get $\\tilde{y}_t=\\tilde{k}_t^\\alpha$. Thereby, the transition equation becomes\n",
    "\n",
    "$$ \\tilde{k}_{t+1}=\\frac{1}{(1+n)(1+g)}[s\\tilde{k}_t^\\alpha+(1-\\delta)\\tilde{k}_t]$$\n",
    "\n",
    "from which we find the analytical steady state below."
   ]
  },
  {
   "cell_type": "code",
   "execution_count": 3,
   "metadata": {},
   "outputs": [
    {
     "data": {
      "text/latex": [
       "$\\displaystyle \\left(\\frac{\\delta + g n + g + n}{s}\\right)^{\\frac{1}{\\alpha - 1}}$"
      ],
      "text/plain": [
       "((delta + g*n + g + n)/s)**(1/(alpha - 1))"
      ]
     },
     "execution_count": 3,
     "metadata": {},
     "output_type": "execute_result"
    }
   ],
   "source": [
    "ss = sm.Eq(k,(s*k**alpha+(1-delta)*k)/((1+n)*(1+g)))\n",
    "kss = sm.solve(ss,k)[0]\n",
    "kss"
   ]
  },
  {
   "cell_type": "markdown",
   "metadata": {},
   "source": [
    "## Numerical solution"
   ]
  },
  {
   "cell_type": "markdown",
   "metadata": {},
   "source": [
    "Now we wish to solve the model for a numerical solution for the steady state. We use following parameter values:\n",
    "\n",
    "$\n",
    "\\alpha = 1/3, \\delta = 0.05, s = 0.101, g = 0.025, n = 0.025$\n"
   ]
  },
  {
   "cell_type": "code",
   "execution_count": 4,
   "metadata": {},
   "outputs": [
    {
     "data": {
      "text/plain": [
       "1.903831539231319"
      ]
     },
     "execution_count": 4,
     "metadata": {},
     "output_type": "execute_result"
    }
   ],
   "source": [
    "ss_func = sm.lambdify((s,g,n,delta,alpha),kss)\n",
    "\n",
    "# Evaluate function\n",
    "ss_func(0.2,0.02,0.01,0.1,1/3)"
   ]
  },
  {
   "cell_type": "markdown",
   "metadata": {},
   "source": [
    "# Further analysis"
   ]
  },
  {
   "cell_type": "markdown",
   "metadata": {},
   "source": [
    "We now decide to extend our Solow model to include human capital as well. The extended model will be defined by the following functions:\n",
    "\n",
    "$$ Y_t=K_t^\\alpha H_t^\\phi (A_tL_t)^{1-\\alpha-\\sigma}, 0 < \\alpha,\\phi < 1 $$\n",
    "$$ L_{t+1}=(1+n)L_t $$\n",
    "$$ A_{t+1}(1+g)A_t$$\n",
    "$$ K_{t+1}=s_KY_t+(1-\\delta)K_t $$\n",
    "$$ H_{t+1}=s_HY_t+(1-\\delta)H_t $$\n",
    "\n",
    "Compared to the variables in the basic Solow moodel, we now include $H_t$ for human capital.\n",
    "\n",
    "As previously, we compute the per effective worker (tilde), functions\n",
    "\n",
    "$$ \\tilde{k}_{t+1}=\\frac{1}{(1+n)(1+g)}[s_K\\tilde{y}_t+(1-\\delta)\\tilde{k}_t ]$$\n",
    "\n",
    "$$ \\tilde{h}_{t+1}=\\frac{1}{(1+n)(1+g)}[s_H\\tilde{y}_t+(1-\\delta)\\tilde{h}_t ]$$\n",
    "\n",
    "where $\\tilde{y}_t=\\tilde{k}_t^\\alpha\\tilde{h}_t^\\phi $"
   ]
  },
  {
   "cell_type": "code",
   "execution_count": 5,
   "metadata": {},
   "outputs": [],
   "source": [
    "# We define the parameters used in the model\n",
    "alpha = sm.symbols('alpha')\n",
    "delta = sm.symbols('delta')\n",
    "phi = sm.symbols('phi')\n",
    "k = sm.symbols('k')\n",
    "h = sm.symbols('h')\n",
    "s_K = sm.symbols('s_K')\n",
    "s_H = sm.symbols('s_H')\n",
    "g = sm.symbols('g')\n",
    "n = sm.symbols('n')"
   ]
  },
  {
   "cell_type": "markdown",
   "metadata": {},
   "source": [
    "And solve for the analytical steady state for physical and human capital, respectively:"
   ]
  },
  {
   "cell_type": "code",
   "execution_count": 6,
   "metadata": {},
   "outputs": [
    {
     "data": {
      "text/latex": [
       "$\\displaystyle \\left(\\frac{h^{- \\phi} \\left(\\delta + g n + g + n\\right)}{s_{K}}\\right)^{\\frac{1}{\\alpha - 1}}$"
      ],
      "text/plain": [
       "((delta + g*n + g + n)/(h**phi*s_K))**(1/(alpha - 1))"
      ]
     },
     "execution_count": 6,
     "metadata": {},
     "output_type": "execute_result"
    }
   ],
   "source": [
    "y = k**alpha*h**phi\n",
    "\n",
    "# For physical capital\n",
    "ss1 = sm.Eq(k,(s_K*y+(1-delta)*k)/((1+n)*(1+g)))\n",
    "kss1 = sm.solve(ss1,k)[0]\n",
    "kss1"
   ]
  },
  {
   "cell_type": "code",
   "execution_count": 7,
   "metadata": {},
   "outputs": [
    {
     "data": {
      "text/latex": [
       "$\\displaystyle \\left(\\frac{k^{- \\alpha} \\left(\\delta + g n + g + n\\right)}{s_{H}}\\right)^{\\frac{1}{\\phi - 1}}$"
      ],
      "text/plain": [
       "((delta + g*n + g + n)/(k**alpha*s_H))**(1/(phi - 1))"
      ]
     },
     "execution_count": 7,
     "metadata": {},
     "output_type": "execute_result"
    }
   ],
   "source": [
    "# For human capital\n",
    "ss2 = sm.Eq(h,(s_H*y+(1-delta)*h)/((1+n)*(1+g)))\n",
    "hss = sm.solve(ss2,h)[0]\n",
    "hss"
   ]
  },
  {
   "cell_type": "markdown",
   "metadata": {},
   "source": [
    "Which we solve as two equations with two unknowns and get the following steady states:\n",
    "\n",
    "$$\\tilde{k}^*=\\left(\\frac{s_K^{1-\\phi}s_H^\\phi}{n + g + ng +\\delta}\\right)^{\\frac{1}{1-\\alpha-\\phi}} $$\n",
    "\n",
    "$$\\tilde{h}^*=\\left(\\frac{s_K^{\\alpha}s_H^{1-\\alpha}}{n + g + ng +\\delta}\\right)^{\\frac{1}{1-\\alpha-\\phi}} $$\n",
    "\n",
    "We also wish to compute the numerical values, which is done below. We use following parameter values:\n",
    "\n",
    "$\n",
    "\\alpha = 1/3, \\phi = 1/3, \\delta = 0.05, s_K = 0.101, s_H = 0.101, g = 0.025, n = 0.025$\n"
   ]
  },
  {
   "cell_type": "code",
   "execution_count": 31,
   "metadata": {},
   "outputs": [
    {
     "name": "stdout",
     "output_type": "stream",
     "text": [
      "The steady state value for k is 1.011222, and the steady state value for h is 1.011222\n"
     ]
    }
   ],
   "source": [
    "# We define the two steady states:\n",
    "k_tilde = ((s_K**(1-phi) * s_H**phi)/(n+g+delta +n*g))**(1/(1-phi-alpha))\n",
    "h_tilde = ( (s_K**(alpha) * s_H**(1-alpha))/(n+g+delta +n*g))**(1/(1-phi-alpha))\n",
    "        \n",
    "# Now we turn them in to python function, using sympy lambdify.\n",
    "kss_function = sm.lambdify((alpha,phi,delta,n,g,s_K,s_H),k_tilde)\n",
    "hss_function = sm.lambdify((alpha,phi,delta,n,g,s_K,s_H),h_tilde) \n",
    "\n",
    "print(f'The steady state value for k is {kss_function(1/3,1/3,0.05,0.025,0.025,0.101,0.101):1f}, and the steady state value for h is {hss_function(1/3,1/3,0.05,0.025,0.025,0.101,0.101):4f}')"
   ]
  },
  {
   "cell_type": "code",
   "execution_count": 33,
   "metadata": {},
   "outputs": [
    {
     "data": {
      "image/png": "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",
      "text/plain": [
       "<Figure size 1000x600 with 1 Axes>"
      ]
     },
     "metadata": {},
     "output_type": "display_data"
    }
   ],
   "source": [
    "# Defining the model parameters\n",
    "alpha_value = 1/3\n",
    "phi_value = 1/3\n",
    "delta_value = 0.05\n",
    "n_value = 0.025\n",
    "g_value = 0.025\n",
    "s_K_value = 0.101\n",
    "s_H_value = 0.101\n",
    "\n",
    "# Steady state function for human capital\n",
    "def hss_function(alpha, phi, delta, n, g, s_K, s_H):\n",
    "    # Placeholder function: replace this with your specific functional form\n",
    "    # and ensure it returns the correct steady state value for human capital\n",
    "    return ((s_K**(alpha) * s_H**(1-alpha)) / (n + g + delta + n*g))**(1/(1-alpha-phi))\n",
    "\n",
    "# Steady state value for human capital\n",
    "steady_state_h = hss_function(alpha_value, phi_value, delta_value, n_value, g_value, s_K_value, s_H_value)\n",
    "\n",
    "# Define the transition equation constants\n",
    "gamma = (1 + n_value) * (1 + g_value)\n",
    "\n",
    "# Define the recursive update function for human capital\n",
    "def update_h(h, y):\n",
    "    return (s_H_value * y + (1 - delta_value) * h) / gamma\n",
    "\n",
    "# Initialize human capital below its steady state and simulate the convergence\n",
    "h_tilde = np.zeros(100)  # simulate for 100 periods\n",
    "h_tilde[0] = steady_state_h * 0.5  # start from 50% of the steady state\n",
    "\n",
    "# Compute the path\n",
    "for t in range(1, len(h_tilde)):\n",
    "    y_t = h_tilde[t-1]**phi_value  # using the production function assumption\n",
    "    h_tilde[t] = update_h(h_tilde[t-1], y_t)\n",
    "\n",
    "# Plotting the convergence of human capital per effective worker towards its steady state\n",
    "plt.figure(figsize=(10, 6))\n",
    "plt.plot(h_tilde, label=r'$\\tilde{h}_t$', color='blue')\n",
    "plt.hlines(steady_state_h, 0, len(h_tilde), color='red', linestyle='--', label='Steady State')\n",
    "plt.xlabel('Time (t)')\n",
    "plt.ylabel(r'$\\tilde{h}_t$')\n",
    "plt.title('Convergence of Human Capital per Effective Worker towards Steady State')\n",
    "plt.legend()\n",
    "plt.grid(True)\n",
    "plt.show()\n"
   ]
  },
  {
   "cell_type": "markdown",
   "metadata": {},
   "source": [
    "Comment"
   ]
  }
 ],
 "metadata": {
  "kernelspec": {
   "display_name": "base",
   "language": "python",
   "name": "python3"
  },
  "language_info": {
   "codemirror_mode": {
    "name": "ipython",
    "version": 3
   },
   "file_extension": ".py",
   "mimetype": "text/x-python",
   "name": "python",
   "nbconvert_exporter": "python",
   "pygments_lexer": "ipython3",
   "version": "3.11.9"
  },
  "toc-autonumbering": true,
  "vscode": {
   "interpreter": {
    "hash": "47ef90cdf3004d3f859f1fb202523c65c07ba7c22eefd261b181f4744e2d0403"
   }
  }
 },
 "nbformat": 4,
 "nbformat_minor": 4
}
=======
{
 "cells": [
  {
   "cell_type": "markdown",
   "metadata": {},
   "source": [
    "# Analysis of the Solow Model"
   ]
  },
  {
   "cell_type": "markdown",
   "metadata": {},
   "source": [
    "Imports and set magics:"
   ]
  },
  {
   "cell_type": "code",
   "execution_count": 23,
   "metadata": {},
   "outputs": [
    {
     "name": "stdout",
     "output_type": "stream",
     "text": [
      "The autoreload extension is already loaded. To reload it, use:\n",
      "  %reload_ext autoreload\n"
     ]
    }
   ],
   "source": [
    "import numpy as np\n",
    "from scipy import linalg\n",
    "from scipy import optimize\n",
    "import sympy as sm\n",
    "\n",
    "# autoreload modules when code is run\n",
    "%load_ext autoreload\n",
    "%autoreload 2\n",
    "\n",
    "# local modules\n",
    "import modelproject"
   ]
  },
  {
   "cell_type": "markdown",
   "metadata": {},
   "source": [
    "# Model description"
   ]
  },
  {
   "cell_type": "markdown",
   "metadata": {},
   "source": [
    "**The Basic Solow Model** \n",
    "\n",
    "For our model project, we look into the dymamics of the Solow model. The Solow model, in its basic form, is a long-run economic model, which attempts to explain economic growth by capital accumulation. \n",
    "\n",
    "The Solow model with technological growth consists of the following functions:\n",
    "\n",
    "$$ Y_t = K_t^\\alpha(A_tL_t)^{1-\\alpha}, 0 < \\alpha < 1 $$\n",
    "$$ K_{t+1}=S_t+(1-\\delta)K_t,  0 < \\delta < 1 $$\n",
    "$$ S_t = sY_t,  0 < s < 1 $$\n",
    "$$ L_{t+1}= (1+n)L_t $$\n",
    "$$ A_{t+1} = (1+g)A_t $$\n",
    "\n",
    "where\n",
    "$Y_t$ is production, $K_t$ is physical capital, $A_t$ is technology, $S_t$ is savings and $L_t$ is labor.\n",
    "\n",
    "To start analyzing the model, we start by defining the paramters beneath\n"
   ]
  },
  {
   "cell_type": "code",
   "execution_count": 24,
   "metadata": {},
   "outputs": [],
   "source": [
    "# We define the parameters used in the model\n",
    "alpha = sm.symbols('alpha')\n",
    "delta = sm.symbols('delta')\n",
    "k = sm.symbols('k')\n",
    "s = sm.symbols('s')\n",
    "g = sm.symbols('g')\n",
    "n = sm.symbols('n')"
   ]
  },
  {
   "cell_type": "markdown",
   "metadata": {},
   "source": [
    "## Analytical solution"
   ]
  },
  {
   "cell_type": "markdown",
   "metadata": {},
   "source": [
    "We wish to find the transition equation for capital per effective worker, which we define as $ \\tilde{k}_t=\\frac{K_t}{A_tL_t}$.\n",
    "\n",
    "Start by dividing capital accumulation with $ A_{t+1}L_{t+1}$\n",
    "\n",
    "$$ \\frac{K_{t+1}}{A_{t+1}L_{t+1}} = \\frac{S_t+(1-\\delta)K_t}{A_{t+1}L_{t+1}} $$\n",
    "\n",
    "Then the last three functions described above for the model are inserted\n",
    "\n",
    "$$ \\tilde{k}_{t+1}=\\frac{sY_t+(1-\\delta)K_t}{L_t(1+n)A_t(1+g)} \\Leftrightarrow $$\n",
    "$$ \\tilde{k}_{t+1}=\\frac{1}{(1+n)(1+g)}[s\\tilde{y_t}+(1-\\delta)\\tilde{k}_t]$$\n",
    "\n",
    "Using the defintion for the tilde production function, $\\tilde{y}_t=\\frac{Y_t}{A_tL_t} $, we get $\\tilde{y}_t=\\tilde{k}_t^\\alpha$. Thereby, the transition equation becomes\n",
    "\n",
    "$$ \\tilde{k}_{t+1}=\\frac{1}{(1+n)(1+g)}[s\\tilde{k}_t^\\alpha+(1-\\delta)\\tilde{k}_t]$$\n",
    "\n",
    "from which we find the analytical steady state below."
   ]
  },
  {
   "cell_type": "code",
   "execution_count": 25,
   "metadata": {},
   "outputs": [
    {
     "data": {
      "text/latex": [
       "$\\displaystyle \\left(\\frac{\\delta + g n + g + n}{s}\\right)^{\\frac{1}{\\alpha - 1}}$"
      ],
      "text/plain": [
       "((delta + g*n + g + n)/s)**(1/(alpha - 1))"
      ]
     },
     "execution_count": 25,
     "metadata": {},
     "output_type": "execute_result"
    }
   ],
   "source": [
    "ss = sm.Eq(k,(s*k**alpha+(1-delta)*k)/((1+n)*(1+g)))\n",
    "kss = sm.solve(ss,k)[0]\n",
    "kss"
   ]
  },
  {
   "cell_type": "markdown",
   "metadata": {},
   "source": [
    "## Numerical solution"
   ]
  },
  {
   "cell_type": "markdown",
   "metadata": {},
   "source": [
    "Now we wish to solve the model for a numerical solution for the steady state. We use following parameter values:\n",
    "\n",
    "$\n",
    "\\alpha = 1/3, \\delta = 0.1, s = 0.2, g = 0.02, n = 0.01$\n"
   ]
  },
  {
   "cell_type": "code",
   "execution_count": 26,
   "metadata": {},
   "outputs": [
    {
     "data": {
      "text/plain": [
       "1.903831539231319"
      ]
     },
     "execution_count": 26,
     "metadata": {},
     "output_type": "execute_result"
    }
   ],
   "source": [
    "ss_func = sm.lambdify((s,g,n,delta,alpha),kss)\n",
    "\n",
    "# Evaluate function\n",
    "ss_func(0.2,0.02,0.01,0.1,1/3)"
   ]
  },
  {
   "cell_type": "markdown",
   "metadata": {},
   "source": [
    "# Further analysis"
   ]
  },
  {
   "cell_type": "markdown",
   "metadata": {},
   "source": [
    "We now decide to extend our Solow model to include human capital as well. The extended model will be defined by the following functions:\n",
    "\n",
    "$$ Y_t=K_t^\\alpha H_t^\\phi (A_tL_t)^{1-\\alpha-\\sigma}, 0 < \\alpha,\\phi < 1 $$\n",
    "$$ L_{t+1}=(1+n)L_t $$\n",
    "$$ A_{t+1}(1+g)A_t$$\n",
    "$$ K_{t+1}=s_KY_t+(1-\\delta)K_t $$\n",
    "$$ H_{t+1}=s_HY_t+(1-\\delta)H_t $$\n",
    "\n",
    "Compared to the variables in the basic Solow moodel, we now include $H_t$ for human capital.\n",
    "\n",
    "As previously, we compute the per effective worker (tilde), functions\n",
    "\n",
    "$$ \\tilde{k}_{t+1}=\\frac{1}{(1+n)(1+g)}[s_K\\tilde{y}_t+(1-\\delta)\\tilde{k}_t ]$$\n",
    "\n",
    "$$ \\tilde{h}_{t+1}=\\frac{1}{(1+n)(1+g)}[s_H\\tilde{y}_t+(1-\\delta)\\tilde{h}_t ]$$\n",
    "\n",
    "where $\\tilde{y}_t=\\tilde{k}_t^\\alpha\\tilde{h}_t^\\phi $"
   ]
  },
  {
   "cell_type": "code",
   "execution_count": 27,
   "metadata": {},
   "outputs": [],
   "source": [
    "# We define the parameters used in the model\n",
    "alpha = sm.symbols('alpha')\n",
    "delta = sm.symbols('delta')\n",
    "phi = sm.symbols('phi')\n",
    "k = sm.symbols('k')\n",
    "h = sm.symbols('h')\n",
    "s_K = sm.symbols('s_K')\n",
    "s_H = sm.symbols('s_H')\n",
    "g = sm.symbols('g')\n",
    "n = sm.symbols('n')"
   ]
  },
  {
   "cell_type": "markdown",
   "metadata": {},
   "source": [
    "And solve for the analytical steady state for physical and human capital, respectively:"
   ]
  },
  {
   "cell_type": "code",
   "execution_count": 32,
   "metadata": {},
   "outputs": [
    {
     "data": {
      "text/latex": [
       "$\\displaystyle \\left(\\frac{h^{- \\phi} \\left(\\delta + g n + g + n\\right)}{s_{K}}\\right)^{\\frac{1}{\\alpha - 1}}$"
      ],
      "text/plain": [
       "((delta + g*n + g + n)/(h**phi*s_K))**(1/(alpha - 1))"
      ]
     },
     "execution_count": 32,
     "metadata": {},
     "output_type": "execute_result"
    }
   ],
   "source": [
    "y = k**alpha*h**phi\n",
    "\n",
    "# For physical capital\n",
    "ss1 = sm.Eq(k,(s_K*y+(1-delta)*k)/((1+n)*(1+g)))\n",
    "kss1 = sm.solve(ss1,k)[0]\n",
    "kss1"
   ]
  },
  {
   "cell_type": "code",
   "execution_count": 33,
   "metadata": {},
   "outputs": [
    {
     "data": {
      "text/latex": [
       "$\\displaystyle \\left(\\frac{k^{- \\alpha} \\left(\\delta + g n + g + n\\right)}{s_{H}}\\right)^{\\frac{1}{\\phi - 1}}$"
      ],
      "text/plain": [
       "((delta + g*n + g + n)/(k**alpha*s_H))**(1/(phi - 1))"
      ]
     },
     "execution_count": 33,
     "metadata": {},
     "output_type": "execute_result"
    }
   ],
   "source": [
    "# For human capital\n",
    "ss2 = sm.Eq(h,(s_H*y+(1-delta)*h)/((1+n)*(1+g)))\n",
    "hss = sm.solve(ss2,h)[0]\n",
    "hss"
   ]
  },
  {
   "cell_type": "markdown",
   "metadata": {},
   "source": [
    "Which we solve as two equations with two unknowns and get the following steady states:\n",
    "\n",
    "$$\\tilde{k}^*=\\left(\\frac{s_K^{1-\\phi}s_H^\\phi}{n + g + ng +\\delta}\\right)^{\\frac{1}{1-\\alpha-\\phi}} $$\n",
    "\n",
    "$$\\tilde{h}^*=\\left(\\frac{s_K^{\\alpha}s_H^{1-\\alpha}}{n + g + ng +\\delta}\\right)^{\\frac{1}{1-\\alpha-\\phi}} $$\n",
    "\n",
    "We also wish to compute the numerical values, which is done below. We use following parameter values:\n",
    "\n",
    "$\n",
    "\\alpha = 1/3, \\phi = 1/3, \\delta = 0.1, s_K = 0.2, s_H = 0.1, g = 0.02, n = 0.01$\n",
    "\n",
    "JEG ER I TVIVL OM DET ER DE RIGTIGE VÆRDIER"
   ]
  },
  {
   "cell_type": "code",
   "execution_count": 42,
   "metadata": {},
   "outputs": [
    {
     "name": "stdout",
     "output_type": "stream",
     "text": [
      "The steady state value for k is 1.812287, and the steady state value for h is 0.906144\n"
     ]
    }
   ],
   "source": [
    "# We define the two steady states:\n",
    "k_tilde = ((s_K**(1-phi) * s_H**phi)/(n+g+delta +n*g))**(1/(1-phi-alpha))\n",
    "h_tilde = ( (s_K**(alpha) * s_H**(1-alpha))/(n+g+delta +n*g))**(1/(1-phi-alpha))\n",
    "        \n",
    "# Now we turn them in to python function, using sympy lambdify.\n",
    "kss_function = sm.lambdify((alpha,phi,delta,n,g,s_K,s_H),k_tilde)\n",
    "hss_function = sm.lambdify((alpha,phi,delta,n,g,s_K,s_H),h_tilde) \n",
    "\n",
    "print(f'The steady state value for k is {kss_function(1/3,1/3,0.1,0.01,0.02,0.2,0.1):1f}, and the steady state value for h is {hss_function(1/3,1/3,0.1,0.01,0.02,0.2,0.1):4f}')"
   ]
  },
  {
   "cell_type": "markdown",
   "metadata": {},
   "source": [
    "HER SKAL VI VISE EN GRAF DER VISER KONVERGING MOD STEADY STATE - TÆNKER DET ER BEDST GØRE FOR MED HUMAN KAPITAL, SVÆRERE GODT NOK"
   ]
  },
  {
   "cell_type": "markdown",
   "metadata": {},
   "source": [
    "# Conclusion"
   ]
  },
  {
   "cell_type": "markdown",
   "metadata": {},
   "source": [
    "Add concise conclusion. "
   ]
  }
 ],
 "metadata": {
  "kernelspec": {
   "display_name": "base",
   "language": "python",
   "name": "python3"
  },
  "language_info": {
   "codemirror_mode": {
    "name": "ipython",
    "version": 3
   },
   "file_extension": ".py",
   "mimetype": "text/x-python",
   "name": "python",
   "nbconvert_exporter": "python",
   "pygments_lexer": "ipython3",
   "version": "3.11.7"
  },
  "toc-autonumbering": true,
  "vscode": {
   "interpreter": {
    "hash": "47ef90cdf3004d3f859f1fb202523c65c07ba7c22eefd261b181f4744e2d0403"
   }
  }
 },
 "nbformat": 4,
 "nbformat_minor": 4
}
>>>>>>> 086fa52c63456aa8b25f7905afdca67826b361c3
