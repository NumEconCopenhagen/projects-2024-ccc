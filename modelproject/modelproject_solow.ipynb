{
 "cells": [
  {
   "cell_type": "markdown",
   "metadata": {},
   "source": [
    "# Analysis of the Solow Model"
   ]
  },
  {
   "cell_type": "markdown",
   "metadata": {},
   "source": [
    "Imports and set magics:"
   ]
  },
  {
   "cell_type": "code",
   "execution_count": 2,
   "metadata": {},
   "outputs": [],
   "source": [
    "import numpy as np\n",
    "from scipy import linalg\n",
    "from scipy import optimize\n",
    "import sympy as sm\n",
    "\n",
    "# autoreload modules when code is run\n",
    "%load_ext autoreload\n",
    "%autoreload 2\n",
    "\n",
    "# local modules\n",
    "import modelproject"
   ]
  },
  {
   "cell_type": "markdown",
   "metadata": {},
   "source": [
    "# Model description"
   ]
  },
  {
   "cell_type": "markdown",
   "metadata": {},
   "source": [
    "**The Basic Solow Model** \n",
    "\n",
    "For our model project, we look into the dymamics of the Solow model. The Solow model, in its basic form, is a long-run economic model, which attempts to explain economic growth by capital accumulation. \n",
    "\n",
    "The Solow model with technological growth consists of the following functions:\n",
    "\n",
    "$$ Y_t = K_t^\\alpha(A_tL_t)^{1-\\alpha}, 0 < \\alpha < 1 $$\n",
    "$$ K_{t+1}=S_t+(1-\\delta)K_t,  0 < \\delta < 1 $$\n",
    "$$ S_t = sY_t,  0 < s < 1 $$\n",
    "$$ L_{t+1}= (1+n)L_t $$\n",
    "$$ A_{t+1} = (1+g)A_t $$\n",
    "\n",
    "where\n",
    "$Y_t$ is production, $K_t$ is physical capital, $A_t$ is technology, $S_t$ is savings and $L_t$ is labor.\n",
    "\n",
    "To start analyzing the model, we start by defining the paramters beneath\n"
   ]
  },
  {
   "cell_type": "code",
   "execution_count": 3,
   "metadata": {},
   "outputs": [],
   "source": [
    "# We define the parameters used in the model\n",
    "alpha = sm.symbols('alpha')\n",
    "delta = sm.symbols('delta')\n",
    "k = sm.symbols('k')\n",
    "s = sm.symbols('s')\n",
    "g = sm.symbols('g')\n",
    "n = sm.symbols('n')"
   ]
  },
  {
   "cell_type": "markdown",
   "metadata": {},
   "source": [
    "## Analytical solution"
   ]
  },
  {
   "cell_type": "markdown",
   "metadata": {},
   "source": [
    "We wish to find the transition equation for capital per effective worker, which we define as $ \\tilde{k}_t=\\frac{K_t}{A_tL_t}$.\n",
    "\n",
    "Start by dividing capital accumulation with $ A_{t+1}L_{t+1}$\n",
    "\n",
    "$$ \\frac{K_{t+1}}{A_{t+1}L_{t+1}} = \\frac{S_t+(1-\\delta)K_t}{A_{t+1}L_{t+1}} $$\n",
    "\n",
    "Then the last three functions described above for the model are inserted\n",
    "\n",
    "$$ \\tilde{k}_{t+1}=\\frac{sY_t+(1-\\delta)K_t}{L_t(1+n)A_t(1+g)} \\Leftrightarrow $$\n",
    "$$ \\tilde{k}_{t+1}=\\frac{1}{(1+n)(1+g)}[s\\tilde{y_t}+(1-\\delta)\\tilde{k}_t]$$\n",
    "\n",
    "Using the defintion for the tilde production function, $\\tilde{y}_t=\\frac{Y_t}{A_tL_t} $, we get $\\tilde{y}_t=\\tilde{k}_t^\\alpha$. Thereby, the transition equation becomes\n",
    "\n",
    "$$ \\tilde{k}_{t+1}=\\frac{1}{(1+n)(1+g)}[s\\tilde{k}_t^\\alpha+(1-\\delta)\\tilde{k}_t]$$\n",
    "\n",
    "from which we find the analytical steady state below."
   ]
  },
  {
   "cell_type": "code",
   "execution_count": 5,
   "metadata": {},
   "outputs": [
    {
     "data": {
      "text/latex": [
       "$\\displaystyle \\left(\\frac{\\delta + g n + g + n}{s}\\right)^{\\frac{1}{\\alpha - 1}}$"
      ],
      "text/plain": [
       "((delta + g*n + g + n)/s)**(1/(alpha - 1))"
      ]
     },
     "execution_count": 5,
     "metadata": {},
     "output_type": "execute_result"
    }
   ],
   "source": [
    "ss = sm.Eq(k,(s*k**alpha+(1-delta)*k)/((1+n)*(1+g)))\n",
    "kss = sm.solve(ss,k)[0]\n",
    "kss"
   ]
  },
  {
   "cell_type": "markdown",
   "metadata": {},
   "source": [
    "## Numerical solution"
   ]
  },
  {
   "cell_type": "markdown",
   "metadata": {},
   "source": [
    "Now we wish to solve the model for a numerical solution for the steady state. We use following parameters:\n",
    "\n",
    "$\n",
    "\\alpha = 1/3, \\delta = 0.1, s = 0.2, g = 0.02, n = 0.01$\n"
   ]
  },
  {
   "cell_type": "code",
   "execution_count": 10,
   "metadata": {},
   "outputs": [
    {
     "data": {
      "text/plain": [
       "1.903831539231319"
      ]
     },
     "execution_count": 10,
     "metadata": {},
     "output_type": "execute_result"
    }
   ],
   "source": [
    "ss_func = sm.lambdify((s,g,n,delta,alpha),kss)\n",
    "\n",
    "# Evaluate function\n",
    "ss_func(0.2,0.02,0.01,0.1,1/3)"
   ]
  },
  {
   "cell_type": "markdown",
   "metadata": {},
   "source": [
    "# Further analysis"
   ]
  },
  {
   "cell_type": "markdown",
   "metadata": {},
   "source": [
    "We now decide to extend our Solow model to include human capital as well. The extended model will be defined by the following functions:\n",
    "\n",
    "$$ Y_t=K_t^\\alpha H_t^\\phi (A_tL_t)^{1-\\alpha-\\sigma}, 0 < \\alpha,\\phi < 1 $$\n",
    "$$ L_{t+1}=(1+n)L_t $$\n",
    "$$ A_{t+1}(1+g)A_t$$\n",
    "$$ K_{t+1}=s_KY_t+(1-\\delta)K_t $$\n",
    "$$ H_{t+1}=s_HY_t+(1-\\delta)H_t $$\n",
    "\n",
    "Compared to the variables in the basic Solow moodel, we now include $H_t$ for human capital.\n",
    "\n",
    "As previously, we compute the per effective worker (tilde), functions\n",
    "\n",
    "$$ \\tilde{k}_{t+1}=\\frac{1}{(1+n)(1+g)}[s_K\\tilde{y}_t+(1-\\delta)\\tilde{k}_t ]$$\n",
    "\n",
    "$$ \\tilde{h}_{t+1}=\\frac{1}{(1+n)(1+g)}[s_H\\tilde{y}_t+(1-\\delta)\\tilde{h}_t ]$$\n",
    "\n",
    "where $\\tilde{y}_t=\\tilde{k}_t^\\alpha\\tilde{h}_t^\\phi $"
   ]
  },
  {
   "cell_type": "code",
   "execution_count": 14,
   "metadata": {},
   "outputs": [],
   "source": [
    "# We define the parameters used in the model\n",
    "alpha = sm.symbols('alpha')\n",
    "delta = sm.symbols('delta')\n",
    "phi = sm.symbols('phi')\n",
    "k = sm.symbols('k')\n",
    "h = sm.symbols('h')\n",
    "s_K = sm.symbols('s_K')\n",
    "s_H = sm.symbols('s_H')\n",
    "g = sm.symbols('g')\n",
    "n = sm.symbols('n')"
   ]
  },
  {
   "cell_type": "markdown",
   "metadata": {},
   "source": [
    "And solve for the analytical steady state for physical and human capital, respectively:"
   ]
  },
  {
   "cell_type": "code",
   "execution_count": 20,
   "metadata": {},
   "outputs": [
    {
     "data": {
      "text/latex": [
       "$\\displaystyle \\left(\\frac{h^{- \\phi} \\left(\\delta + g n + g + n\\right)}{s_{K}}\\right)^{\\frac{1}{\\alpha - 1}}$"
      ],
      "text/plain": [
       "((delta + g*n + g + n)/(h**phi*s_K))**(1/(alpha - 1))"
      ]
     },
     "execution_count": 20,
     "metadata": {},
     "output_type": "execute_result"
    }
   ],
   "source": [
    "y = k**alpha*h**phi\n",
    "\n",
    "# For physical capital\n",
    "ss1 = sm.Eq(k,(s_K*y+(1-delta)*k)/((1+n)*(1+g)))\n",
    "kss1 = sm.solve(ss1,k)[0]\n",
    "kss1"
   ]
  },
  {
   "cell_type": "code",
   "execution_count": 21,
   "metadata": {},
   "outputs": [
    {
     "data": {
      "text/latex": [
       "$\\displaystyle \\left(\\frac{k^{- \\alpha} \\left(\\delta + g n + g + n\\right)}{s_{H}}\\right)^{\\frac{1}{\\phi - 1}}$"
      ],
      "text/plain": [
       "((delta + g*n + g + n)/(k**alpha*s_H))**(1/(phi - 1))"
      ]
     },
     "execution_count": 21,
     "metadata": {},
     "output_type": "execute_result"
    }
   ],
   "source": [
    "# For human capital\n",
    "ss2 = sm.Eq(h,(s_H*y+(1-delta)*h)/((1+n)*(1+g)))\n",
    "hss = sm.solve(ss,h)[0]\n",
    "hss"
   ]
  },
  {
   "cell_type": "markdown",
   "metadata": {},
   "source": [
    "# Conclusion"
   ]
  },
  {
   "cell_type": "markdown",
   "metadata": {},
   "source": [
    "Add concise conclusion. "
   ]
  }
 ],
 "metadata": {
  "kernelspec": {
   "display_name": "base",
   "language": "python",
   "name": "python3"
  },
  "language_info": {
   "codemirror_mode": {
    "name": "ipython",
    "version": 3
   },
   "file_extension": ".py",
   "mimetype": "text/x-python",
   "name": "python",
   "nbconvert_exporter": "python",
   "pygments_lexer": "ipython3",
   "version": "3.11.7"
  },
  "toc-autonumbering": true,
  "vscode": {
   "interpreter": {
    "hash": "47ef90cdf3004d3f859f1fb202523c65c07ba7c22eefd261b181f4744e2d0403"
   }
  }
 },
 "nbformat": 4,
 "nbformat_minor": 4
}
