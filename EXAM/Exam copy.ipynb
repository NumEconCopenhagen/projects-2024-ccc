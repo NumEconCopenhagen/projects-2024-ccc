{
 "cells": [
  {
   "cell_type": "markdown",
   "metadata": {},
   "source": [
    "# Problem 1 Production economy and CO2 taxation"
   ]
  },
  {
   "cell_type": "markdown",
   "metadata": {},
   "source": [
    "## Question 1"
   ]
  },
  {
   "cell_type": "code",
   "execution_count": 41,
   "metadata": {},
   "outputs": [
    {
     "name": "stdout",
     "output_type": "stream",
     "text": [
      "     p1        p2  Labor Market Clears  Good 1 Market Clears  \\\n",
      "0   0.1  0.100000                False                 False   \n",
      "1   0.1  0.311111                False                 False   \n",
      "2   0.1  0.522222                False                 False   \n",
      "3   0.1  0.733333                False                 False   \n",
      "4   0.1  0.944444                False                 False   \n",
      "..  ...       ...                  ...                   ...   \n",
      "95  2.0  1.155556                False                 False   \n",
      "96  2.0  1.366667                False                 False   \n",
      "97  2.0  1.577778                False                 False   \n",
      "98  2.0  1.788889                False                 False   \n",
      "99  2.0  2.000000                False                 False   \n",
      "\n",
      "    Good 2 Market Clears  \n",
      "0                  False  \n",
      "1                  False  \n",
      "2                  False  \n",
      "3                  False  \n",
      "4                  False  \n",
      "..                   ...  \n",
      "95                 False  \n",
      "96                 False  \n",
      "97                 False  \n",
      "98                 False  \n",
      "99                 False  \n",
      "\n",
      "[100 rows x 5 columns]\n"
     ]
    }
   ],
   "source": [
    "import numpy as np\n",
    "from types import SimpleNamespace\n",
    "import pandas as pd\n",
    "\n",
    "# First we define the parameters\n",
    "par = SimpleNamespace()\n",
    "par.A = 1.0\n",
    "par.gamma = 0.5\n",
    "par.alpha = 0.3\n",
    "par.nu = 1.0\n",
    "par.epsilon = 2.0\n",
    "par.tau = 0.0  # initial value for tax\n",
    "par.T = 0.0    # initial value for transfer\n",
    "\n",
    "# Set numeraire\n",
    "w = 1.0\n",
    "\n",
    "# Then we define the function for optimal firm behavior\n",
    "def optimal_firm_behavior(p, w, A, gamma):\n",
    "    ell_star = (p * A * gamma / w) ** (1 / (1 - gamma))\n",
    "    y_star = A * ell_star ** gamma\n",
    "    pi_star = p * y_star - w * ell_star\n",
    "    return ell_star, y_star, pi_star\n",
    "\n",
    "# Function for optimal consumer behavior\n",
    "def optimal_consumer_behavior(p1, p2, w, ell1_star, ell2_star, T, pi1_star, pi2_star, alpha):\n",
    "    income = w * (ell1_star + ell2_star) + T + pi1_star + pi2_star\n",
    "    c1 = alpha * income / p1\n",
    "    c2 = (1 - alpha) * income / (p2 + par.tau)\n",
    "    return c1, c2\n",
    "\n",
    "# Function to check market clearing\n",
    "def check_market_clearing(p1, p2, par):\n",
    "    ell1_star, y1_star, pi1_star = optimal_firm_behavior(p1, w, par.A, par.gamma)\n",
    "    ell2_star, y2_star, pi2_star = optimal_firm_behavior(p2, w, par.A, par.gamma)\n",
    "    \n",
    "    T = par.T  # T and tau are initially 0\n",
    "    tau = par.tau\n",
    "    c1, c2 = optimal_consumer_behavior(p1, p2, w, ell1_star, ell2_star, T, pi1_star, pi2_star, par.alpha)\n",
    "    \n",
    "    # Check labor market\n",
    "    labor_market_clears = np.isclose(ell1_star + ell2_star, w)\n",
    "    # Check goods markets\n",
    "    goods_market1_clears = np.isclose(c1, y1_star)\n",
    "    goods_market2_clears = np.isclose(c2, y2_star)\n",
    "    \n",
    "    return labor_market_clears, goods_market1_clears, goods_market2_clears\n",
    "\n",
    "# Price ranges\n",
    "p1_values = np.linspace(0.1, 2.0, 10)\n",
    "p2_values = np.linspace(0.1, 2.0, 10)\n",
    "\n",
    "# Check market clearing conditions\n",
    "results = []\n",
    "for p1 in p1_values:\n",
    "    for p2 in p2_values:\n",
    "        labor_clears, market1_clears, market2_clears = check_market_clearing(p1, p2, par)\n",
    "        results.append((p1, p2, labor_clears, market1_clears, market2_clears))\n",
    "\n",
    "df = pd.DataFrame(results, columns=[\"p1\", \"p2\", \"Labor Market Clears\", \"Good 1 Market Clears\", \"Good 2 Market Clears\"])\n",
    "print(df)\n"
   ]
  },
  {
   "cell_type": "markdown",
   "metadata": {},
   "source": [
    "This indicates that with the given parameters and price ranges, the market for neither Good 1 nor Good 2 reaches equilibrium. Therefore, we can conclude that under the current conditions and assumptions, there are no price combinations within the specified ranges that lead to both goods markets clearing simultaneously."
   ]
  },
  {
   "cell_type": "markdown",
   "metadata": {},
   "source": [
    "## Question 2"
   ]
  },
  {
   "cell_type": "code",
   "execution_count": 42,
   "metadata": {},
   "outputs": [
    {
     "name": "stdout",
     "output_type": "stream",
     "text": [
      "Equilibrium prices: p1 = 1.0, p2 = 1.0\n"
     ]
    },
    {
     "name": "stderr",
     "output_type": "stream",
     "text": [
      "C:\\Users\\super\\AppData\\Local\\Temp\\ipykernel_7828\\2862320087.py:59: RuntimeWarning: The iteration is not making good progress, as measured by the \n",
      "  improvement from the last ten iterations.\n",
      "  p1_eq, p2_eq = fsolve(equations, (p1_guess, p2_guess))\n"
     ]
    }
   ],
   "source": [
    "import numpy as np\n",
    "from types import SimpleNamespace\n",
    "import pandas as pd\n",
    "from scipy.optimize import fsolve\n",
    "\n",
    "# First we define the parameters\n",
    "par = SimpleNamespace()\n",
    "par.A = 1.0\n",
    "par.gamma = 0.5\n",
    "par.alpha = 0.3\n",
    "par.nu = 1.0\n",
    "par.epsilon = 2.0\n",
    "par.tau = 0.0  # initial value for tax\n",
    "par.T = 0.0    # initial value for transfer\n",
    "\n",
    "# Set numeraire\n",
    "w = 1.0\n",
    "\n",
    "# Then we define the function for optimal firm behavior\n",
    "def optimal_firm_behavior(p, w, A, gamma):\n",
    "    ell_star = (p * A * gamma / w) ** (1 / (1 - gamma))\n",
    "    y_star = A * ell_star ** gamma\n",
    "    pi_star = p * y_star - w * ell_star\n",
    "    return ell_star, y_star, pi_star\n",
    "\n",
    "# Function for optimal consumer behavior\n",
    "def optimal_consumer_behavior(p1, p2, w, ell1_star, ell2_star, T, pi1_star, pi2_star, alpha):\n",
    "    income = w * (ell1_star + ell2_star) + T + pi1_star + pi2_star\n",
    "    c1 = alpha * income / p1\n",
    "    c2 = (1 - alpha) * income / (p2 + par.tau)\n",
    "    return c1, c2\n",
    "\n",
    "# Function to check market clearing\n",
    "def check_market_clearing(p1, p2, par):\n",
    "    ell1_star, y1_star, pi1_star = optimal_firm_behavior(p1, w, par.A, par.gamma)\n",
    "    ell2_star, y2_star, pi2_star = optimal_firm_behavior(p2, w, par.A, par.gamma)\n",
    "    \n",
    "    T = par.T  # T and tau are initially 0\n",
    "    tau = par.tau\n",
    "    c1, c2 = optimal_consumer_behavior(p1, p2, w, ell1_star, ell2_star, T, pi1_star, pi2_star, par.alpha)\n",
    "    \n",
    "    # Check labor market\n",
    "    labor_market_clears = np.isclose(ell1_star + ell2_star, w)\n",
    "    # Check goods markets\n",
    "    goods_market1_clears = np.isclose(c1, y1_star)\n",
    "    goods_market2_clears = np.isclose(c2, y2_star)\n",
    "    \n",
    "    return labor_market_clears, goods_market1_clears, goods_market2_clears\n",
    "\n",
    "# Function to find equilibrium prices\n",
    "def equilibrium_prices(par):\n",
    "    def equations(vars):\n",
    "        p1, p2 = vars\n",
    "        labor_clears, market1_clears, market2_clears = check_market_clearing(p1, p2, par)\n",
    "        # We use only two market clearing conditions\n",
    "        return (labor_clears - 1, market1_clears - 1)\n",
    "    \n",
    "    p1_guess, p2_guess = 1.0, 1.0\n",
    "    p1_eq, p2_eq = fsolve(equations, (p1_guess, p2_guess))\n",
    "    return p1_eq, p2_eq\n",
    "\n",
    "# Find equilibrium prices\n",
    "p1_eq, p2_eq = equilibrium_prices(par)\n",
    "\n",
    "# Display equilibrium prices\n",
    "print(f\"Equilibrium prices: p1 = {p1_eq}, p2 = {p2_eq}\")\n"
   ]
  }
 ],
 "metadata": {
  "kernelspec": {
   "display_name": "Python 3",
   "language": "python",
   "name": "python3"
  },
  "language_info": {
   "codemirror_mode": {
    "name": "ipython",
    "version": 3
   },
   "file_extension": ".py",
   "mimetype": "text/x-python",
   "name": "python",
   "nbconvert_exporter": "python",
   "pygments_lexer": "ipython3",
   "version": "3.11.9"
  }
 },
 "nbformat": 4,
 "nbformat_minor": 2
}
