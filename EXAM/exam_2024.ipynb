{
 "cells": [
  {
   "cell_type": "markdown",
   "metadata": {},
   "source": [
    "**Table of contents**<a id='toc0_'></a>    \n",
    "- 1. [Problem 1: Production economy and CO2 taxation](#toc1_)    \n",
    "- 2. [Problem 2: Career choice model](#toc2_)    \n",
    "- 3. [Problem 3: Barycentric interpolation](#toc3_)    \n",
    "\n",
    "<!-- vscode-jupyter-toc-config\n",
    "\tnumbering=true\n",
    "\tanchor=true\n",
    "\tflat=false\n",
    "\tminLevel=2\n",
    "\tmaxLevel=6\n",
    "\t/vscode-jupyter-toc-config -->\n",
    "<!-- THIS CELL WILL BE REPLACED ON TOC UPDATE. DO NOT WRITE YOUR TEXT IN THIS CELL -->"
   ]
  },
  {
   "cell_type": "code",
   "execution_count": 111,
   "metadata": {},
   "outputs": [],
   "source": [
    "# Write your code here\n",
    "import numpy as np\n",
    "from types import SimpleNamespace"
   ]
  },
  {
   "cell_type": "markdown",
   "metadata": {},
   "source": [
    "## 1. <a id='toc1_'></a>[Problem 1: Production economy and CO2 taxation](#toc0_)"
   ]
  },
  {
   "cell_type": "markdown",
   "metadata": {},
   "source": [
    "Consider a production economy with two firms indexed by $j \\in \\{1,2\\}$. Each produce its own good. They solve\n",
    "\n",
    "$$\n",
    "\\begin{align*}\n",
    "\\max_{y_{j}}\\pi_{j}&=p_{j}y_{j}-w_{j}\\ell_{j}\\\\\\text{s.t.}\\;&y_{j}=A\\ell_{j}^{\\gamma}.\n",
    "\\end{align*}\n",
    "$$\n",
    "\n",
    "Optimal firm behavior is\n",
    "\n",
    "$$\n",
    "\\begin{align*}\n",
    "\\ell_{j}^{\\star}(w,p_{j})&=\\left(\\frac{p_{j}A\\gamma}{w}\\right)^{\\frac{1}{1-\\gamma}} \\\\\n",
    "y_{j}^{\\star}(w,p_{j})&=A\\left(\\ell_{j}^{\\star}(w,p_{j})\\right)^{\\gamma}\n",
    "\\end{align*}\n",
    "$$\n",
    "\n",
    "The implied profits are\n",
    "\n",
    "$$\n",
    "\\pi_{j}^*(w,p_{j})=\\frac{1-\\gamma}{\\gamma}w\\cdot\\left(\\frac{p_{j}A\\gamma}{w}\\right)^{\\frac{1}{1-\\gamma}}\n",
    "$$\n",
    "\n",
    "A single consumer supplies labor, and consumes the goods the firms produce. She also recieves the implied profits of the firm.<br>\n",
    "She solves:\n",
    "\n",
    "$$\n",
    "\\begin{align*}\n",
    "U(p_1,p_2,w,\\tau,T) = \\max_{c_{1},c_{2},\\ell} & \\log(c_{1}^{\\alpha}c_{2}^{1-\\alpha})-\\nu\\frac{\\ell^{1+\\epsilon}}{1+\\epsilon} \\\\\n",
    "\\text{s.t.}\\,\\,\\,&p_{1}c_{1}+(p_{2}+\\tau)c_{2}=w\\ell+T+\\pi_{1}^*(w,p_{1})+\\pi_{2}^*(w,p_{2})\n",
    "\\end{align*}\n",
    "$$\n",
    "\n",
    "where $\\tau$ is a tax and $T$ is lump-sum transfer. <br>\n",
    "For a given $\\ell$, it can be shown that optimal behavior is\n",
    "\n",
    "$$\n",
    "\\begin{align*}\n",
    "c_{1}(\\ell)&=\\alpha\\frac{w\\ell+T+\\pi_{1}^*(w,p_{1})+\\pi_{2}^*(w,p_{2})}{p_{1}} \\\\\n",
    "c_{2}(\\ell)&=(1-\\alpha)\\frac{w\\ell+T+\\pi_{1}^*(w,p_{1})+\\pi_{2}^*(w,p_{2})}{p_{2}+\\tau} \\\\\n",
    "\\end{align*}\n",
    "$$\n",
    "Such that optimal behavior is:\n",
    "$$\n",
    "\\ell^* = \\underset{\\ell}{\\arg\\max} \\log(\\left(c_{1}(\\ell)\\right)^{\\alpha}\\cdot \\left(c_{2}(\\ell)\\right)^{1-\\alpha})-\\nu\\frac{\\ell^{1+\\epsilon}}{1+\\epsilon} \n",
    "$$\n",
    "With optimal consumption:\n",
    "$$\n",
    "\\begin{align*}\n",
    "c_1^*=c_{1}(\\ell^*) \\\\\n",
    "c_2^*=c_{2}(\\ell^*)\\\\\n",
    "\\end{align*}\n",
    "$$\n",
    "\n",
    "\n",
    "The government chooses $\\tau$ and balances its budget so $T=\\tau c_2^*$. We initially set $\\tau,T=0$.\n",
    "\n",
    "Market clearing requires:\n",
    "\n",
    "1. Labor market: $\\ell^* = \\ell_1^* + \\ell_2^*$\n",
    "1. Good market 1: $c_1^* = y_1^*$\n",
    "1. Good market 2: $c_2^* = y_2^*$\n"
   ]
  },
  {
   "cell_type": "markdown",
   "metadata": {},
   "source": [
    "**Question 1:** Check market clearing conditions for $p_1$ in `linspace(0.1,2.0,10)` and $p_2$ in `linspace(0.1,2.0,10)`. We choose $w=1$ as numeraire."
   ]
  },
  {
   "cell_type": "code",
   "execution_count": 112,
   "metadata": {},
   "outputs": [],
   "source": [
    "par = SimpleNamespace()\n",
    "\n",
    "# firms\n",
    "par.A = 1.0\n",
    "par.gamma = 0.5\n",
    "\n",
    "# households\n",
    "par.alpha = 0.3\n",
    "par.nu = 1.0\n",
    "par.epsilon = 2.0\n",
    "\n",
    "# government\n",
    "par.tau = 0.0\n",
    "par.T = 0.0\n",
    "\n",
    "# Question 3\n",
    "par.kappa = 0.1"
   ]
  },
  {
   "cell_type": "code",
   "execution_count": 113,
   "metadata": {},
   "outputs": [
    {
     "name": "stdout",
     "output_type": "stream",
     "text": [
      "p1: 0.10, p2: 0.10, Labor Market Clearing: False, Good 1 Market Clearing: False, Good 2 Market Clearing: False\n",
      "p1: 0.10, p2: 0.31, Labor Market Clearing: False, Good 1 Market Clearing: False, Good 2 Market Clearing: False\n",
      "p1: 0.10, p2: 0.52, Labor Market Clearing: False, Good 1 Market Clearing: False, Good 2 Market Clearing: False\n",
      "p1: 0.10, p2: 0.73, Labor Market Clearing: False, Good 1 Market Clearing: False, Good 2 Market Clearing: False\n",
      "p1: 0.10, p2: 0.94, Labor Market Clearing: False, Good 1 Market Clearing: False, Good 2 Market Clearing: False\n",
      "p1: 0.10, p2: 1.16, Labor Market Clearing: False, Good 1 Market Clearing: False, Good 2 Market Clearing: False\n",
      "p1: 0.10, p2: 1.37, Labor Market Clearing: False, Good 1 Market Clearing: False, Good 2 Market Clearing: False\n",
      "p1: 0.10, p2: 1.58, Labor Market Clearing: False, Good 1 Market Clearing: False, Good 2 Market Clearing: False\n",
      "p1: 0.10, p2: 1.79, Labor Market Clearing: False, Good 1 Market Clearing: False, Good 2 Market Clearing: False\n",
      "p1: 0.10, p2: 2.00, Labor Market Clearing: False, Good 1 Market Clearing: False, Good 2 Market Clearing: False\n",
      "p1: 0.31, p2: 0.10, Labor Market Clearing: False, Good 1 Market Clearing: False, Good 2 Market Clearing: False\n",
      "p1: 0.31, p2: 0.31, Labor Market Clearing: False, Good 1 Market Clearing: False, Good 2 Market Clearing: False\n",
      "p1: 0.31, p2: 0.52, Labor Market Clearing: False, Good 1 Market Clearing: False, Good 2 Market Clearing: False\n",
      "p1: 0.31, p2: 0.73, Labor Market Clearing: False, Good 1 Market Clearing: False, Good 2 Market Clearing: False\n",
      "p1: 0.31, p2: 0.94, Labor Market Clearing: False, Good 1 Market Clearing: False, Good 2 Market Clearing: False\n",
      "p1: 0.31, p2: 1.16, Labor Market Clearing: False, Good 1 Market Clearing: False, Good 2 Market Clearing: False\n",
      "p1: 0.31, p2: 1.37, Labor Market Clearing: False, Good 1 Market Clearing: False, Good 2 Market Clearing: False\n",
      "p1: 0.31, p2: 1.58, Labor Market Clearing: False, Good 1 Market Clearing: False, Good 2 Market Clearing: False\n",
      "p1: 0.31, p2: 1.79, Labor Market Clearing: False, Good 1 Market Clearing: False, Good 2 Market Clearing: False\n",
      "p1: 0.31, p2: 2.00, Labor Market Clearing: False, Good 1 Market Clearing: False, Good 2 Market Clearing: False\n",
      "p1: 0.52, p2: 0.10, Labor Market Clearing: False, Good 1 Market Clearing: False, Good 2 Market Clearing: False\n",
      "p1: 0.52, p2: 0.31, Labor Market Clearing: False, Good 1 Market Clearing: False, Good 2 Market Clearing: False\n",
      "p1: 0.52, p2: 0.52, Labor Market Clearing: False, Good 1 Market Clearing: False, Good 2 Market Clearing: False\n",
      "p1: 0.52, p2: 0.73, Labor Market Clearing: False, Good 1 Market Clearing: False, Good 2 Market Clearing: False\n",
      "p1: 0.52, p2: 0.94, Labor Market Clearing: False, Good 1 Market Clearing: False, Good 2 Market Clearing: False\n",
      "p1: 0.52, p2: 1.16, Labor Market Clearing: False, Good 1 Market Clearing: False, Good 2 Market Clearing: False\n",
      "p1: 0.52, p2: 1.37, Labor Market Clearing: False, Good 1 Market Clearing: False, Good 2 Market Clearing: False\n",
      "p1: 0.52, p2: 1.58, Labor Market Clearing: False, Good 1 Market Clearing: False, Good 2 Market Clearing: False\n",
      "p1: 0.52, p2: 1.79, Labor Market Clearing: False, Good 1 Market Clearing: False, Good 2 Market Clearing: False\n",
      "p1: 0.52, p2: 2.00, Labor Market Clearing: False, Good 1 Market Clearing: False, Good 2 Market Clearing: False\n",
      "p1: 0.73, p2: 0.10, Labor Market Clearing: False, Good 1 Market Clearing: False, Good 2 Market Clearing: False\n",
      "p1: 0.73, p2: 0.31, Labor Market Clearing: False, Good 1 Market Clearing: False, Good 2 Market Clearing: False\n",
      "p1: 0.73, p2: 0.52, Labor Market Clearing: False, Good 1 Market Clearing: False, Good 2 Market Clearing: False\n",
      "p1: 0.73, p2: 0.73, Labor Market Clearing: False, Good 1 Market Clearing: False, Good 2 Market Clearing: False\n",
      "p1: 0.73, p2: 0.94, Labor Market Clearing: False, Good 1 Market Clearing: False, Good 2 Market Clearing: False\n",
      "p1: 0.73, p2: 1.16, Labor Market Clearing: False, Good 1 Market Clearing: False, Good 2 Market Clearing: False\n",
      "p1: 0.73, p2: 1.37, Labor Market Clearing: False, Good 1 Market Clearing: False, Good 2 Market Clearing: False\n",
      "p1: 0.73, p2: 1.58, Labor Market Clearing: False, Good 1 Market Clearing: False, Good 2 Market Clearing: False\n",
      "p1: 0.73, p2: 1.79, Labor Market Clearing: False, Good 1 Market Clearing: False, Good 2 Market Clearing: False\n",
      "p1: 0.73, p2: 2.00, Labor Market Clearing: False, Good 1 Market Clearing: False, Good 2 Market Clearing: False\n",
      "p1: 0.94, p2: 0.10, Labor Market Clearing: False, Good 1 Market Clearing: False, Good 2 Market Clearing: False\n",
      "p1: 0.94, p2: 0.31, Labor Market Clearing: False, Good 1 Market Clearing: False, Good 2 Market Clearing: False\n",
      "p1: 0.94, p2: 0.52, Labor Market Clearing: False, Good 1 Market Clearing: False, Good 2 Market Clearing: False\n",
      "p1: 0.94, p2: 0.73, Labor Market Clearing: False, Good 1 Market Clearing: False, Good 2 Market Clearing: False\n",
      "p1: 0.94, p2: 0.94, Labor Market Clearing: False, Good 1 Market Clearing: False, Good 2 Market Clearing: False\n",
      "p1: 0.94, p2: 1.16, Labor Market Clearing: False, Good 1 Market Clearing: False, Good 2 Market Clearing: False\n",
      "p1: 0.94, p2: 1.37, Labor Market Clearing: False, Good 1 Market Clearing: False, Good 2 Market Clearing: False\n",
      "p1: 0.94, p2: 1.58, Labor Market Clearing: False, Good 1 Market Clearing: False, Good 2 Market Clearing: False\n",
      "p1: 0.94, p2: 1.79, Labor Market Clearing: False, Good 1 Market Clearing: False, Good 2 Market Clearing: False\n",
      "p1: 0.94, p2: 2.00, Labor Market Clearing: False, Good 1 Market Clearing: False, Good 2 Market Clearing: False\n",
      "p1: 1.16, p2: 0.10, Labor Market Clearing: False, Good 1 Market Clearing: False, Good 2 Market Clearing: False\n",
      "p1: 1.16, p2: 0.31, Labor Market Clearing: False, Good 1 Market Clearing: False, Good 2 Market Clearing: False\n",
      "p1: 1.16, p2: 0.52, Labor Market Clearing: False, Good 1 Market Clearing: False, Good 2 Market Clearing: False\n",
      "p1: 1.16, p2: 0.73, Labor Market Clearing: False, Good 1 Market Clearing: False, Good 2 Market Clearing: False\n",
      "p1: 1.16, p2: 0.94, Labor Market Clearing: False, Good 1 Market Clearing: False, Good 2 Market Clearing: False\n",
      "p1: 1.16, p2: 1.16, Labor Market Clearing: False, Good 1 Market Clearing: False, Good 2 Market Clearing: False\n",
      "p1: 1.16, p2: 1.37, Labor Market Clearing: False, Good 1 Market Clearing: False, Good 2 Market Clearing: False\n",
      "p1: 1.16, p2: 1.58, Labor Market Clearing: False, Good 1 Market Clearing: False, Good 2 Market Clearing: False\n",
      "p1: 1.16, p2: 1.79, Labor Market Clearing: False, Good 1 Market Clearing: False, Good 2 Market Clearing: False\n",
      "p1: 1.16, p2: 2.00, Labor Market Clearing: False, Good 1 Market Clearing: False, Good 2 Market Clearing: False\n",
      "p1: 1.37, p2: 0.10, Labor Market Clearing: False, Good 1 Market Clearing: False, Good 2 Market Clearing: False\n",
      "p1: 1.37, p2: 0.31, Labor Market Clearing: False, Good 1 Market Clearing: False, Good 2 Market Clearing: False\n",
      "p1: 1.37, p2: 0.52, Labor Market Clearing: False, Good 1 Market Clearing: False, Good 2 Market Clearing: False\n",
      "p1: 1.37, p2: 0.73, Labor Market Clearing: False, Good 1 Market Clearing: False, Good 2 Market Clearing: False\n",
      "p1: 1.37, p2: 0.94, Labor Market Clearing: False, Good 1 Market Clearing: False, Good 2 Market Clearing: False\n",
      "p1: 1.37, p2: 1.16, Labor Market Clearing: False, Good 1 Market Clearing: False, Good 2 Market Clearing: False\n",
      "p1: 1.37, p2: 1.37, Labor Market Clearing: False, Good 1 Market Clearing: False, Good 2 Market Clearing: False\n",
      "p1: 1.37, p2: 1.58, Labor Market Clearing: False, Good 1 Market Clearing: False, Good 2 Market Clearing: False\n",
      "p1: 1.37, p2: 1.79, Labor Market Clearing: False, Good 1 Market Clearing: False, Good 2 Market Clearing: False\n",
      "p1: 1.37, p2: 2.00, Labor Market Clearing: False, Good 1 Market Clearing: False, Good 2 Market Clearing: False\n",
      "p1: 1.58, p2: 0.10, Labor Market Clearing: False, Good 1 Market Clearing: False, Good 2 Market Clearing: False\n",
      "p1: 1.58, p2: 0.31, Labor Market Clearing: False, Good 1 Market Clearing: False, Good 2 Market Clearing: False\n",
      "p1: 1.58, p2: 0.52, Labor Market Clearing: False, Good 1 Market Clearing: False, Good 2 Market Clearing: False\n",
      "p1: 1.58, p2: 0.73, Labor Market Clearing: False, Good 1 Market Clearing: False, Good 2 Market Clearing: False\n",
      "p1: 1.58, p2: 0.94, Labor Market Clearing: False, Good 1 Market Clearing: False, Good 2 Market Clearing: False\n",
      "p1: 1.58, p2: 1.16, Labor Market Clearing: False, Good 1 Market Clearing: False, Good 2 Market Clearing: False\n",
      "p1: 1.58, p2: 1.37, Labor Market Clearing: False, Good 1 Market Clearing: False, Good 2 Market Clearing: False\n",
      "p1: 1.58, p2: 1.58, Labor Market Clearing: False, Good 1 Market Clearing: False, Good 2 Market Clearing: False\n",
      "p1: 1.58, p2: 1.79, Labor Market Clearing: False, Good 1 Market Clearing: False, Good 2 Market Clearing: False\n",
      "p1: 1.58, p2: 2.00, Labor Market Clearing: False, Good 1 Market Clearing: False, Good 2 Market Clearing: False\n",
      "p1: 1.79, p2: 0.10, Labor Market Clearing: False, Good 1 Market Clearing: False, Good 2 Market Clearing: False\n",
      "p1: 1.79, p2: 0.31, Labor Market Clearing: False, Good 1 Market Clearing: False, Good 2 Market Clearing: False\n",
      "p1: 1.79, p2: 0.52, Labor Market Clearing: False, Good 1 Market Clearing: False, Good 2 Market Clearing: False\n",
      "p1: 1.79, p2: 0.73, Labor Market Clearing: False, Good 1 Market Clearing: False, Good 2 Market Clearing: False\n",
      "p1: 1.79, p2: 0.94, Labor Market Clearing: False, Good 1 Market Clearing: False, Good 2 Market Clearing: False\n",
      "p1: 1.79, p2: 1.16, Labor Market Clearing: False, Good 1 Market Clearing: False, Good 2 Market Clearing: False\n",
      "p1: 1.79, p2: 1.37, Labor Market Clearing: False, Good 1 Market Clearing: False, Good 2 Market Clearing: False\n",
      "p1: 1.79, p2: 1.58, Labor Market Clearing: False, Good 1 Market Clearing: False, Good 2 Market Clearing: False\n",
      "p1: 1.79, p2: 1.79, Labor Market Clearing: False, Good 1 Market Clearing: False, Good 2 Market Clearing: False\n",
      "p1: 1.79, p2: 2.00, Labor Market Clearing: False, Good 1 Market Clearing: False, Good 2 Market Clearing: False\n",
      "p1: 2.00, p2: 0.10, Labor Market Clearing: False, Good 1 Market Clearing: False, Good 2 Market Clearing: False\n",
      "p1: 2.00, p2: 0.31, Labor Market Clearing: False, Good 1 Market Clearing: False, Good 2 Market Clearing: False\n",
      "p1: 2.00, p2: 0.52, Labor Market Clearing: False, Good 1 Market Clearing: False, Good 2 Market Clearing: False\n",
      "p1: 2.00, p2: 0.73, Labor Market Clearing: False, Good 1 Market Clearing: False, Good 2 Market Clearing: False\n",
      "p1: 2.00, p2: 0.94, Labor Market Clearing: False, Good 1 Market Clearing: False, Good 2 Market Clearing: False\n",
      "p1: 2.00, p2: 1.16, Labor Market Clearing: False, Good 1 Market Clearing: False, Good 2 Market Clearing: False\n",
      "p1: 2.00, p2: 1.37, Labor Market Clearing: False, Good 1 Market Clearing: False, Good 2 Market Clearing: False\n",
      "p1: 2.00, p2: 1.58, Labor Market Clearing: False, Good 1 Market Clearing: False, Good 2 Market Clearing: False\n",
      "p1: 2.00, p2: 1.79, Labor Market Clearing: False, Good 1 Market Clearing: False, Good 2 Market Clearing: False\n",
      "p1: 2.00, p2: 2.00, Labor Market Clearing: False, Good 1 Market Clearing: False, Good 2 Market Clearing: False\n"
     ]
    }
   ],
   "source": [
    "import numpy as np\n",
    "from types import SimpleNamespace\n",
    "\n",
    "# First we define the parameters\n",
    "par = SimpleNamespace()\n",
    "par.A = 1.0\n",
    "par.gamma = 0.5\n",
    "par.alpha = 0.3\n",
    "par.nu = 1.0\n",
    "par.epsilon = 2.0\n",
    "par.tau = 0.0\n",
    "par.T = 0.0\n",
    "par.kappa = 0.1\n",
    "w = 1  # numeraire\n",
    "\n",
    "# Then we define functions for optimal firm behavior and profits\n",
    "def optimal_labor(w, p, A, gamma):\n",
    "    return (p * A * gamma / w)**(1 / (1 - gamma))\n",
    "\n",
    "def optimal_output(w, p, A, gamma):\n",
    "    return A * optimal_labor(w, p, A, gamma)**gamma\n",
    "\n",
    "def profits(w, p, A, gamma):\n",
    "    return w * (p * A * gamma / w)**(1 / (1 - gamma)) * (1 - gamma)\n",
    "\n",
    "# Then we define functions for consumer optimization\n",
    "def consumer_utility(p1, p2, w, tau, T, alpha, nu, epsilon):\n",
    "    def utility(c1, c2, ell):\n",
    "        return np.log(c1**alpha * c2**(1 - alpha)) - nu * ell**(1 + epsilon) / (1 + epsilon)\n",
    "    \n",
    "    ell_star = (w + T + profits(w, p1, par.A, par.gamma) + profits(w, p2, par.A, par.gamma)) / (p1 * alpha + (p2 + tau) * (1 - alpha))\n",
    "    c1_star = alpha * (w * ell_star + T + profits(w, p1, par.A, par.gamma) + profits(w, p2, par.A, par.gamma)) / p1\n",
    "    c2_star = (1 - alpha) * (w * ell_star + T + profits(w, p1, par.A, par.gamma) + profits(w, p2, par.A, par.gamma)) / (p2 + tau)\n",
    "    \n",
    "    return utility(c1_star, c2_star, ell_star), c1_star, c2_star, ell_star\n",
    "\n",
    "# Now we check market clearing conditions for a range of prices\n",
    "# Following generates 10 equally spaced values between 0.1 and 2.0 for both p1 and p2\n",
    "p1_values = np.linspace(0.1, 2.0, 10)\n",
    "p2_values = np.linspace(0.1, 2.0, 10)\n",
    "results = [] # Create an empty list \n",
    "\n",
    "# Then we Loop through different price combinations and make sure that the market clearing requirements are uphold\n",
    "for p1 in p1_values:\n",
    "    for p2 in p2_values:\n",
    "        U, c1, c2, ell = consumer_utility(p1, p2, w, par.tau, par.T, par.alpha, par.nu, par.epsilon)\n",
    "        y1 = optimal_output(w, p1, par.A, par.gamma)\n",
    "        y2 = optimal_output(w, p2, par.A, par.gamma)\n",
    "        labor_market_clearing = np.isclose(ell, optimal_labor(w, p1, par.A, par.gamma) + optimal_labor(w, p2, par.A, par.gamma), rtol=1e-4)\n",
    "        good1_market_clearing = np.isclose(c1, y1, rtol=1e-4)\n",
    "        good2_market_clearing = np.isclose(c2, y2, rtol=1e-4)\n",
    "        \n",
    "        results.append((p1, p2, labor_market_clearing, good1_market_clearing, good2_market_clearing))\n",
    "\n",
    "# Displaying results for Question 1\n",
    "for result in results:\n",
    "    print(f\"p1: {result[0]:.2f}, p2: {result[1]:.2f}, Labor Market Clearing: {result[2]}, Good 1 Market Clearing: {result[3]}, Good 2 Market Clearing: {result[4]}\")\n",
    "   "
   ]
  },
  {
   "cell_type": "markdown",
   "metadata": {},
   "source": [
    "This indicates that with the given parameters and price ranges, the market for neither Good 1 nor Good 2 reaches equilibrium. Therefore, we can conclude that under the current conditions and assumptions, there are no price combinations within the specified ranges that lead to both goods markets clearing simultaneously."
   ]
  },
  {
   "cell_type": "markdown",
   "metadata": {},
   "source": [
    "**Question 2:** Find the equilibrium prices $p_1$ and $p_2$.<br>\n",
    "*Hint: you can use Walras' law to only check 2 of the market clearings*"
   ]
  },
  {
   "cell_type": "code",
   "execution_count": 114,
   "metadata": {},
   "outputs": [
    {
     "name": "stdout",
     "output_type": "stream",
     "text": [
      "Equilibrium prices: p1 = 0.9440946779397663, p2 = 1.7521655676567869\n"
     ]
    }
   ],
   "source": [
    "from scipy.optimize import fsolve\n",
    "\n",
    "# First we define the market clearing functions\n",
    "def market_clearing(prices):\n",
    "    p1, p2 = prices\n",
    "    _, c1, c2, ell = consumer_utility(p1, p2, w, par.tau, par.T, par.alpha, par.nu, par.epsilon)\n",
    "    y1 = optimal_output(w, p1, par.A, par.gamma)\n",
    "    y2 = optimal_output(w, p2, par.A, par.gamma)\n",
    "    \n",
    "    # Then we define the two market clearing conditions\n",
    "    labor_market_clearing = ell - (optimal_labor(w, p1, par.A, par.gamma) + optimal_labor(w, p2, par.A, par.gamma))\n",
    "    good1_market_clearing = c1 - y1\n",
    "    \n",
    "    return [labor_market_clearing, good1_market_clearing]\n",
    "\n",
    "# Find equilibrium prices using fsolve\n",
    "initial_guess = [1.0, 1.0]\n",
    "equilibrium_prices = fsolve(market_clearing, initial_guess)\n",
    "\n",
    "print(f\"Equilibrium prices: p1 = {equilibrium_prices[0]}, p2 = {equilibrium_prices[1]}\")"
   ]
  },
  {
   "cell_type": "markdown",
   "metadata": {},
   "source": [
    "The equilibrium prices were determined by ensuring the market clearing conditions for both the labor market and the goods market for good 1. Using Walras law we know that if good 1 is in market equilibrium then good is aswell.\n",
    "\n",
    "These prices ensure that the total labor supplied by the consumer matches the total labor demanded by the firms, and that the consumer's demand for good 1 equals its supply. The equilibrium prices provide a balance between the production decisions of the firms and the consumption choices of the consumer in the economy."
   ]
  },
  {
   "cell_type": "markdown",
   "metadata": {},
   "source": [
    "Assume the government care about the social welfare function:\n",
    "\n",
    "$$\n",
    "SWF = U - \\kappa y_2^*\n",
    "$$"
   ]
  },
  {
   "cell_type": "markdown",
   "metadata": {},
   "source": [
    "Here $\\kappa$ measures the social cost of carbon emitted by the production of $y_2$ in equilibrium."
   ]
  },
  {
   "cell_type": "markdown",
   "metadata": {},
   "source": [
    "**Question 3:** What values of $\\tau$ and (implied) $T$ should the government choose to maximize $SWF$?"
   ]
  },
  {
   "cell_type": "code",
   "execution_count": 115,
   "metadata": {},
   "outputs": [
    {
     "name": "stdout",
     "output_type": "stream",
     "text": [
      "Optimal tax (tau): 0.03396676536520923\n",
      "Optimal transfer (T): 0.0\n",
      "Consumer utility (U): -0.8550511219610493\n"
     ]
    }
   ],
   "source": [
    "from scipy.optimize import minimize\n",
    "\n",
    "# Functions for consumer optimization\n",
    "def consumer_utility(p1, p2, w, tau, T, alpha, nu, epsilon):\n",
    "    def utility(c1, c2, ell):\n",
    "        return np.log(c1**alpha * c2**(1 - alpha)) - nu * ell**(1 + epsilon) / (1 + epsilon)\n",
    "    \n",
    "    ell_star = (w + T + profits(w, p1, par.A, par.gamma) + profits(w, p2, par.A, par.gamma)) / (p1 * alpha + (p2 + tau) * (1 - alpha))\n",
    "    c1_star = alpha * (w * ell_star + T + profits(w, p1, par.A, par.gamma) + profits(w, p2, par.A, par.gamma)) / p1\n",
    "    c2_star = (1 - alpha) * (w * ell_star + T + profits(w, p1, par.A, par.gamma) + profits(w, p2, par.A, par.gamma)) / (p2 + tau)\n",
    "    \n",
    "    return utility(c1_star, c2_star, ell_star)\n",
    "\n",
    "# Social welfare function to be maximized\n",
    "def social_welfare(vars, par):\n",
    "    tau, T = vars\n",
    "    par.tau = tau\n",
    "    par.T = T\n",
    "    p1, p2 = 1.0, 1.0 \n",
    "    U = consumer_utility(p1, p2, w, tau, T, par.alpha, par.nu, par.epsilon)\n",
    "    y2 = optimal_output(w, p2, par.A, par.gamma)\n",
    "    SWF = U - par.kappa * y2\n",
    "    return -SWF  # Minimize the negative of SWF for maximization\n",
    "\n",
    "# Initial guess for tau and T\n",
    "initial_guess = [0.0, 0.0]\n",
    "\n",
    "# Bounds for tau and T (assuming non-negative values)\n",
    "bounds = [(0, None), (0, None)]\n",
    "\n",
    "# Find the optimal tau and T\n",
    "result = minimize(social_welfare, initial_guess, args=(par), bounds=bounds)\n",
    "\n",
    "optimal_tau, optimal_T = result.x\n",
    "\n",
    "# Calculate the utility with the optimal tau and T\n",
    "par.tau = optimal_tau\n",
    "par.T = optimal_T\n",
    "p1, p2 = 1.0, 1.0  \n",
    "U = consumer_utility(p1, p2, w, par.tau, par.T, par.alpha, par.nu, par.epsilon)\n",
    "\n",
    "# Display the optimal values and utility\n",
    "print(f\"Optimal tax (tau): {optimal_tau}\")\n",
    "print(f\"Optimal transfer (T): {optimal_T}\")\n",
    "print(f\"Consumer utility (U): {U}\")\n"
   ]
  },
  {
   "cell_type": "markdown",
   "metadata": {},
   "source": [
    "The optimization results suggest that the government should impose a small tax on good 2 while providing no lump-sum transfer to maximize social welfare. The negative utility, reflects the consumer's response to the optimized tax policy, balancing between consumption and labor supply within the given economic model. This approach helps in understanding the trade-offs and impacts of tax policies on overall welfare in the production economy."
   ]
  },
  {
   "cell_type": "markdown",
   "metadata": {},
   "source": [
    "## 2. <a id='toc2_'></a>[Problem 2: Career choice model](#toc0_)"
   ]
  },
  {
   "cell_type": "markdown",
   "metadata": {},
   "source": [
    "Consider a graduate $i$ making a choice between entering $J$ different career tracks. <br>\n",
    "Entering career $j$ yields utility $u^k_{ij}$. This value is unknown to the graduate ex ante, but will ex post be: <br>\n",
    "$$\n",
    "    u_{i,j}^k = v_{j} + \\epsilon_{i,j}^k\n",
    "$$\n",
    "\n",
    "They know that $\\epsilon^k_{i,j}\\sim \\mathcal{N}(0,\\sigma^2)$, but they do not observe $\\epsilon^k_{i,j}$ before making their career choice. <br>"
   ]
  },
  {
   "cell_type": "markdown",
   "metadata": {},
   "source": [
    "Consider the concrete case of $J=3$ with:\n",
    "$$\n",
    "\\begin{align*}\n",
    "    v_{1} &= 1 \\\\\n",
    "    v_{2} &= 2 \\\\\n",
    "    v_{3} &= 3\n",
    "\\end{align*}\n",
    "$$"
   ]
  },
  {
   "cell_type": "markdown",
   "metadata": {},
   "source": [
    "If the graduates know the values of $v_j$ and the distribution of $\\epsilon_{i,j}^k$, they can calculate the expected utility of each career track using simulation: <br>\n",
    "$$\n",
    "    \\mathbb{E}\\left[ u^k_{i,j}\\vert v_j \\right] \\approx v_j + \\frac{1}{K}\\sum_{k=1}^K \\epsilon_{i,j}^k\n",
    "$$"
   ]
  },
  {
   "cell_type": "code",
   "execution_count": 116,
   "metadata": {},
   "outputs": [],
   "source": [
    "par = SimpleNamespace()\n",
    "par.J = 3\n",
    "par.N = 10\n",
    "par.K = 10000\n",
    "\n",
    "par.F = np.arange(1,par.N+1)\n",
    "par.sigma = 2\n",
    "\n",
    "par.v = np.array([1,2,3])\n",
    "par.c = 1"
   ]
  },
  {
   "cell_type": "markdown",
   "metadata": {},
   "source": [
    "**Question 1:** Simulate and calculate expected utility and the average realised utility for $K=10000$ draws, for each career choice $j$.\n"
   ]
  },
  {
   "cell_type": "code",
   "execution_count": 117,
   "metadata": {},
   "outputs": [],
   "source": [
    "# write your answer here"
   ]
  },
  {
   "cell_type": "markdown",
   "metadata": {},
   "source": [
    "Now consider a new scenario: Imagine that the graduate does not know $v_j$. The *only* prior information they have on the value of each job, comes from their $F_{i}$ friends that work in each career $j$. After talking with them, they know the average utility of their friends (which includes their friends' noise term), giving them the prior expecation: <br>\n",
    "$$\n",
    "\\tilde{u}^k_{i,j}\\left( F_{i}\\right) = \\frac{1}{F_{i}}\\sum_{f=1}^{F_{i}} \\left(v_{j} + \\epsilon^k_{f,j}\\right), \\; \\epsilon^k_{f,j}\\sim \\mathcal{N}(0,\\sigma^2)\n",
    "$$\n",
    "For ease of notation consider that each graduate have $F_{i}=i$ friends in each career. <br>"
   ]
  },
  {
   "cell_type": "markdown",
   "metadata": {},
   "source": [
    "For $K$ times do the following: <br>\n",
    "1. For each person $i$ draw $J\\cdot F_i$ values of $\\epsilon_{f,j}^{k}$, and calculate the prior expected utility of each career track, $\\tilde{u}^k_{i,j}\\left( F_{i}\\right)$. <br>\n",
    "Also draw their own $J$ noise terms, $\\epsilon_{i,j}^k$\n",
    "1. Each person $i$ chooses the career track with the highest expected utility: $$j_i^{k*}= \\arg\\max_{j\\in{1,2\\dots,J}}\\left\\{ \\tilde{u}^k_{i,j}\\left( F_{i}\\right)\\right\\} $$\n",
    "1. Store the chosen careers: $j_i^{k*}$, the prior expectation of the value of their chosen career: $\\tilde{u}^k_{i,j=j_i^{k*}}\\left( F_{i}\\right)$, and the realized value of their chosen career track: $u^k_{i,j=j_i^{k*}}=v_{j=j_i^{k*}}+\\epsilon_{i,j=j_i^{k*}}^k$."
   ]
  },
  {
   "cell_type": "markdown",
   "metadata": {},
   "source": [
    "Chosen values will be: <br>\n",
    "$i\\in\\left\\{1,2\\dots,N\\right\\}, N=10$ <br>\n",
    "$F_i = i$<br>\n",
    "So there are 10 graduates. The first has 1 friend in each career, the second has 2 friends, ... the tenth has 10 friends."
   ]
  },
  {
   "cell_type": "markdown",
   "metadata": {},
   "source": [
    "**Question 2:** Simulate and visualize: For each type of graduate, $i$, the share of graduates choosing each career, the average subjective expected utility of the graduates, and the average ex post realized utility given their choice. <br>\n",
    "That is, calculate and visualize: <br>\n",
    "$$\n",
    "\\begin{align*}\n",
    "    \\frac{1}{K} \\sum_{k=1}^{K} \\mathbb{I}\\left\\{ j=j_i^{k*} \\right\\}  \\;\\forall j\\in\\left\\{1,2,\\dots,J\\right\\}\n",
    "\\end{align*}\n",
    "$$\n",
    "$$\n",
    "\\begin{align*}\n",
    "    \\frac{1}{K} \\sum_{k=1}^{K} \\tilde{u}^k_{ij=j_i^{k*}}\\left( F_{i}\\right)\n",
    "\\end{align*}\n",
    "$$\n",
    "And \n",
    "$$\n",
    "\\begin{align*}\n",
    "    \\frac{1}{K} \\sum_{k=1}^{K} u^k_{ij=j_i^{k*}} \n",
    "\\end{align*}\n",
    "$$\n",
    "For each graduate $i$."
   ]
  },
  {
   "cell_type": "code",
   "execution_count": 118,
   "metadata": {},
   "outputs": [],
   "source": [
    "# Write your answer here "
   ]
  },
  {
   "cell_type": "markdown",
   "metadata": {},
   "source": [
    "After a year of working in their career, the graduates learn $u^k_{ij}$ for their chosen job $j_i^{k*}$ perfectly. <br>\n",
    "The can switch to one of the two remaining careers, for which they have the same prior as before, but it will now include a switching cost of $c$ which is known.\n",
    "Their new priors can be written as: \n",
    "$$\n",
    "\\tilde{u}^{k,2}_{ij}\\left( F_{i}\\right) = \\begin{cases}\n",
    "            \\tilde{u}^k_{ij}\\left( F_{i}\\right)-c & \\text{if } j \\neq j_i^{k*} \\\\\n",
    "            u_{ij=j_i^{k*}} & \\text{if } j = j_i^{k*}\n",
    "        \\end{cases}\n",
    "$$"
   ]
  },
  {
   "cell_type": "markdown",
   "metadata": {},
   "source": [
    "We will set $c=1$."
   ]
  },
  {
   "cell_type": "markdown",
   "metadata": {},
   "source": [
    "Their realized utility will be: <br>\n",
    "$$\n",
    "u^{k,2}_{ij}= \\begin{cases}\n",
    "            u_{ij}^k -c & \\text{if } j \\neq j_i^{k*} \\\\\n",
    "            u_{ij=j_i^{k*}} & \\text{if } j = j_i^{k*}\n",
    "        \\end{cases}\n",
    "$$"
   ]
  },
  {
   "cell_type": "markdown",
   "metadata": {},
   "source": [
    "**Question 3:** Following the same approach as in question 2, find the new optimal career choice for each $i$, $k$. Then for each $i$, calculate the average subjective expected utility from their new optimal career choice, and the ex post realized utility of that career. Also, for each $i$, calculate the share of graduates that chooses to switch careers, conditional on which career they chose in the first year. <br>"
   ]
  },
  {
   "cell_type": "code",
   "execution_count": 119,
   "metadata": {},
   "outputs": [],
   "source": [
    "# write your answer here"
   ]
  },
  {
   "cell_type": "markdown",
   "metadata": {},
   "source": [
    "## 3. <a id='toc3_'></a>[Problem 3: Barycentric interpolation](#toc0_)"
   ]
  },
  {
   "cell_type": "markdown",
   "metadata": {},
   "source": [
    "**Problem:** We have a set of random points in the unit square,\n",
    "\n",
    "$$\n",
    "\\mathcal{X} = \\{(x_1,x_2)\\,|\\,x_1\\sim\\mathcal{U}(0,1),x_2\\sim\\mathcal{U}(0,1)\\}.\n",
    "$$\n",
    "\n",
    "For these points, we know the value of some function $f(x_1,x_2)$,\n",
    "\n",
    "$$\n",
    "\\mathcal{F} = \\{f(x_1,x_2) \\,|\\, (x_1,x_2) \\in \\mathcal{X}\\}.\n",
    "$$\n",
    "\n",
    "Now we want to approximate the value $f(y_1,y_2)$ for some  $y=(y_1,y_2)$, where $y_1\\sim\\mathcal{U}(0,1)$ and $y_2\\sim\\mathcal{U}(0,1)$.\n",
    "\n",
    "**Building block I**\n",
    "\n",
    "For an arbitrary triangle $ABC$ and a point $y$, define the so-called barycentric coordinates as:\n",
    "\n",
    "$$\n",
    "\\begin{align*}\n",
    "  r^{ABC}_1 &= \\frac{(B_2-C_2)(y_1-C_1) + (C_1-B_1)(y_2-C_2)}{(B_2-C_2)(A_1-C_1) + (C_1-B_1)(A_2-C_2)} \\\\\n",
    "  r^{ABC}_2 &= \\frac{(C_2-A_2)(y_1-C_1) + (A_1-C_1)(y_2-C_2)}{(B_2-C_2)(A_1-C_1) + (C_1-B_1)(A_2-C_2)} \\\\\n",
    "  r^{ABC}_3 &= 1 - r_1 - r_2.\n",
    "\\end{align*}\n",
    "$$\n",
    "\n",
    "If $r^{ABC}_1 \\in [0,1]$, $r^{ABC}_2 \\in [0,1]$, and $r^{ABC}_3 \\in [0,1]$, then the point is inside the triangle.\n",
    "\n",
    "We always have $y = r^{ABC}_1 A + r^{ABC}_2 B + r^{ABC}_3 C$.\n",
    "\n",
    "**Building block II**\n",
    "\n",
    "Define the following points:\n",
    "\n",
    "$$\n",
    "\\begin{align*}\n",
    "A&=\\arg\\min_{(x_{1},x_{2})\\in\\mathcal{X}}\\sqrt{\\left(x_{1}-y_{1}\\right)^{2}+\\left(x_{2}-y_{2}\\right)^{2}}\\text{ s.t. }x_{1}>y_{1}\\text{ and }x_{2}>y_{2}\\\\\n",
    "B&=\\arg\\min_{(x_{1},x_{2})\\in\\mathcal{X}}\\sqrt{\\left(x_{1}-y_{1}\\right)^{2}+\\left(x_{2}-y_{2}\\right)^{2}}\\text{ s.t. }x_{1}>y_{1}\\text{ and }x_{2}<y_{2}\\\\\n",
    "C&=\\arg\\min_{(x_{1},x_{2})\\in\\mathcal{X}}\\sqrt{\\left(x_{1}-y_{1}\\right)^{2}+\\left(x_{2}-y_{2}\\right)^{2}}\\text{ s.t. }x_{1}<y_{1}\\text{ and }x_{2}<y_{2}\\\\\n",
    "D&=\\arg\\min_{(x_{1},x_{2})\\in\\mathcal{X}}\\sqrt{\\left(x_{1}-y_{1}\\right)^{2}+\\left(x_{2}-y_{2}\\right)^{2}}\\text{ s.t. }x_{1}<y_{1}\\text{ and }x_{2}>y_{2}.\n",
    "\\end{align*}\n",
    "$$\n",
    "\n",
    "**Algorithm:**\n",
    "\n",
    "1. Compute $A$, $B$, $C$, and $D$. If not possible return `NaN`.\n",
    "1. If $y$ is inside the triangle $ABC$ return $r^{ABC}_1 f(A) + r^{ABC}_2 f(B) + r^{ABC}_3 f(C)$.\n",
    "1. If $y$ is inside the triangle $CDA$ return $r^{CDA}_1 f(C) + r^{CDA}_2 f(D) + r^{CDA}_3 f(A)$.\n",
    "1. Return `NaN`.\n",
    "\n"
   ]
  },
  {
   "cell_type": "markdown",
   "metadata": {},
   "source": [
    "**Sample:**"
   ]
  },
  {
   "cell_type": "code",
   "execution_count": 120,
   "metadata": {},
   "outputs": [],
   "source": [
    "rng = np.random.default_rng(2024)\n",
    "\n",
    "X = rng.uniform(size=(50,2))\n",
    "y = rng.uniform(size=(2,))\n"
   ]
  },
  {
   "cell_type": "markdown",
   "metadata": {},
   "source": [
    "**Questions 1:** Find $A$, $B$, $C$ and $D$. Illustrate these together with $X$, $y$ and the triangles $ABC$ and $CDA$."
   ]
  },
  {
   "cell_type": "code",
   "execution_count": 121,
   "metadata": {},
   "outputs": [
    {
     "data": {
      "image/png": "[encoded data removed]",
      "text/plain": [
       "<Figure size 1000x1000 with 1 Axes>"
      ]
     },
     "metadata": {},
     "output_type": "display_data"
    },
    {
     "name": "stdout",
     "output_type": "stream",
     "text": [
      "Point y: [0.20901926 0.37774759]\n",
      "Triangle ABC: A = [0.26071605 0.43635845] , B = [0.21315735 0.274245  ] , C = [0.10056103 0.27951775]\n",
      "Triangle CDA: C = [0.10056103 0.27951775] , D = [0.20634391 0.44272557] , A = [0.26071605 0.43635845]\n"
     ]
    }
   ],
   "source": [
    "import numpy as np\n",
    "import matplotlib.pyplot as plt\n",
    "\n",
    "# Function to compute barycentric coordinates\n",
    "def barycentric_coords(A, B, C, P):\n",
    "    denom = (B[1] - C[1]) * (A[0] - C[0]) + (C[0] - B[0]) * (A[1] - C[1])\n",
    "    r1 = ((B[1] - C[1]) * (P[0] - C[0]) + (C[0] - B[0]) * (P[1] - C[1])) / denom\n",
    "    r2 = ((C[1] - A[1]) * (P[0] - C[0]) + (A[0] - C[0]) * (P[1] - C[1])) / denom\n",
    "    r3 = 1 - r1 - r2\n",
    "    return r1, r2, r3\n",
    "# The reason we use 0 instead of 1 in B[] etc. is that in python 0 = 1 and 1 = 2 etc.\n",
    "\n",
    "# Sample data\n",
    "rng = np.random.default_rng(2024)\n",
    "X = rng.uniform(size=(50, 2))\n",
    "y = rng.uniform(size=(2,))\n",
    "\n",
    "# Defining points A, B, C, D\n",
    "A = min([x for x in X if x[0] > y[0] and x[1] > y[1]], key=lambda x: np.sqrt((x[0]-y[0])**2 + (x[1]-y[1])**2))\n",
    "B = min([x for x in X if x[0] > y[0] and x[1] < y[1]], key=lambda x: np.sqrt((x[0]-y[0])**2 + (x[1]-y[1])**2))\n",
    "C = min([x for x in X if x[0] < y[0] and x[1] < y[1]], key=lambda x: np.sqrt((x[0]-y[0])**2 + (x[1]-y[1])**2))\n",
    "D = min([x for x in X if x[0] < y[0] and x[1] > y[1]], key=lambda x: np.sqrt((x[0]-y[0])**2 + (x[1]-y[1])**2))\n",
    "\n",
    "# Compute barycentric coordinates for point y with respect to triangles ABC and CDA\n",
    "rABC1, rABC2, rABC3 = barycentric_coords(A, B, C, y)\n",
    "rCDA1, rCDA2, rCDA3 = barycentric_coords(C, D, A, y)\n",
    "\n",
    "# Plotting\n",
    "plt.figure(figsize=(10, 10))\n",
    "plt.scatter(X[:, 0], X[:, 1], color='blue', label='Random Points')\n",
    "plt.scatter(*y, color='red', label='Point y', zorder=5)\n",
    "plt.scatter(*A, color='green', label='Point A', zorder=5)\n",
    "plt.scatter(*B, color='green', label='Point B', zorder=5)\n",
    "plt.scatter(*C, color='green', label='Point C', zorder=5)\n",
    "plt.scatter(*D, color='green', label='Point D', zorder=5)\n",
    "\n",
    "plt.plot([A[0], B[0], C[0], A[0]], [A[1], B[1], C[1], A[1]], color='black', label='Triangle ABC')\n",
    "plt.plot([C[0], D[0], A[0], C[0]], [C[1], D[1], A[1], C[1]], color='purple', label='Triangle CDA')\n",
    "\n",
    "plt.legend()\n",
    "plt.xlabel('x')\n",
    "plt.ylabel('y')\n",
    "plt.title('Barycentric Interpolation Visualization')\n",
    "plt.grid(True)\n",
    "plt.show()\n",
    "\n",
    "# Print results\n",
    "print(\"Point y:\", y)\n",
    "print(\"Triangle ABC: A =\", A, \", B =\", B, \", C =\", C)\n",
    "print(\"Triangle CDA: C =\", C, \", D =\", D, \", A =\", A)"
   ]
  },
  {
   "cell_type": "markdown",
   "metadata": {},
   "source": [
    "Note that random point are equal to point X. "
   ]
  },
  {
   "cell_type": "markdown",
   "metadata": {},
   "source": [
    "**Question 2:** Compute the barycentric coordinates of the point $y$ with respect to the triangles $ABC$ and $CDA$. Which triangle is $y$ located inside?"
   ]
  },
  {
   "cell_type": "code",
   "execution_count": 122,
   "metadata": {},
   "outputs": [
    {
     "data": {
      "image/png": "[encoded data removed]",
      "text/plain": [
       "<Figure size 1000x1000 with 1 Axes>"
      ]
     },
     "metadata": {},
     "output_type": "display_data"
    },
    {
     "name": "stdout",
     "output_type": "stream",
     "text": [
      "Point y: [0.20901926 0.37774759]\n",
      "Triangle ABC: A = [0.26071605 0.43635845] , B = [0.21315735 0.274245  ] , C = [0.10056103 0.27951775]\n",
      "Triangle CDA: C = [0.10056103 0.27951775] , D = [0.20634391 0.44272557] , A = [0.26071605 0.43635845]\n",
      "Barycentric coordinates with respect to ABC: 0.6286263152916166 0.06910145494351515 0.3022722297648682\n",
      "Barycentric coordinates with respect to CDA: 0.3682598757102867 -0.13392661883334067 0.765666743123054\n",
      "Is point y inside triangle ABC? True\n",
      "Is point y inside triangle CDA? False\n"
     ]
    }
   ],
   "source": [
    "# Function to compute barycentric coordinates\n",
    "def barycentric_coords(A, B, C, P):\n",
    "    denom = (B[1] - C[1]) * (A[0] - C[0]) + (C[0] - B[0]) * (A[1] - C[1])\n",
    "    r1 = ((B[1] - C[1]) * (P[0] - C[0]) + (C[0] - B[0]) * (P[1] - C[1])) / denom\n",
    "    r2 = ((C[1] - A[1]) * (P[0] - C[0]) + (A[0] - C[0]) * (P[1] - C[1])) / denom\n",
    "    r3 = 1 - r1 - r2\n",
    "    return r1, r2, r3\n",
    "\n",
    "# Sample data\n",
    "rng = np.random.default_rng(2024)\n",
    "X = rng.uniform(size=(50, 2))\n",
    "y = rng.uniform(size=(2,))\n",
    "\n",
    "# Defining points A, B, C, D\n",
    "A = min([x for x in X if x[0] > y[0] and x[1] > y[1]], key=lambda x: np.sqrt((x[0]-y[0])**2 + (x[1]-y[1])**2))\n",
    "B = min([x for x in X if x[0] > y[0] and x[1] < y[1]], key=lambda x: np.sqrt((x[0]-y[0])**2 + (x[1]-y[1])**2))\n",
    "C = min([x for x in X if x[0] < y[0] and x[1] < y[1]], key=lambda x: np.sqrt((x[0]-y[0])**2 + (x[1]-y[1])**2))\n",
    "D = min([x for x in X if x[0] < y[0] and x[1] > y[1]], key=lambda x: np.sqrt((x[0]-y[0])**2 + (x[1]-y[1])**2))\n",
    "\n",
    "# Compute barycentric coordinates for point y with respect to triangles ABC and CDA\n",
    "rABC1, rABC2, rABC3 = barycentric_coords(A, B, C, y)\n",
    "rCDA1, rCDA2, rCDA3 = barycentric_coords(C, D, A, y)\n",
    "\n",
    "# Check if the point is inside the triangles\n",
    "def is_inside_triangle(r1, r2, r3):\n",
    "    return (r1 >= 0) and (r2 >= 0) and (r3 >= 0)\n",
    "\n",
    "inside_ABC = is_inside_triangle(rABC1, rABC2, rABC3)\n",
    "inside_CDA = is_inside_triangle(rCDA1, rCDA2, rCDA3)\n",
    "\n",
    "# Plotting\n",
    "plt.figure(figsize=(10, 10))\n",
    "plt.scatter(X[:, 0], X[:, 1], color='blue', label='Random Points')\n",
    "plt.scatter(*y, color='red', label='Point y', zorder=5)\n",
    "plt.scatter(*A, color='green', label='Point A', zorder=5)\n",
    "plt.scatter(*B, color='green', label='Point B', zorder=5)\n",
    "plt.scatter(*C, color='green', label='Point C', zorder=5)\n",
    "plt.scatter(*D, color='green', label='Point D', zorder=5)\n",
    "\n",
    "plt.plot([A[0], B[0], C[0], A[0]], [A[1], B[1], C[1], A[1]], color='black', label='Triangle ABC')\n",
    "plt.plot([C[0], D[0], A[0], C[0]], [C[1], D[1], A[1], C[1]], color='purple', label='Triangle CDA')\n",
    "\n",
    "plt.legend()\n",
    "plt.xlabel('x')\n",
    "plt.ylabel('y')\n",
    "plt.title('Barycentric Interpolation Visualization')\n",
    "plt.grid(True)\n",
    "plt.show()\n",
    "\n",
    "# Print results\n",
    "print(\"Point y:\", y)\n",
    "print(\"Triangle ABC: A =\", A, \", B =\", B, \", C =\", C)\n",
    "print(\"Triangle CDA: C =\", C, \", D =\", D, \", A =\", A)\n",
    "print(\"Barycentric coordinates with respect to ABC:\", rABC1, rABC2, rABC3)\n",
    "print(\"Barycentric coordinates with respect to CDA:\", rCDA1, rCDA2, rCDA3)\n",
    "print(\"Is point y inside triangle ABC?\", inside_ABC)\n",
    "print(\"Is point y inside triangle CDA?\", inside_CDA)"
   ]
  },
  {
   "cell_type": "markdown",
   "metadata": {},
   "source": [
    "As seen in both the figure and output, point y is located inside triangle ABC"
   ]
  },
  {
   "cell_type": "markdown",
   "metadata": {},
   "source": [
    "Now consider the function:\n",
    "$$\n",
    "f(x_1,x_2) = x_1 \\cdot x_2\n",
    "$$"
   ]
  },
  {
   "cell_type": "code",
   "execution_count": 123,
   "metadata": {},
   "outputs": [],
   "source": [
    "f = lambda x: x[0]*x[1]\n",
    "F = np.array([f(x) for x in X])"
   ]
  },
  {
   "cell_type": "markdown",
   "metadata": {},
   "source": [
    "**Question 3:** Compute the approximation of $f(y)$ using the full algorithm. Compare with the true value."
   ]
  },
  {
   "cell_type": "code",
   "execution_count": 124,
   "metadata": {},
   "outputs": [
    {
     "name": "stdout",
     "output_type": "stream",
     "text": [
      "Point y: [0.20901926 0.37774759]\n",
      "Triangle ABC: A = [0.26071605 0.43635845] , B = [0.21315735 0.274245  ] , C = [0.10056103 0.27951775]\n",
      "Triangle CDA: C = [0.10056103 0.27951775] , D = [0.20634391 0.44272557] , A = [0.26071605 0.43635845]\n",
      "Barycentric coordinates with respect to ABC: 0.6286263152916166 0.06910145494351515 0.3022722297648682\n",
      "Barycentric coordinates with respect to CDA: 0.3682598757102867 -0.13392661883334067 0.765666743123054\n",
      "Is point y inside triangle ABC? True\n",
      "Is point y inside triangle CDA? False\n",
      "Interpolated value at point y: 0.08405201731052576\n",
      "True value at point y: 0.0789565216259594\n"
     ]
    }
   ],
   "source": [
    "# Function to compute barycentric coordinates\n",
    "def barycentric_coords(A, B, C, P):\n",
    "    denom = (B[1] - C[1]) * (A[0] - C[0]) + (C[0] - B[0]) * (A[1] - C[1])\n",
    "    r1 = ((B[1] - C[1]) * (P[0] - C[0]) + (C[0] - B[0]) * (P[1] - C[1])) / denom\n",
    "    r2 = ((C[1] - A[1]) * (P[0] - C[0]) + (A[0] - C[0]) * (P[1] - C[1])) / denom\n",
    "    r3 = 1 - r1 - r2\n",
    "    return r1, r2, r3\n",
    "\n",
    "# Function to interpolate the value at point y using barycentric coordinates\n",
    "def interpolate_value(A, B, C, r1, r2, r3, f):\n",
    "    return r1 * f(A) + r2 * f(B) + r3 * f(C)\n",
    "\n",
    "# Sample data\n",
    "rng = np.random.default_rng(2024)\n",
    "X = rng.uniform(size=(50, 2))\n",
    "y = rng.uniform(size=(2,))\n",
    "\n",
    "# True function\n",
    "f = lambda x: x[0] * x[1]\n",
    "\n",
    "# Find points A, B, C, D\n",
    "A = min([x for x in X if x[0] > y[0] and x[1] > y[1]], key=lambda x: np.sqrt((x[0]-y[0])**2 + (x[1]-y[1])**2))\n",
    "B = min([x for x in X if x[0] > y[0] and x[1] < y[1]], key=lambda x: np.sqrt((x[0]-y[0])**2 + (x[1]-y[1])**2))\n",
    "C = min([x for x in X if x[0] < y[0] and x[1] < y[1]], key=lambda x: np.sqrt((x[0]-y[0])**2 + (x[1]-y[1])**2))\n",
    "D = min([x for x in X if x[0] < y[0] and x[1] > y[1]], key=lambda x: np.sqrt((x[0]-y[0])**2 + (x[1]-y[1])**2))\n",
    "\n",
    "# Compute barycentric coordinates for point y with respect to triangles ABC and CDA\n",
    "rABC1, rABC2, rABC3 = barycentric_coords(A, B, C, y)\n",
    "rCDA1, rCDA2, rCDA3 = barycentric_coords(C, D, A, y)\n",
    "\n",
    "# Check if the point is inside the triangles\n",
    "def is_inside_triangle(r1, r2, r3):\n",
    "    return (r1 >= 0) and (r2 >= 0) and (r3 >= 0)\n",
    "\n",
    "inside_ABC = is_inside_triangle(rABC1, rABC2, rABC3)\n",
    "inside_CDA = is_inside_triangle(rCDA1, rCDA2, rCDA3)\n",
    "\n",
    "# Interpolate the function value at point y\n",
    "if inside_ABC:\n",
    "    interpolated_value = interpolate_value(A, B, C, rABC1, rABC2, rABC3, f)\n",
    "elif inside_CDA:\n",
    "    interpolated_value = interpolate_value(C, D, A, rCDA1, rCDA2, rCDA3, f)\n",
    "else:\n",
    "    interpolated_value = None\n",
    "\n",
    "# True value at point y\n",
    "true_value = f(y)\n",
    "\n",
    "# Print results\n",
    "print(\"Point y:\", y)\n",
    "print(\"Triangle ABC: A =\", A, \", B =\", B, \", C =\", C)\n",
    "print(\"Triangle CDA: C =\", C, \", D =\", D, \", A =\", A)\n",
    "print(\"Barycentric coordinates with respect to ABC:\", rABC1, rABC2, rABC3)\n",
    "print(\"Barycentric coordinates with respect to CDA:\", rCDA1, rCDA2, rCDA3)\n",
    "print(\"Is point y inside triangle ABC?\", inside_ABC)\n",
    "print(\"Is point y inside triangle CDA?\", inside_CDA)\n",
    "print(\"Interpolated value at point y:\", interpolated_value)\n",
    "print(\"True value at point y:\", true_value)"
   ]
  },
  {
   "cell_type": "markdown",
   "metadata": {},
   "source": [
    "The approximation of f(y) is shown as the \"Interpolated value at point y,\" which is 0.08405201731052576. This value is obtained using the barycentric interpolation method.The approximation (interpolated value) \n",
    "is 0.08405201731052576, and the true value of the function at \n",
    "y is 0.0789565216259594. The slight difference between these values reflects the interpolation error."
   ]
  },
  {
   "cell_type": "markdown",
   "metadata": {},
   "source": [
    "**Question 4:** Repeat question 3 for all points in the set $Y$."
   ]
  },
  {
   "cell_type": "code",
   "execution_count": 125,
   "metadata": {},
   "outputs": [],
   "source": [
    "Y = [(0.2,0.2),(0.8,0.2),(0.8,0.8),(0.8,0.2),(0.5,0.5)]"
   ]
  },
  {
   "cell_type": "code",
   "execution_count": 126,
   "metadata": {},
   "outputs": [
    {
     "name": "stdout",
     "output_type": "stream",
     "text": [
      "Point y: (0.2, 0.2)\n",
      "Interpolated value at point y: None\n",
      "True value at point y: 0.04000000000000001\n",
      "----------------------------------------\n",
      "Point y: (0.8, 0.2)\n",
      "Interpolated value at point y: None\n",
      "True value at point y: 0.16000000000000003\n",
      "----------------------------------------\n",
      "Point y: (0.8, 0.8)\n",
      "Interpolated value at point y: None\n",
      "True value at point y: 0.6400000000000001\n",
      "----------------------------------------\n",
      "Point y: (0.8, 0.2)\n",
      "Interpolated value at point y: None\n",
      "True value at point y: 0.16000000000000003\n",
      "----------------------------------------\n",
      "Point y: (0.5, 0.5)\n",
      "Interpolated value at point y: 0.2442224088199591\n",
      "True value at point y: 0.25\n",
      "----------------------------------------\n"
     ]
    }
   ],
   "source": [
    "# Function to compute barycentric coordinates\n",
    "def barycentric_coords(A, B, C, P):\n",
    "    denom = (B[1] - C[1]) * (A[0] - C[0]) + (C[0] - B[0]) * (A[1] - C[1])\n",
    "    if abs(denom) < 1e-10:  # Handle division by zero\n",
    "        return None, None, None\n",
    "    r1 = ((B[1] - C[1]) * (P[0] - C[0]) + (C[0] - B[0]) * (P[1] - C[1])) / denom\n",
    "    r2 = ((C[1] - A[1]) * (P[0] - C[0]) + (A[0] - C[0]) * (P[1] - C[1])) / denom\n",
    "    r3 = 1 - r1 - r2\n",
    "    return r1, r2, r3\n",
    "\n",
    "# Function to interpolate the value at point y using barycentric coordinates\n",
    "def interpolate_value(A, B, C, r1, r2, r3, f):\n",
    "    return r1 * f(A) + r2 * f(B) + r3 * f(C)\n",
    "\n",
    "# Sample data\n",
    "rng = np.random.default_rng(2024)\n",
    "X = rng.uniform(size=(50, 2))\n",
    "\n",
    "# True function\n",
    "f = lambda x: x[0] * x[1]\n",
    "\n",
    "# Points to interpolate\n",
    "Y = [(0.2, 0.2), (0.8, 0.2), (0.8, 0.8), (0.8, 0.2), (0.5, 0.5)]\n",
    "\n",
    "# Store results\n",
    "interpolated_values = []\n",
    "true_values = []\n",
    "\n",
    "def find_points(X, y):\n",
    "    A = min(X, key=lambda x: np.sqrt((x[0] - y[0])**2 + (x[1] - y[1])**2))\n",
    "    B = min([x for x in X if x[0] > y[0]], key=lambda x: np.sqrt((x[0] - y[0])**2 + (x[1] - y[1])**2), default=A)\n",
    "    C = min([x for x in X if x[1] < y[1]], key=lambda x: np.sqrt((x[0] - y[0])**2 + (x[1] - y[1])**2), default=A)\n",
    "    D = min([x for x in X if x[0] < y[0]], key=lambda x: np.sqrt((x[0] - y[0])**2 + (x[1] - y[1])**2), default=A)\n",
    "    return A, B, C, D\n",
    "\n",
    "for y in Y:\n",
    "    A, B, C, D = find_points(X, y)\n",
    "    \n",
    "    rABC1, rABC2, rABC3 = barycentric_coords(A, B, C, y)\n",
    "    rCDA1, rCDA2, rCDA3 = barycentric_coords(C, D, A, y)\n",
    "    \n",
    "    def is_inside_triangle(r1, r2, r3):\n",
    "        if r1 is None or r2 is None or r3 is None:\n",
    "            return False\n",
    "        return (r1 >= 0) and (r2 >= 0) and (r3 >= 0)\n",
    "    \n",
    "    inside_ABC = is_inside_triangle(rABC1, rABC2, rABC3)\n",
    "    inside_CDA = is_inside_triangle(rCDA1, rCDA2, rCDA3)\n",
    "    \n",
    "    if inside_ABC:\n",
    "        interpolated_value = interpolate_value(A, B, C, rABC1, rABC2, rABC3, f)\n",
    "    elif inside_CDA:\n",
    "        interpolated_value = interpolate_value(C, D, A, rCDA1, rCDA2, rCDA3, f)\n",
    "    else:\n",
    "        interpolated_value = None\n",
    "\n",
    "    true_value = f(y)\n",
    "    \n",
    "    interpolated_values.append(interpolated_value)\n",
    "    true_values.append(true_value)\n",
    "\n",
    "# Print results\n",
    "for i, y in enumerate(Y):\n",
    "    print(f\"Point y: {y}\")\n",
    "    print(f\"Interpolated value at point y: {interpolated_values[i]}\")\n",
    "    print(f\"True value at point y: {true_values[i]}\")\n",
    "    print(\"-\" * 40)"
   ]
  },
  {
   "cell_type": "markdown",
   "metadata": {},
   "source": [
    "We had som trouble retrieving interpolated values for most of the point, but as seen from point (0.5,0.5) the interpolated value is very close to the true value. This was also the case in question 3, which could indicate that it would be the same for the other values."
   ]
  }
 ],
 "metadata": {
  "kernelspec": {
   "display_name": "base",
   "language": "python",
   "name": "python3"
  },
  "language_info": {
   "codemirror_mode": {
    "name": "ipython",
    "version": 3
   },
   "file_extension": ".py",
   "mimetype": "text/x-python",
   "name": "python",
   "nbconvert_exporter": "python",
   "pygments_lexer": "ipython3",
   "version": "3.11.9"
  }
 },
 "nbformat": 4,
 "nbformat_minor": 2
}
