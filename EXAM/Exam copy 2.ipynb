{
 "cells": [
  {
   "cell_type": "markdown",
   "metadata": {},
   "source": [
    "# Problem 1 Production economy and CO2 taxation"
   ]
  },
  {
   "cell_type": "markdown",
   "metadata": {},
   "source": [
    "## Question 1"
   ]
  },
  {
   "cell_type": "code",
   "execution_count": 36,
   "metadata": {},
   "outputs": [
    {
     "name": "stdout",
     "output_type": "stream",
     "text": [
      "p1: 0.10, p2: 0.10, Labor Market Clearing: False, Good 1 Market Clearing: False, Good 2 Market Clearing: False\n",
      "p1: 0.10, p2: 0.31, Labor Market Clearing: False, Good 1 Market Clearing: False, Good 2 Market Clearing: False\n",
      "p1: 0.10, p2: 0.52, Labor Market Clearing: False, Good 1 Market Clearing: False, Good 2 Market Clearing: False\n",
      "p1: 0.10, p2: 0.73, Labor Market Clearing: False, Good 1 Market Clearing: False, Good 2 Market Clearing: False\n",
      "p1: 0.10, p2: 0.94, Labor Market Clearing: False, Good 1 Market Clearing: False, Good 2 Market Clearing: False\n",
      "p1: 0.10, p2: 1.16, Labor Market Clearing: False, Good 1 Market Clearing: False, Good 2 Market Clearing: False\n",
      "p1: 0.10, p2: 1.37, Labor Market Clearing: False, Good 1 Market Clearing: False, Good 2 Market Clearing: False\n",
      "p1: 0.10, p2: 1.58, Labor Market Clearing: False, Good 1 Market Clearing: False, Good 2 Market Clearing: False\n",
      "p1: 0.10, p2: 1.79, Labor Market Clearing: False, Good 1 Market Clearing: False, Good 2 Market Clearing: False\n",
      "p1: 0.10, p2: 2.00, Labor Market Clearing: False, Good 1 Market Clearing: False, Good 2 Market Clearing: False\n",
      "p1: 0.31, p2: 0.10, Labor Market Clearing: False, Good 1 Market Clearing: False, Good 2 Market Clearing: False\n",
      "p1: 0.31, p2: 0.31, Labor Market Clearing: False, Good 1 Market Clearing: False, Good 2 Market Clearing: False\n",
      "p1: 0.31, p2: 0.52, Labor Market Clearing: False, Good 1 Market Clearing: False, Good 2 Market Clearing: False\n",
      "p1: 0.31, p2: 0.73, Labor Market Clearing: False, Good 1 Market Clearing: False, Good 2 Market Clearing: False\n",
      "p1: 0.31, p2: 0.94, Labor Market Clearing: False, Good 1 Market Clearing: False, Good 2 Market Clearing: False\n",
      "p1: 0.31, p2: 1.16, Labor Market Clearing: False, Good 1 Market Clearing: False, Good 2 Market Clearing: False\n",
      "p1: 0.31, p2: 1.37, Labor Market Clearing: False, Good 1 Market Clearing: False, Good 2 Market Clearing: False\n",
      "p1: 0.31, p2: 1.58, Labor Market Clearing: False, Good 1 Market Clearing: False, Good 2 Market Clearing: False\n",
      "p1: 0.31, p2: 1.79, Labor Market Clearing: False, Good 1 Market Clearing: False, Good 2 Market Clearing: False\n",
      "p1: 0.31, p2: 2.00, Labor Market Clearing: False, Good 1 Market Clearing: False, Good 2 Market Clearing: False\n",
      "p1: 0.52, p2: 0.10, Labor Market Clearing: False, Good 1 Market Clearing: False, Good 2 Market Clearing: False\n",
      "p1: 0.52, p2: 0.31, Labor Market Clearing: False, Good 1 Market Clearing: False, Good 2 Market Clearing: False\n",
      "p1: 0.52, p2: 0.52, Labor Market Clearing: False, Good 1 Market Clearing: False, Good 2 Market Clearing: False\n",
      "p1: 0.52, p2: 0.73, Labor Market Clearing: False, Good 1 Market Clearing: False, Good 2 Market Clearing: False\n",
      "p1: 0.52, p2: 0.94, Labor Market Clearing: False, Good 1 Market Clearing: False, Good 2 Market Clearing: False\n",
      "p1: 0.52, p2: 1.16, Labor Market Clearing: False, Good 1 Market Clearing: False, Good 2 Market Clearing: False\n",
      "p1: 0.52, p2: 1.37, Labor Market Clearing: False, Good 1 Market Clearing: False, Good 2 Market Clearing: False\n",
      "p1: 0.52, p2: 1.58, Labor Market Clearing: False, Good 1 Market Clearing: False, Good 2 Market Clearing: False\n",
      "p1: 0.52, p2: 1.79, Labor Market Clearing: False, Good 1 Market Clearing: False, Good 2 Market Clearing: False\n",
      "p1: 0.52, p2: 2.00, Labor Market Clearing: False, Good 1 Market Clearing: False, Good 2 Market Clearing: False\n",
      "p1: 0.73, p2: 0.10, Labor Market Clearing: False, Good 1 Market Clearing: False, Good 2 Market Clearing: False\n",
      "p1: 0.73, p2: 0.31, Labor Market Clearing: False, Good 1 Market Clearing: False, Good 2 Market Clearing: False\n",
      "p1: 0.73, p2: 0.52, Labor Market Clearing: False, Good 1 Market Clearing: False, Good 2 Market Clearing: False\n",
      "p1: 0.73, p2: 0.73, Labor Market Clearing: False, Good 1 Market Clearing: False, Good 2 Market Clearing: False\n",
      "p1: 0.73, p2: 0.94, Labor Market Clearing: False, Good 1 Market Clearing: False, Good 2 Market Clearing: False\n",
      "p1: 0.73, p2: 1.16, Labor Market Clearing: False, Good 1 Market Clearing: False, Good 2 Market Clearing: False\n",
      "p1: 0.73, p2: 1.37, Labor Market Clearing: False, Good 1 Market Clearing: False, Good 2 Market Clearing: False\n",
      "p1: 0.73, p2: 1.58, Labor Market Clearing: False, Good 1 Market Clearing: False, Good 2 Market Clearing: False\n",
      "p1: 0.73, p2: 1.79, Labor Market Clearing: False, Good 1 Market Clearing: False, Good 2 Market Clearing: False\n",
      "p1: 0.73, p2: 2.00, Labor Market Clearing: False, Good 1 Market Clearing: False, Good 2 Market Clearing: False\n",
      "p1: 0.94, p2: 0.10, Labor Market Clearing: False, Good 1 Market Clearing: False, Good 2 Market Clearing: False\n",
      "p1: 0.94, p2: 0.31, Labor Market Clearing: False, Good 1 Market Clearing: False, Good 2 Market Clearing: False\n",
      "p1: 0.94, p2: 0.52, Labor Market Clearing: False, Good 1 Market Clearing: False, Good 2 Market Clearing: False\n",
      "p1: 0.94, p2: 0.73, Labor Market Clearing: False, Good 1 Market Clearing: False, Good 2 Market Clearing: False\n",
      "p1: 0.94, p2: 0.94, Labor Market Clearing: False, Good 1 Market Clearing: False, Good 2 Market Clearing: False\n",
      "p1: 0.94, p2: 1.16, Labor Market Clearing: False, Good 1 Market Clearing: False, Good 2 Market Clearing: False\n",
      "p1: 0.94, p2: 1.37, Labor Market Clearing: False, Good 1 Market Clearing: False, Good 2 Market Clearing: False\n",
      "p1: 0.94, p2: 1.58, Labor Market Clearing: False, Good 1 Market Clearing: False, Good 2 Market Clearing: False\n",
      "p1: 0.94, p2: 1.79, Labor Market Clearing: False, Good 1 Market Clearing: False, Good 2 Market Clearing: False\n",
      "p1: 0.94, p2: 2.00, Labor Market Clearing: False, Good 1 Market Clearing: False, Good 2 Market Clearing: False\n",
      "p1: 1.16, p2: 0.10, Labor Market Clearing: False, Good 1 Market Clearing: False, Good 2 Market Clearing: False\n",
      "p1: 1.16, p2: 0.31, Labor Market Clearing: False, Good 1 Market Clearing: False, Good 2 Market Clearing: False\n",
      "p1: 1.16, p2: 0.52, Labor Market Clearing: False, Good 1 Market Clearing: False, Good 2 Market Clearing: False\n",
      "p1: 1.16, p2: 0.73, Labor Market Clearing: False, Good 1 Market Clearing: False, Good 2 Market Clearing: False\n",
      "p1: 1.16, p2: 0.94, Labor Market Clearing: False, Good 1 Market Clearing: False, Good 2 Market Clearing: False\n",
      "p1: 1.16, p2: 1.16, Labor Market Clearing: False, Good 1 Market Clearing: False, Good 2 Market Clearing: False\n",
      "p1: 1.16, p2: 1.37, Labor Market Clearing: False, Good 1 Market Clearing: False, Good 2 Market Clearing: False\n",
      "p1: 1.16, p2: 1.58, Labor Market Clearing: False, Good 1 Market Clearing: False, Good 2 Market Clearing: False\n",
      "p1: 1.16, p2: 1.79, Labor Market Clearing: False, Good 1 Market Clearing: False, Good 2 Market Clearing: False\n",
      "p1: 1.16, p2: 2.00, Labor Market Clearing: False, Good 1 Market Clearing: False, Good 2 Market Clearing: False\n",
      "p1: 1.37, p2: 0.10, Labor Market Clearing: False, Good 1 Market Clearing: False, Good 2 Market Clearing: False\n",
      "p1: 1.37, p2: 0.31, Labor Market Clearing: False, Good 1 Market Clearing: False, Good 2 Market Clearing: False\n",
      "p1: 1.37, p2: 0.52, Labor Market Clearing: False, Good 1 Market Clearing: False, Good 2 Market Clearing: False\n",
      "p1: 1.37, p2: 0.73, Labor Market Clearing: False, Good 1 Market Clearing: False, Good 2 Market Clearing: False\n",
      "p1: 1.37, p2: 0.94, Labor Market Clearing: False, Good 1 Market Clearing: False, Good 2 Market Clearing: False\n",
      "p1: 1.37, p2: 1.16, Labor Market Clearing: False, Good 1 Market Clearing: False, Good 2 Market Clearing: False\n",
      "p1: 1.37, p2: 1.37, Labor Market Clearing: False, Good 1 Market Clearing: False, Good 2 Market Clearing: False\n",
      "p1: 1.37, p2: 1.58, Labor Market Clearing: False, Good 1 Market Clearing: False, Good 2 Market Clearing: False\n",
      "p1: 1.37, p2: 1.79, Labor Market Clearing: False, Good 1 Market Clearing: False, Good 2 Market Clearing: False\n",
      "p1: 1.37, p2: 2.00, Labor Market Clearing: False, Good 1 Market Clearing: False, Good 2 Market Clearing: False\n",
      "p1: 1.58, p2: 0.10, Labor Market Clearing: False, Good 1 Market Clearing: False, Good 2 Market Clearing: False\n",
      "p1: 1.58, p2: 0.31, Labor Market Clearing: False, Good 1 Market Clearing: False, Good 2 Market Clearing: False\n",
      "p1: 1.58, p2: 0.52, Labor Market Clearing: False, Good 1 Market Clearing: False, Good 2 Market Clearing: False\n",
      "p1: 1.58, p2: 0.73, Labor Market Clearing: False, Good 1 Market Clearing: False, Good 2 Market Clearing: False\n",
      "p1: 1.58, p2: 0.94, Labor Market Clearing: False, Good 1 Market Clearing: False, Good 2 Market Clearing: False\n",
      "p1: 1.58, p2: 1.16, Labor Market Clearing: False, Good 1 Market Clearing: False, Good 2 Market Clearing: False\n",
      "p1: 1.58, p2: 1.37, Labor Market Clearing: False, Good 1 Market Clearing: False, Good 2 Market Clearing: False\n",
      "p1: 1.58, p2: 1.58, Labor Market Clearing: False, Good 1 Market Clearing: False, Good 2 Market Clearing: False\n",
      "p1: 1.58, p2: 1.79, Labor Market Clearing: False, Good 1 Market Clearing: False, Good 2 Market Clearing: False\n",
      "p1: 1.58, p2: 2.00, Labor Market Clearing: False, Good 1 Market Clearing: False, Good 2 Market Clearing: False\n",
      "p1: 1.79, p2: 0.10, Labor Market Clearing: False, Good 1 Market Clearing: False, Good 2 Market Clearing: False\n",
      "p1: 1.79, p2: 0.31, Labor Market Clearing: False, Good 1 Market Clearing: False, Good 2 Market Clearing: False\n",
      "p1: 1.79, p2: 0.52, Labor Market Clearing: False, Good 1 Market Clearing: False, Good 2 Market Clearing: False\n",
      "p1: 1.79, p2: 0.73, Labor Market Clearing: False, Good 1 Market Clearing: False, Good 2 Market Clearing: False\n",
      "p1: 1.79, p2: 0.94, Labor Market Clearing: False, Good 1 Market Clearing: False, Good 2 Market Clearing: False\n",
      "p1: 1.79, p2: 1.16, Labor Market Clearing: False, Good 1 Market Clearing: False, Good 2 Market Clearing: False\n",
      "p1: 1.79, p2: 1.37, Labor Market Clearing: False, Good 1 Market Clearing: False, Good 2 Market Clearing: False\n",
      "p1: 1.79, p2: 1.58, Labor Market Clearing: False, Good 1 Market Clearing: False, Good 2 Market Clearing: False\n",
      "p1: 1.79, p2: 1.79, Labor Market Clearing: False, Good 1 Market Clearing: False, Good 2 Market Clearing: False\n",
      "p1: 1.79, p2: 2.00, Labor Market Clearing: False, Good 1 Market Clearing: False, Good 2 Market Clearing: False\n",
      "p1: 2.00, p2: 0.10, Labor Market Clearing: False, Good 1 Market Clearing: False, Good 2 Market Clearing: False\n",
      "p1: 2.00, p2: 0.31, Labor Market Clearing: False, Good 1 Market Clearing: False, Good 2 Market Clearing: False\n",
      "p1: 2.00, p2: 0.52, Labor Market Clearing: False, Good 1 Market Clearing: False, Good 2 Market Clearing: False\n",
      "p1: 2.00, p2: 0.73, Labor Market Clearing: False, Good 1 Market Clearing: False, Good 2 Market Clearing: False\n",
      "p1: 2.00, p2: 0.94, Labor Market Clearing: False, Good 1 Market Clearing: False, Good 2 Market Clearing: False\n",
      "p1: 2.00, p2: 1.16, Labor Market Clearing: False, Good 1 Market Clearing: False, Good 2 Market Clearing: False\n",
      "p1: 2.00, p2: 1.37, Labor Market Clearing: False, Good 1 Market Clearing: False, Good 2 Market Clearing: False\n",
      "p1: 2.00, p2: 1.58, Labor Market Clearing: False, Good 1 Market Clearing: False, Good 2 Market Clearing: False\n",
      "p1: 2.00, p2: 1.79, Labor Market Clearing: False, Good 1 Market Clearing: False, Good 2 Market Clearing: False\n",
      "p1: 2.00, p2: 2.00, Labor Market Clearing: False, Good 1 Market Clearing: False, Good 2 Market Clearing: False\n"
     ]
    }
   ],
   "source": [
    "import numpy as np\n",
    "from types import SimpleNamespace\n",
    "\n",
    "# First we define the parameters\n",
    "par = SimpleNamespace()\n",
    "par.A = 1.0\n",
    "par.gamma = 0.5\n",
    "par.alpha = 0.3\n",
    "par.nu = 1.0\n",
    "par.epsilon = 2.0\n",
    "par.tau = 0.0\n",
    "par.T = 0.0\n",
    "par.kappa = 0.1\n",
    "w = 1  # numeraire\n",
    "\n",
    "# Functions for optimal firm behavior and profits\n",
    "def optimal_labor(w, p, A, gamma):\n",
    "    return (p * A * gamma / w)**(1 / (1 - gamma))\n",
    "\n",
    "def optimal_output(w, p, A, gamma):\n",
    "    return A * optimal_labor(w, p, A, gamma)**gamma\n",
    "\n",
    "def profits(w, p, A, gamma):\n",
    "    return w * (p * A * gamma / w)**(1 / (1 - gamma)) * (1 - gamma)\n",
    "\n",
    "# Functions for consumer optimization\n",
    "def consumer_utility(p1, p2, w, tau, T, alpha, nu, epsilon):\n",
    "    def utility(c1, c2, ell):\n",
    "        return np.log(c1**alpha * c2**(1 - alpha)) - nu * ell**(1 + epsilon) / (1 + epsilon)\n",
    "    \n",
    "    ell_star = (w + T + profits(w, p1, par.A, par.gamma) + profits(w, p2, par.A, par.gamma)) / (p1 * alpha + (p2 + tau) * (1 - alpha))\n",
    "    c1_star = alpha * (w * ell_star + T + profits(w, p1, par.A, par.gamma) + profits(w, p2, par.A, par.gamma)) / p1\n",
    "    c2_star = (1 - alpha) * (w * ell_star + T + profits(w, p1, par.A, par.gamma) + profits(w, p2, par.A, par.gamma)) / (p2 + tau)\n",
    "    \n",
    "    return utility(c1_star, c2_star, ell_star), c1_star, c2_star, ell_star\n",
    "\n",
    "# Check market clearing conditions for a range of prices\n",
    "p1_values = np.linspace(0.1, 2.0, 10)\n",
    "p2_values = np.linspace(0.1, 2.0, 10)\n",
    "results = []\n",
    "\n",
    "for p1 in p1_values:\n",
    "    for p2 in p2_values:\n",
    "        U, c1, c2, ell = consumer_utility(p1, p2, w, par.tau, par.T, par.alpha, par.nu, par.epsilon)\n",
    "        y1 = optimal_output(w, p1, par.A, par.gamma)\n",
    "        y2 = optimal_output(w, p2, par.A, par.gamma)\n",
    "        labor_market_clearing = np.isclose(ell, optimal_labor(w, p1, par.A, par.gamma) + optimal_labor(w, p2, par.A, par.gamma), rtol=1e-4)\n",
    "        good1_market_clearing = np.isclose(c1, y1, rtol=1e-4)\n",
    "        good2_market_clearing = np.isclose(c2, y2, rtol=1e-4)\n",
    "        \n",
    "        results.append((p1, p2, labor_market_clearing, good1_market_clearing, good2_market_clearing))\n",
    "\n",
    "# Displaying results for Question 1\n",
    "for result in results:\n",
    "    print(f\"p1: {result[0]:.2f}, p2: {result[1]:.2f}, Labor Market Clearing: {result[2]}, Good 1 Market Clearing: {result[3]}, Good 2 Market Clearing: {result[4]}\")\n",
    "   "
   ]
  },
  {
   "cell_type": "markdown",
   "metadata": {},
   "source": [
    "This indicates that with the given parameters and price ranges, the market for neither Good 1 nor Good 2 reaches equilibrium. Therefore, we can conclude that under the current conditions and assumptions, there are no price combinations within the specified ranges that lead to both goods markets clearing simultaneously."
   ]
  },
  {
   "cell_type": "markdown",
   "metadata": {},
   "source": [
    "## Question 2"
   ]
  },
  {
   "cell_type": "code",
   "execution_count": 37,
   "metadata": {},
   "outputs": [
    {
     "name": "stdout",
     "output_type": "stream",
     "text": [
      "Equilibrium prices: p1 = 0.9440946779397663, p2 = 1.7521655676567869\n"
     ]
    }
   ],
   "source": [
    "from scipy.optimize import fsolve\n",
    "\n",
    "# Market clearing functions\n",
    "def market_clearing(prices):\n",
    "    p1, p2 = prices\n",
    "    _, c1, c2, ell = consumer_utility(p1, p2, w, par.tau, par.T, par.alpha, par.nu, par.epsilon)\n",
    "    y1 = optimal_output(w, p1, par.A, par.gamma)\n",
    "    y2 = optimal_output(w, p2, par.A, par.gamma)\n",
    "    \n",
    "    # Two market clearing conditions\n",
    "    labor_market_clearing = ell - (optimal_labor(w, p1, par.A, par.gamma) + optimal_labor(w, p2, par.A, par.gamma))\n",
    "    good1_market_clearing = c1 - y1\n",
    "    \n",
    "    return [labor_market_clearing, good1_market_clearing]\n",
    "\n",
    "# Find equilibrium prices using fsolve\n",
    "initial_guess = [1.0, 1.0]\n",
    "equilibrium_prices = fsolve(market_clearing, initial_guess)\n",
    "\n",
    "print(f\"Equilibrium prices: p1 = {equilibrium_prices[0]}, p2 = {equilibrium_prices[1]}\")"
   ]
  },
  {
   "cell_type": "markdown",
   "metadata": {},
   "source": [
    "The equilibrium prices were determined by ensuring the market clearing conditions for both the labor market and the goods market for good 1. Using Walras law we know that if good 1 is in market equilibrium then good is aswell.\n",
    "\n",
    "These prices ensure that the total labor supplied by the consumer matches the total labor demanded by the firms, and that the consumer's demand for good 1 equals its supply. The equilibrium prices provide a balance between the production decisions of the firms and the consumption choices of the consumer in the economy."
   ]
  },
  {
   "cell_type": "markdown",
   "metadata": {},
   "source": [
    "## Question 3"
   ]
  },
  {
   "cell_type": "code",
   "execution_count": 38,
   "metadata": {},
   "outputs": [
    {
     "name": "stdout",
     "output_type": "stream",
     "text": [
      "Optimal tax (tau): 0.03396676536520923\n",
      "Optimal transfer (T): 0.0\n",
      "Consumer utility (U): -0.8550511219610493\n"
     ]
    }
   ],
   "source": [
    "from scipy.optimize import minimize\n",
    "\n",
    "# Functions for consumer optimization\n",
    "def consumer_utility(p1, p2, w, tau, T, alpha, nu, epsilon):\n",
    "    def utility(c1, c2, ell):\n",
    "        return np.log(c1**alpha * c2**(1 - alpha)) - nu * ell**(1 + epsilon) / (1 + epsilon)\n",
    "    \n",
    "    ell_star = (w + T + profits(w, p1, par.A, par.gamma) + profits(w, p2, par.A, par.gamma)) / (p1 * alpha + (p2 + tau) * (1 - alpha))\n",
    "    c1_star = alpha * (w * ell_star + T + profits(w, p1, par.A, par.gamma) + profits(w, p2, par.A, par.gamma)) / p1\n",
    "    c2_star = (1 - alpha) * (w * ell_star + T + profits(w, p1, par.A, par.gamma) + profits(w, p2, par.A, par.gamma)) / (p2 + tau)\n",
    "    \n",
    "    return utility(c1_star, c2_star, ell_star)\n",
    "\n",
    "# Social welfare function to be maximized\n",
    "def social_welfare(vars, par):\n",
    "    tau, T = vars\n",
    "    par.tau = tau\n",
    "    par.T = T\n",
    "    p1, p2 = 1.0, 1.0  # Equilibrium prices found previously\n",
    "    U = consumer_utility(p1, p2, w, tau, T, par.alpha, par.nu, par.epsilon)\n",
    "    y2 = optimal_output(w, p2, par.A, par.gamma)\n",
    "    SWF = U - par.kappa * y2\n",
    "    return -SWF  # Minimize the negative of SWF for maximization\n",
    "\n",
    "# Initial guess for tau and T\n",
    "initial_guess = [0.0, 0.0]\n",
    "\n",
    "# Bounds for tau and T (assuming non-negative values)\n",
    "bounds = [(0, None), (0, None)]\n",
    "\n",
    "# Find the optimal tau and T\n",
    "result = minimize(social_welfare, initial_guess, args=(par), bounds=bounds)\n",
    "\n",
    "optimal_tau, optimal_T = result.x\n",
    "\n",
    "# Calculate the utility with the optimal tau and T\n",
    "par.tau = optimal_tau\n",
    "par.T = optimal_T\n",
    "p1, p2 = 1.0, 1.0  # Equilibrium prices\n",
    "U = consumer_utility(p1, p2, w, par.tau, par.T, par.alpha, par.nu, par.epsilon)\n",
    "\n",
    "# Display the optimal values and utility\n",
    "print(f\"Optimal tax (tau): {optimal_tau}\")\n",
    "print(f\"Optimal transfer (T): {optimal_T}\")\n",
    "print(f\"Consumer utility (U): {U}\")\n"
   ]
  },
  {
   "cell_type": "markdown",
   "metadata": {},
   "source": [
    "The optimization results suggest that the government should impose a small tax on good 2 while providing no lump-sum transfer to maximize social welfare. The utility, reflects the consumer's response to the optimized tax policy, balancing between consumption and labor supply within the given economic model. This approach helps in understanding the trade-offs and impacts of tax policies on overall welfare in the production economy."
   ]
  }
 ],
 "metadata": {
  "kernelspec": {
   "display_name": "Python 3",
   "language": "python",
   "name": "python3"
  },
  "language_info": {
   "codemirror_mode": {
    "name": "ipython",
    "version": 3
   },
   "file_extension": ".py",
   "mimetype": "text/x-python",
   "name": "python",
   "nbconvert_exporter": "python",
   "pygments_lexer": "ipython3",
   "version": "3.11.9"
  }
 },
 "nbformat": 4,
 "nbformat_minor": 2
}
